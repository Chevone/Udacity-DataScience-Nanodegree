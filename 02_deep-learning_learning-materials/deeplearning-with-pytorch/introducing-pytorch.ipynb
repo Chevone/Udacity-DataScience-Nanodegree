{
 "cells": [
  {
   "cell_type": "markdown",
   "metadata": {},
   "source": [
    "# Introducting Pytorch\n",
    "___\n",
    "Author: Simon Thornewill von Essen\n",
    "\n",
    "Date: 02/07/2018\n",
    "___\n",
    "\n",
    "In this notebook I'll be taking some quick notes into Pytorches basic functionality.\n",
    "\n",
    "* I installed CUDA using the following [guide](https://www.youtube.com/watch?v=uIm3DMprk7M&t=640s).\n",
    "* You can also install PyTorch using the instructions on the [home website](https://pytorch.org/).\n",
    "\n",
    "# Tensors in Pytorch\n"
   ]
  },
  {
   "cell_type": "code",
   "execution_count": 1,
   "metadata": {},
   "outputs": [],
   "source": [
    "# Import Library\n",
    "import numpy as np\n",
    "import torch"
   ]
  },
  {
   "cell_type": "code",
   "execution_count": 4,
   "metadata": {},
   "outputs": [
    {
     "data": {
      "text/plain": [
       "tensor([[[ 0.0332,  0.1967,  0.3432],\n",
       "         [ 0.0103,  0.6497,  0.8194]],\n",
       "\n",
       "        [[ 0.2869,  0.4825,  0.7549],\n",
       "         [ 0.6744,  0.4039,  0.6299]],\n",
       "\n",
       "        [[ 0.5631,  0.9148,  0.7475],\n",
       "         [ 0.5735,  0.9068,  0.2141]]])"
      ]
     },
     "execution_count": 4,
     "metadata": {},
     "output_type": "execute_result"
    }
   ],
   "source": [
    "# Make random numbers within a tensor\n",
    "x = torch.rand(3, 2, 3)\n",
    "x"
   ]
  },
  {
   "cell_type": "code",
   "execution_count": 5,
   "metadata": {},
   "outputs": [
    {
     "data": {
      "text/plain": [
       "tensor([[[ 1.,  1.,  1.],\n",
       "         [ 1.,  1.,  1.]],\n",
       "\n",
       "        [[ 1.,  1.,  1.],\n",
       "         [ 1.,  1.,  1.]],\n",
       "\n",
       "        [[ 1.,  1.,  1.],\n",
       "         [ 1.,  1.,  1.]]])"
      ]
     },
     "execution_count": 5,
     "metadata": {},
     "output_type": "execute_result"
    }
   ],
   "source": [
    "# Make a tensor with all ones\n",
    "y = torch.ones(3, 2, 3)\n",
    "y"
   ]
  },
  {
   "cell_type": "code",
   "execution_count": 6,
   "metadata": {
    "scrolled": true
   },
   "outputs": [
    {
     "data": {
      "text/plain": [
       "tensor([[[ 1.0332,  1.1967,  1.3432],\n",
       "         [ 1.0103,  1.6497,  1.8194]],\n",
       "\n",
       "        [[ 1.2869,  1.4825,  1.7549],\n",
       "         [ 1.6744,  1.4039,  1.6299]],\n",
       "\n",
       "        [[ 1.5631,  1.9148,  1.7475],\n",
       "         [ 1.5735,  1.9068,  1.2141]]])"
      ]
     },
     "execution_count": 6,
     "metadata": {},
     "output_type": "execute_result"
    }
   ],
   "source": [
    "# Add the two tensors together\n",
    "x+y"
   ]
  },
  {
   "cell_type": "code",
   "execution_count": 8,
   "metadata": {},
   "outputs": [
    {
     "data": {
      "text/plain": [
       "tensor([[[ 1.0332,  1.1967,  1.3432],\n",
       "         [ 1.0103,  1.6497,  1.8194]],\n",
       "\n",
       "        [[ 1.2869,  1.4825,  1.7549],\n",
       "         [ 1.6744,  1.4039,  1.6299]],\n",
       "\n",
       "        [[ 1.5631,  1.9148,  1.7475],\n",
       "         [ 1.5735,  1.9068,  1.2141]]])"
      ]
     },
     "execution_count": 8,
     "metadata": {},
     "output_type": "execute_result"
    }
   ],
   "source": [
    "# Can also be done by\n",
    "x.add(y) # Put this change inplace by using x.add_(y)"
   ]
  },
  {
   "cell_type": "code",
   "execution_count": 9,
   "metadata": {},
   "outputs": [
    {
     "data": {
      "text/plain": [
       "torch.Size([3, 2, 3])"
      ]
     },
     "execution_count": 9,
     "metadata": {},
     "output_type": "execute_result"
    }
   ],
   "source": [
    "# See the size of a tensor by calling size\n",
    "x.size()"
   ]
  },
  {
   "cell_type": "code",
   "execution_count": 15,
   "metadata": {},
   "outputs": [
    {
     "data": {
      "text/plain": [
       "tensor(1.00000e-02 *\n",
       "       3.3218)"
      ]
     },
     "execution_count": 15,
     "metadata": {},
     "output_type": "execute_result"
    }
   ],
   "source": [
    "# Possible to index and slice\n",
    "x[0, 0, 0]"
   ]
  },
  {
   "cell_type": "code",
   "execution_count": 16,
   "metadata": {
    "scrolled": true
   },
   "outputs": [
    {
     "name": "stderr",
     "output_type": "stream",
     "text": [
      "C:\\Users\\SimonThornewill\\Anaconda3\\lib\\site-packages\\torch\\tensor.py:255: UserWarning: non-inplace resize is deprecated\n",
      "  warnings.warn(\"non-inplace resize is deprecated\")\n"
     ]
    },
    {
     "data": {
      "text/plain": [
       "tensor([[[ 0.0332,  0.1967,  0.3432],\n",
       "         [ 0.0103,  0.6497,  0.8194]],\n",
       "\n",
       "        [[ 0.2869,  0.4825,  0.7549],\n",
       "         [ 0.6744,  0.4039,  0.6299]],\n",
       "\n",
       "        [[ 0.5631,  0.9148,  0.7475],\n",
       "         [ 0.5735,  0.9068,  0.2141]]])"
      ]
     },
     "execution_count": 16,
     "metadata": {},
     "output_type": "execute_result"
    }
   ],
   "source": [
    "# Possible to resize by calling resize\n",
    "x.resize(3,2,3)"
   ]
  },
  {
   "cell_type": "markdown",
   "metadata": {},
   "source": [
    "# Numpy to Torch and *vice versa*"
   ]
  },
  {
   "cell_type": "code",
   "execution_count": 18,
   "metadata": {
    "scrolled": true
   },
   "outputs": [
    {
     "data": {
      "text/plain": [
       "array([[[0.97033604, 0.50674193, 0.14767428],\n",
       "        [0.39897096, 0.85528882, 0.80364931],\n",
       "        [0.57189963, 0.99980971, 0.79800547]],\n",
       "\n",
       "       [[0.3521948 , 0.75569838, 0.55938287],\n",
       "        [0.06791237, 0.9287622 , 0.68073479],\n",
       "        [0.43733377, 0.24590249, 0.18478989]],\n",
       "\n",
       "       [[0.84364975, 0.09804201, 0.35874552],\n",
       "        [0.56418681, 0.58625239, 0.82161333],\n",
       "        [0.50789113, 0.39383691, 0.1936377 ]]])"
      ]
     },
     "execution_count": 18,
     "metadata": {},
     "output_type": "execute_result"
    }
   ],
   "source": [
    "# Create random tensor\n",
    "a = np.random.rand(3, 3, 3)\n",
    "a"
   ]
  },
  {
   "cell_type": "code",
   "execution_count": 20,
   "metadata": {},
   "outputs": [
    {
     "data": {
      "text/plain": [
       "tensor([[[ 0.9703,  0.5067,  0.1477],\n",
       "         [ 0.3990,  0.8553,  0.8036],\n",
       "         [ 0.5719,  0.9998,  0.7980]],\n",
       "\n",
       "        [[ 0.3522,  0.7557,  0.5594],\n",
       "         [ 0.0679,  0.9288,  0.6807],\n",
       "         [ 0.4373,  0.2459,  0.1848]],\n",
       "\n",
       "        [[ 0.8436,  0.0980,  0.3587],\n",
       "         [ 0.5642,  0.5863,  0.8216],\n",
       "         [ 0.5079,  0.3938,  0.1936]]], dtype=torch.float64)"
      ]
     },
     "execution_count": 20,
     "metadata": {},
     "output_type": "execute_result"
    }
   ],
   "source": [
    "# Convert to torch\n",
    "b = torch.from_numpy(a)\n",
    "b"
   ]
  },
  {
   "cell_type": "code",
   "execution_count": 21,
   "metadata": {
    "scrolled": true
   },
   "outputs": [
    {
     "data": {
      "text/plain": [
       "array([[[0.97033604, 0.50674193, 0.14767428],\n",
       "        [0.39897096, 0.85528882, 0.80364931],\n",
       "        [0.57189963, 0.99980971, 0.79800547]],\n",
       "\n",
       "       [[0.3521948 , 0.75569838, 0.55938287],\n",
       "        [0.06791237, 0.9287622 , 0.68073479],\n",
       "        [0.43733377, 0.24590249, 0.18478989]],\n",
       "\n",
       "       [[0.84364975, 0.09804201, 0.35874552],\n",
       "        [0.56418681, 0.58625239, 0.82161333],\n",
       "        [0.50789113, 0.39383691, 0.1936377 ]]])"
      ]
     },
     "execution_count": 21,
     "metadata": {},
     "output_type": "execute_result"
    }
   ],
   "source": [
    "# Convert back to numpy\n",
    "b.numpy()"
   ]
  }
 ],
 "metadata": {
  "kernelspec": {
   "display_name": "Python 3",
   "language": "python",
   "name": "python3"
  },
  "language_info": {
   "codemirror_mode": {
    "name": "ipython",
    "version": 3
   },
   "file_extension": ".py",
   "mimetype": "text/x-python",
   "name": "python",
   "nbconvert_exporter": "python",
   "pygments_lexer": "ipython3",
   "version": "3.6.6"
  }
 },
 "nbformat": 4,
 "nbformat_minor": 2
}
