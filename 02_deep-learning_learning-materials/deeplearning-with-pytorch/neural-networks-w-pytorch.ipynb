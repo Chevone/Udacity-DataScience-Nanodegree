{
 "cells": [
  {
   "cell_type": "markdown",
   "metadata": {},
   "source": [
    "# Neural Networks using Pytorch\n",
    "___\n",
    "Author: Simon Thornewill von Essen\n",
    "\n",
    "Date: 02.08.2018\n",
    "___"
   ]
  },
  {
   "cell_type": "markdown",
   "metadata": {},
   "source": [
    "Here I will write a neural network using Pytorch. This is part of the exercise done on the Udacity classroom. I am writing this on my computer so that I can get a better understanding of neural networks by creating one myself instead of watching someone else code it for me. "
   ]
  },
  {
   "cell_type": "code",
   "execution_count": 1,
   "metadata": {
    "collapsed": true
   },
   "outputs": [],
   "source": [
    "# Importing libraries\n",
    "import torch\n",
    "import helper\n",
    "import numpy as np\n",
    "import matplotlib.pyplot as plt\n",
    "import torch.nn.functional as F\n",
    "\n",
    "from torchvision import datasets, transforms\n",
    "from torch import nn\n",
    "from torch import optim\n",
    "\n",
    "\n",
    "%matplotlib inline\n",
    "%config InlineBackend.figure_format = 'retina'"
   ]
  },
  {
   "cell_type": "markdown",
   "metadata": {},
   "source": [
    "## Part 1 - Importing Data\n",
    "\n",
    "Importing the data requires a little more work than just throwing it into memory. Data needs to be normalised so that the neural network trains on the data better. The `transforms.Normalize()` function takes commands to subtract a value from a tensor to get a mean between -1 and 1 and divide by a certain value in order to create the right variance. \n",
    "\n",
    "The training set was downloaded using the datasets function, which comes as a part of `torchvision`. This data is then places into a loader which has the correct batch sizes, and shuffles the data using `torch.utils.data.DataLoader()`.\n",
    "\n",
    "It is then possible to iterate through this dataset using `iter()` and `next()` as shown below. "
   ]
  },
  {
   "cell_type": "code",
   "execution_count": 2,
   "metadata": {
    "collapsed": true
   },
   "outputs": [],
   "source": [
    "# Define a transform to normalize the data\n",
    "transform = transforms.Compose([transforms.ToTensor(),\n",
    "                              transforms.Normalize((0.5, 0.5, 0.5), (0.5, 0.5, 0.5)),\n",
    "                             ])\n",
    "# Download and load the training data\n",
    "trainset = datasets.MNIST('MNIST_data/', download=True, train=True, transform=transform)\n",
    "trainloader = torch.utils.data.DataLoader(trainset, batch_size=64, shuffle=True)\n",
    "\n",
    "# Download and load the test data\n",
    "testset = datasets.MNIST('MNIST_data/', download=True, train=False, transform=transform)\n",
    "testloader = torch.utils.data.DataLoader(testset, batch_size=64, shuffle=True)"
   ]
  },
  {
   "cell_type": "code",
   "execution_count": 3,
   "metadata": {
    "collapsed": true
   },
   "outputs": [],
   "source": [
    "# Define Data Interator\n",
    "dataiter = iter(trainloader)\n",
    "\n",
    "images, labels = dataiter.next()"
   ]
  },
  {
   "cell_type": "code",
   "execution_count": 4,
   "metadata": {},
   "outputs": [
    {
     "data": {
      "image/png": "[encoded data removed]",
      "text/plain": [
       "<matplotlib.figure.Figure at 0x105a4c828>"
      ]
     },
     "metadata": {
      "image/png": {
       "height": 250,
       "width": 253
      }
     },
     "output_type": "display_data"
    }
   ],
   "source": [
    "# Show an image from the dataset\n",
    "plt.imshow(images[0].numpy().squeeze(), cmap='Greys_r');"
   ]
  },
  {
   "cell_type": "markdown",
   "metadata": {},
   "source": [
    "## Part 2 - Defining the Network\n",
    "\n",
    "There are a number of ways of defining neural networks within pytorch, which is both helpful and totally confusing insofar as it makes things complicated. I'll write the numerous ways this can be done below for good measure but I should figure out which one is the least problematic and use that one \n",
    "\n",
    "The network that will be defined will have an input layer, 2 hidden layers, an output layer and a loss layer to calculate the cost for backpropogation. The input layer will be a vector that contains the pixel values for the 28x28 images (784), next the two hidden layers will have 128 and 64 nodes respectively followed by a softmax output layer of 10 to decide the probabilities for each output. \n",
    "\n",
    "### Creating a network class"
   ]
  },
  {
   "cell_type": "code",
   "execution_count": 5,
   "metadata": {
    "collapsed": true
   },
   "outputs": [],
   "source": [
    "# Creating networks through subclasses\n",
    "class Network(nn.Module):\n",
    "    def __init__(self):\n",
    "        \"\"\"\n",
    "        Initialize network using parameters from the nn.Module class.\n",
    "        \n",
    "        This class is hard-coded to create 2 hidden layers and a 10 class output layer. One\n",
    "        possible activity would be to change it so that it accepts a list of layers and creates\n",
    "        them automatically or something.\n",
    "        \"\"\"\n",
    "        # Use parameters from the nn.Module class\n",
    "        super().__init__()\n",
    "        \n",
    "        # Define Layers of network\n",
    "        self.fc1 = nn.Linear(784, 128)\n",
    "        self.fc2 = nn.Linear(128, 128)\n",
    "        self.fc3 = nn.Linear(128, 64)\n",
    "        self.fc4 = nn.Linear(64, 10)\n",
    "    \n",
    "    def forward(self, x): # where x is a pytorch tensor\n",
    "        \"\"\"\n",
    "        Feed-forward function which inputs a pytorch tensor and outputs a classification 1-10.\n",
    "        \n",
    "        Input:\n",
    "        x: pytorch tensor containing the pixel values of a 28*28 image of a hand-written number\n",
    "        \n",
    "        Output: probability that the hand-written number is a certain digit.\n",
    "        \"\"\"\n",
    "        \n",
    "        # Apply transformation from first to 2nd layer (first hidden)\n",
    "        x = self.fc1(x)\n",
    "        \n",
    "        # Apply relu function after weights have been applied\n",
    "        x = F.relu(x)\n",
    "        \n",
    "        # Repeat\n",
    "        x = self.fc2(x)\n",
    "        x = F.relu(x)\n",
    "        x = self.fc3(x)\n",
    "        x = F.relu(x)\n",
    "        x = self.fc4(x)\n",
    "        \n",
    "        # Apply softmax function for the output\n",
    "        # x will be a 64x10 tensor at this point, we want to apply the softmax to that dimension\n",
    "        # i.e. We input 64 images due to the batch size\n",
    "        #x = F.softmax(x, dim=1) \n",
    "        \n",
    "        \"\"\"\n",
    "        Note: Removed softmax because it inhibits the network from learning well.\n",
    "        \"\"\"\n",
    "        \n",
    "        return x    "
   ]
  },
  {
   "cell_type": "code",
   "execution_count": 6,
   "metadata": {
    "collapsed": true,
    "scrolled": true
   },
   "outputs": [],
   "source": [
    "# Create an instance of the Network class built above\n",
    "model = Network()"
   ]
  },
  {
   "cell_type": "markdown",
   "metadata": {},
   "source": [
    "### Other ways of defining networks\n",
    "\n",
    "Pytorch comes with its own way to define networks using a single function to create an instance of the necessary class: `nn.Sequential`\n",
    "\n",
    "```\n",
    "model = nn.Sequential(nn.Linear(784, 128),\n",
    "                     nn.ReLU(),\n",
    "                     nn.Linear(128, 64),\n",
    "                     nn.ReLU(),\n",
    "                     nn.Linear(64, 10),\n",
    "                     nn.Softmax(dim=1))\n",
    "```"
   ]
  },
  {
   "cell_type": "markdown",
   "metadata": {},
   "source": [
    "We can also use other methods such as with an ordered dictionary\n",
    "\n",
    "```\n",
    "from collections import OrderedDict\n",
    "model = nn.Squential(OrderedDict([\n",
    "                                  ('fc1', nn.Linear(784, 128)),\n",
    "                                  ('relu1', nn.ReLU()),\n",
    "                                  ('fc2', nn.Linear(128, 64)),\n",
    "                                  ('relu2', nn.ReLU()),\n",
    "                                  ('output', nn.Linear(784, 128)),\n",
    "                                  ('softmax', nn.Softmax(dim=1))\n",
    "]))\n",
    "```"
   ]
  },
  {
   "cell_type": "markdown",
   "metadata": {},
   "source": [
    "### Initializing weights and biases\n",
    "To access the weights and biases for a specific layer, we simply call the layer with `model.fc1` and then call on either the `weight` or `bias` as shown below. These values can be set by calling the `data` and using the `fill` function and appending an underscore at the end if we wish the change to be \"inplace\":\n",
    "\n",
    "```\n",
    "model.fc1.weight.data.fill_(0)\n",
    "```"
   ]
  },
  {
   "cell_type": "code",
   "execution_count": 7,
   "metadata": {
    "scrolled": true
   },
   "outputs": [
    {
     "data": {
      "text/plain": [
       "tensor([[-4.1550e-02,  1.9221e-02,  1.4732e-01,  ...,  1.4746e-01,\n",
       "          2.5820e-02, -1.0572e-01],\n",
       "        [ 4.9115e-04,  4.0716e-02, -4.0992e-02,  ...,  2.3880e-02,\n",
       "          5.2917e-02,  7.6591e-02],\n",
       "        [-1.4890e-01, -6.4325e-02, -9.2292e-02,  ...,  3.4595e-02,\n",
       "         -1.5332e-01,  7.2390e-02],\n",
       "        ...,\n",
       "        [-4.4269e-02,  1.2430e-02, -6.9621e-02,  ..., -1.6016e-01,\n",
       "          9.1938e-02,  5.5852e-02],\n",
       "        [ 3.6065e-02,  9.6794e-02,  3.0723e-02,  ..., -3.2261e-02,\n",
       "          7.4926e-02,  1.7059e-02],\n",
       "        [-7.8294e-02,  2.6737e-02,  1.9816e-02,  ..., -1.1535e-02,\n",
       "         -1.8127e-02,  1.9700e-02]])"
      ]
     },
     "execution_count": 7,
     "metadata": {},
     "output_type": "execute_result"
    }
   ],
   "source": [
    "# Also possible to initialize w/ random variables that have a normal dist.\n",
    "model.fc1.weight.data.normal_(std=0.1)"
   ]
  },
  {
   "cell_type": "markdown",
   "metadata": {},
   "source": [
    "### Forward Pass\n",
    "\n",
    "Before we train the network, I want to show how we pass data through the network and what sort of an output we recieve in return. \n",
    "\n",
    "We need to convert image to a tensor and then pass it through the operations defines by the network architecture. "
   ]
  },
  {
   "cell_type": "code",
   "execution_count": 8,
   "metadata": {},
   "outputs": [
    {
     "data": {
      "image/png": "[encoded data removed]",
      "text/plain": [
       "<matplotlib.figure.Figure at 0x1178ba0b8>"
      ]
     },
     "metadata": {
      "image/png": {
       "height": 224,
       "width": 423
      }
     },
     "output_type": "display_data"
    }
   ],
   "source": [
    "images, labels = next(iter(trainloader))\n",
    "\n",
    "# Convert to vector\n",
    "# Note that the images tensor has the shape (64, 1, 28, 28) where the loader creates a group of\n",
    "# 64 images\n",
    "images.resize_(images.shape[0], 1, 784)\n",
    "\n",
    "# Calculate probabilities using the model instance\n",
    "ps = model.forward(images[0])\n",
    "\n",
    "helper.view_classify(images[0].view(1, 28, 28), ps)"
   ]
  },
  {
   "cell_type": "markdown",
   "metadata": {},
   "source": [
    "We can see above that the number 5 is passed through the network with randomly defined weights and outputs a probability distribution as shown above. "
   ]
  },
  {
   "cell_type": "markdown",
   "metadata": {},
   "source": [
    "## Training the Network\n",
    "\n",
    "Now that the network has been trained, we can now start passing data through it and training it based on how different the probabilities are from the actual labels. \n",
    "\n",
    "Given out probability distribution of out output and our labels for the image, we need to classify a criterion for how the network calculates the loss based on this information. We then need to backpropogate this loss through the network. (Optimiser)\n",
    "\n",
    "PyTorch also has something called `autograd` which records the operations carried out with a tensor which helps when it comes to backpropogation, allowing it to remember the gradients associated with each node. "
   ]
  },
  {
   "cell_type": "code",
   "execution_count": 9,
   "metadata": {
    "collapsed": true
   },
   "outputs": [],
   "source": [
    "# Define loss criterion\n",
    "criterion = nn.CrossEntropyLoss()\n",
    "\n",
    "# Define optimizer\n",
    "# params are the parameters we want to update, lr is learning rate\n",
    "optimizer = optim.SGD(model.parameters(), lr=0.003)\n",
    "# Define number of epochs to train on (passes through entire dataset)\n",
    "epochs = 3\n",
    "print_every = 40 # Prints every 40 images, 64 images in a batch"
   ]
  },
  {
   "cell_type": "code",
   "execution_count": 10,
   "metadata": {},
   "outputs": [
    {
     "name": "stdout",
     "output_type": "stream",
     "text": [
      "Epoch: 1/3...  Loss: 2.3247\n",
      "Epoch: 1/3...  Loss: 2.2832\n",
      "Epoch: 1/3...  Loss: 2.2610\n",
      "Epoch: 1/3...  Loss: 2.2426\n",
      "Epoch: 1/3...  Loss: 2.2198\n",
      "Epoch: 1/3...  Loss: 2.1964\n",
      "Epoch: 1/3...  Loss: 2.1730\n",
      "Epoch: 1/3...  Loss: 2.1397\n",
      "Epoch: 1/3...  Loss: 2.1093\n",
      "Epoch: 1/3...  Loss: 2.0702\n",
      "Epoch: 1/3...  Loss: 2.0233\n",
      "Epoch: 1/3...  Loss: 1.9896\n",
      "Epoch: 1/3...  Loss: 1.9412\n",
      "Epoch: 1/3...  Loss: 1.8776\n",
      "Epoch: 1/3...  Loss: 1.8341\n",
      "Epoch: 1/3...  Loss: 1.7668\n",
      "Epoch: 1/3...  Loss: 1.6959\n",
      "Epoch: 1/3...  Loss: 1.6459\n",
      "Epoch: 1/3...  Loss: 1.5671\n",
      "Epoch: 1/3...  Loss: 1.4989\n",
      "Epoch: 1/3...  Loss: 1.4340\n",
      "Epoch: 1/3...  Loss: 1.3627\n",
      "Epoch: 1/3...  Loss: 1.3105\n",
      "Epoch: 2/3...  Loss: 0.6644\n",
      "Epoch: 2/3...  Loss: 1.1888\n",
      "Epoch: 2/3...  Loss: 1.1428\n",
      "Epoch: 2/3...  Loss: 1.0917\n",
      "Epoch: 2/3...  Loss: 1.0591\n",
      "Epoch: 2/3...  Loss: 1.0206\n",
      "Epoch: 2/3...  Loss: 0.9711\n",
      "Epoch: 2/3...  Loss: 0.9146\n",
      "Epoch: 2/3...  Loss: 0.9089\n",
      "Epoch: 2/3...  Loss: 0.8997\n",
      "Epoch: 2/3...  Loss: 0.8742\n",
      "Epoch: 2/3...  Loss: 0.8170\n",
      "Epoch: 2/3...  Loss: 0.8102\n",
      "Epoch: 2/3...  Loss: 0.7806\n",
      "Epoch: 2/3...  Loss: 0.7645\n",
      "Epoch: 2/3...  Loss: 0.7529\n",
      "Epoch: 2/3...  Loss: 0.7084\n",
      "Epoch: 2/3...  Loss: 0.7150\n",
      "Epoch: 2/3...  Loss: 0.6804\n",
      "Epoch: 2/3...  Loss: 0.7108\n",
      "Epoch: 2/3...  Loss: 0.6804\n",
      "Epoch: 2/3...  Loss: 0.6504\n",
      "Epoch: 2/3...  Loss: 0.6603\n",
      "Epoch: 3/3...  Loss: 0.0693\n",
      "Epoch: 3/3...  Loss: 0.6116\n",
      "Epoch: 3/3...  Loss: 0.6273\n",
      "Epoch: 3/3...  Loss: 0.5902\n",
      "Epoch: 3/3...  Loss: 0.6271\n",
      "Epoch: 3/3...  Loss: 0.5974\n",
      "Epoch: 3/3...  Loss: 0.6026\n",
      "Epoch: 3/3...  Loss: 0.5491\n",
      "Epoch: 3/3...  Loss: 0.5415\n",
      "Epoch: 3/3...  Loss: 0.5718\n",
      "Epoch: 3/3...  Loss: 0.5487\n",
      "Epoch: 3/3...  Loss: 0.5361\n",
      "Epoch: 3/3...  Loss: 0.5191\n",
      "Epoch: 3/3...  Loss: 0.5502\n",
      "Epoch: 3/3...  Loss: 0.5574\n",
      "Epoch: 3/3...  Loss: 0.5173\n",
      "Epoch: 3/3...  Loss: 0.5318\n",
      "Epoch: 3/3...  Loss: 0.5166\n",
      "Epoch: 3/3...  Loss: 0.4922\n",
      "Epoch: 3/3...  Loss: 0.4853\n",
      "Epoch: 3/3...  Loss: 0.5109\n",
      "Epoch: 3/3...  Loss: 0.5075\n",
      "Epoch: 3/3...  Loss: 0.4800\n",
      "Epoch: 3/3...  Loss: 0.4759\n"
     ]
    }
   ],
   "source": [
    "epochs = 3\n",
    "print_every = 40\n",
    "steps = 0\n",
    "for e in range(epochs):\n",
    "    running_loss = 0\n",
    "    for images, labels in iter(trainloader):\n",
    "        steps += 1\n",
    "        # Flatten MNIST images into a 784 long vector\n",
    "        images.resize_(images.size()[0], 784)\n",
    "        \n",
    "        optimizer.zero_grad()\n",
    "        \n",
    "        # Forward and backward passes\n",
    "        output = model.forward(images)\n",
    "        loss = criterion(output, labels)\n",
    "        loss.backward()\n",
    "        optimizer.step()\n",
    "        \n",
    "        running_loss += loss.item()\n",
    "        \n",
    "        if steps % print_every == 0:\n",
    "            print(\"Epoch: {}/{}... \".format(e+1, epochs),\n",
    "                  \"Loss: {:.4f}\".format(running_loss/print_every))\n",
    "            \n",
    "            running_loss = 0"
   ]
  },
  {
   "cell_type": "markdown",
   "metadata": {},
   "source": [
    "## Test on new data"
   ]
  },
  {
   "cell_type": "code",
   "execution_count": 16,
   "metadata": {},
   "outputs": [
    {
     "data": {
      "image/png": "[encoded data removed]",
      "text/plain": [
       "<matplotlib.figure.Figure at 0x117bd20b8>"
      ]
     },
     "metadata": {
      "image/png": {
       "height": 224,
       "width": 423
      }
     },
     "output_type": "display_data"
    }
   ],
   "source": [
    "images, labels = next(iter(trainloader))\n",
    "\n",
    "img = images[0].view(1, 784)\n",
    "# Turn off gradients to speed up this part\n",
    "with torch.no_grad():\n",
    "    logits = model.forward(img)\n",
    "\n",
    "# Output of the network are logits, need to take softmax for probabilities\n",
    "ps = F.softmax(logits, dim=1)\n",
    "helper.view_classify(img.view(1, 28, 28), ps)"
   ]
  }
 ],
 "metadata": {
  "kernelspec": {
   "display_name": "Python 3",
   "language": "python",
   "name": "python3"
  },
  "language_info": {
   "codemirror_mode": {
    "name": "ipython",
    "version": 3
   },
   "file_extension": ".py",
   "mimetype": "text/x-python",
   "name": "python",
   "nbconvert_exporter": "python",
   "pygments_lexer": "ipython3",
   "version": "3.6.5"
  }
 },
 "nbformat": 4,
 "nbformat_minor": 2
}
