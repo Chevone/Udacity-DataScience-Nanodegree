{
 "cells": [
  {
   "cell_type": "markdown",
   "metadata": {},
   "source": [
    "# Neural Networks using Pytorch\n",
    "___\n",
    "Author: Simon Thornewill von Essen\n",
    "\n",
    "Date: 02.08.2018\n",
    "___"
   ]
  },
  {
   "cell_type": "markdown",
   "metadata": {},
   "source": [
    "Here I will write a neural network using Pytorch. This is part of the exercise done on the Udacity classroom. I am writing this on my computer so that I can get a better understanding of neural networks by creating one myself instead of watching someone else code it for me. "
   ]
  },
  {
   "cell_type": "code",
   "execution_count": 1,
   "metadata": {},
   "outputs": [],
   "source": [
    "# Importing libraries\n",
    "import torch\n",
    "import helper\n",
    "import numpy as np\n",
    "import matplotlib.pyplot as plt\n",
    "import torch.nn.functional as F\n",
    "\n",
    "from torchvision import datasets, transforms\n",
    "from torch import nn\n",
    "from torch import optim\n",
    "\n",
    "\n",
    "%matplotlib inline\n",
    "%config InlineBackend.figure_format = 'retina'"
   ]
  },
  {
   "cell_type": "markdown",
   "metadata": {},
   "source": [
    "## Part 1 - Importing Data\n",
    "\n",
    "Importing the data requires a little more work than just throwing it into memory. Data needs to be normalised so that the neural network trains on the data better. The `transforms.Normalize()` function takes commands to subtract a value from a tensor to get a mean between -1 and 1 and divide by a certain value in order to create the right variance. \n",
    "\n",
    "The training set was downloaded using the datasets function, which comes as a part of `torchvision`. This data is then places into a loader which has the correct batch sizes, and shuffles the data using `torch.utils.data.DataLoader()`.\n",
    "\n",
    "It is then possible to iterate through this dataset using `iter()` and `next()` as shown below. "
   ]
  },
  {
   "cell_type": "code",
   "execution_count": 2,
   "metadata": {},
   "outputs": [],
   "source": [
    "# Define a transform to normalize the data\n",
    "transform = transforms.Compose([transforms.ToTensor(),\n",
    "                              transforms.Normalize((0.5, 0.5, 0.5), (0.5, 0.5, 0.5)),\n",
    "                             ])\n",
    "# Download and load the training data\n",
    "trainset = datasets.MNIST('MNIST_data/', download=True, train=True, transform=transform)\n",
    "trainloader = torch.utils.data.DataLoader(trainset, batch_size=64, shuffle=True)\n",
    "\n",
    "# Download and load the test data\n",
    "testset = datasets.MNIST('MNIST_data/', download=True, train=False, transform=transform)\n",
    "testloader = torch.utils.data.DataLoader(testset, batch_size=64, shuffle=True)"
   ]
  },
  {
   "cell_type": "code",
   "execution_count": 3,
   "metadata": {},
   "outputs": [],
   "source": [
    "# Define Data Interator\n",
    "dataiter = iter(trainloader)\n",
    "\n",
    "images, labels = dataiter.next()"
   ]
  },
  {
   "cell_type": "code",
   "execution_count": 4,
   "metadata": {
    "scrolled": true
   },
   "outputs": [
    {
     "data": {
      "image/png": "[encoded data removed]",
      "text/plain": [
       "<Figure size 432x288 with 1 Axes>"
      ]
     },
     "metadata": {
      "image/png": {
       "height": 250,
       "width": 253
      }
     },
     "output_type": "display_data"
    }
   ],
   "source": [
    "# Show an image from the dataset\n",
    "plt.imshow(images[0].numpy().squeeze(), cmap='Greys_r');"
   ]
  },
  {
   "cell_type": "markdown",
   "metadata": {},
   "source": [
    "## Part 2 - Defining the Network\n",
    "\n",
    "There are a number of ways of defining neural networks within pytorch, which is both helpful and totally confusing insofar as it makes things complicated. I'll write the numerous ways this can be done below for good measure but I should figure out which one is the least problematic and use that one \n",
    "\n",
    "The network that will be defined will have an input layer, 2 hidden layers, an output layer and a loss layer to calculate the cost for backpropogation. The input layer will be a vector that contains the pixel values for the 28x28 images (784), next the two hidden layers will have 128 and 64 nodes respectively followed by a softmax output layer of 10 to decide the probabilities for each output. \n",
    "\n",
    "### Creating a network class"
   ]
  },
  {
   "cell_type": "code",
   "execution_count": 5,
   "metadata": {},
   "outputs": [],
   "source": [
    "# Creating networks through subclasses\n",
    "class Network(nn.Module):\n",
    "    def __init__(self):\n",
    "        \"\"\"\n",
    "        Initialize network using parameters from the nn.Module class.\n",
    "        \n",
    "        This class is hard-coded to create 2 hidden layers and a 10 class output layer. One\n",
    "        possible activity would be to change it so that it accepts a list of layers and creates\n",
    "        them automatically or something.\n",
    "        \"\"\"\n",
    "        # Use parameters from the nn.Module class\n",
    "        super().__init__()\n",
    "        \n",
    "        # Define Layers of network\n",
    "        self.fc1 = nn.Linear(784, 128)\n",
    "        self.fc2 = nn.Linear(128, 64)\n",
    "        self.fc3 = nn.Linear(64, 10)\n",
    "    \n",
    "    def forward(self, x): # where x is a pytorch tensor\n",
    "        \"\"\"\n",
    "        Feed-forward function which inputs a pytorch tensor and outputs a classification 1-10.\n",
    "        \n",
    "        Input:\n",
    "        x: pytorch tensor containing the pixel values of a 28*28 image of a hand-written number\n",
    "        \n",
    "        Output: probability that the hand-written number is a certain digit.\n",
    "        \"\"\"\n",
    "        \n",
    "        # Apply transformation from first to 2nd layer (first hidden)\n",
    "        x = self.fc1(x)\n",
    "        \n",
    "        # Apply relu function after weights have been applied\n",
    "        x = F.relu(x)\n",
    "        \n",
    "        # Repeat\n",
    "        x = self.fc2(x)\n",
    "        x = F.relu(x)\n",
    "        x = self.fc3(x)\n",
    "        \n",
    "        # Apply softmax function for the output\n",
    "        # x will be a 64x10 tensor at this point, we want to apply the softmax to that dimension\n",
    "        # i.e. We input 64 images due to the batch size\n",
    "        x = F.softmax(x, dim=1) \n",
    "        \n",
    "        return x\n",
    "        "
   ]
  },
  {
   "cell_type": "code",
   "execution_count": 6,
   "metadata": {
    "scrolled": true
   },
   "outputs": [
    {
     "data": {
      "text/plain": [
       "Network(\n",
       "  (fc1): Linear(in_features=784, out_features=128, bias=True)\n",
       "  (fc2): Linear(in_features=128, out_features=64, bias=True)\n",
       "  (fc3): Linear(in_features=64, out_features=10, bias=True)\n",
       ")"
      ]
     },
     "execution_count": 6,
     "metadata": {},
     "output_type": "execute_result"
    }
   ],
   "source": [
    "# Create an instance of the Network class built above\n",
    "model = Network()\n",
    "model"
   ]
  },
  {
   "cell_type": "markdown",
   "metadata": {},
   "source": [
    "### Other ways of defining networks\n",
    "\n",
    "Pytorch comes with its own way to define networks using a single function to create an instance of the necessary class: `nn.Sequential`\n",
    "\n",
    "```\n",
    "model = nn.Sequential(nn.Linear(784, 128),\n",
    "                     nn.ReLU(),\n",
    "                     nn.Linear(128, 64),\n",
    "                     nn.ReLU(),\n",
    "                     nn.Linear(64, 10),\n",
    "                     nn.Softmax(dim=1))\n",
    "```"
   ]
  },
  {
   "cell_type": "markdown",
   "metadata": {},
   "source": [
    "We can also use other methods such as with an ordered dictionary\n",
    "\n",
    "```\n",
    "from collections import OrderedDict\n",
    "model = nn.Squential(OrderedDict([\n",
    "                                  ('fc1', nn.Linear(784, 128)),\n",
    "                                  ('relu1', nn.ReLU()),\n",
    "                                  ('fc2', nn.Linear(128, 64)),\n",
    "                                  ('relu2', nn.ReLU()),\n",
    "                                  ('output', nn.Linear(784, 128)),\n",
    "                                  ('softmax', nn.Softmax(dim=1))\n",
    "]))\n",
    "```"
   ]
  },
  {
   "cell_type": "markdown",
   "metadata": {},
   "source": [
    "### Initializing weights and biases\n",
    "To access the weights and biases for a specific layer, we simply call the layer with `model.fc1` and then call on either the `weight` or `bias` as shown below. These values can be set by calling the `data` and using the `fill` function and appending an underscore at the end if we wish the change to be \"inplace\":\n",
    "\n",
    "```\n",
    "model.fc1.weight.data.fill_(0)\n",
    "```"
   ]
  },
  {
   "cell_type": "code",
   "execution_count": 7,
   "metadata": {
    "scrolled": true
   },
   "outputs": [
    {
     "data": {
      "text/plain": [
       "tensor([[-7.2466e-02,  1.1932e-02,  5.0182e-02,  ..., -4.9938e-02,\n",
       "          1.1937e-01,  8.6067e-02],\n",
       "        [ 9.7423e-02, -1.4381e-01, -5.5312e-02,  ..., -9.9089e-02,\n",
       "          2.1877e-01, -8.7262e-02],\n",
       "        [ 1.9387e-01, -1.6990e-02,  1.4197e-02,  ..., -1.0450e-01,\n",
       "          5.9910e-02, -1.4791e-01],\n",
       "        ...,\n",
       "        [ 1.5565e-02, -1.1416e-01,  2.4837e-02,  ...,  2.0368e-02,\n",
       "         -3.4327e-02, -2.4710e-01],\n",
       "        [ 1.5725e-01,  1.3337e-01, -1.2983e-01,  ...,  8.2232e-02,\n",
       "          3.9836e-02, -8.2920e-02],\n",
       "        [-1.1603e-01, -1.5519e-01,  6.9974e-02,  ...,  5.8599e-02,\n",
       "          1.1786e-01,  5.4405e-02]])"
      ]
     },
     "execution_count": 7,
     "metadata": {},
     "output_type": "execute_result"
    }
   ],
   "source": [
    "# Also possible to initialize w/ random variables that have a normal dist.\n",
    "model.fc1.weight.data.normal_(std=0.1)"
   ]
  },
  {
   "cell_type": "markdown",
   "metadata": {},
   "source": [
    "### Forward Pass\n",
    "\n",
    "Before we train the network, I want to show how we pass data through the network and what sort of an output we recieve in return. \n",
    "\n",
    "We need to convert image to a tensor and then pass it through the operations defines by the network architecture. "
   ]
  },
  {
   "cell_type": "code",
   "execution_count": 8,
   "metadata": {},
   "outputs": [
    {
     "data": {
      "image/png": "[encoded data removed]",
      "text/plain": [
       "<Figure size 432x648 with 2 Axes>"
      ]
     },
     "metadata": {
      "image/png": {
       "height": 224,
       "width": 423
      }
     },
     "output_type": "display_data"
    }
   ],
   "source": [
    "images, labels = next(iter(trainloader))\n",
    "\n",
    "# Convert to vector\n",
    "# Note that the images tensor has the shape (64, 1, 28, 28) where the loader creates a group of\n",
    "# 64 images\n",
    "images.resize_(images.shape[0], 1, 784)\n",
    "\n",
    "# Calculate probabilities using the model instance\n",
    "ps = model.forward(images[0])\n",
    "\n",
    "helper.view_classify(images[0].view(1, 28, 28), ps)"
   ]
  },
  {
   "cell_type": "markdown",
   "metadata": {},
   "source": [
    "We can see above that the number 5 is passed through the network with randomly defined weights and outputs a probability distribution as shown above. "
   ]
  },
  {
   "cell_type": "markdown",
   "metadata": {},
   "source": [
    "## Training the Network\n",
    "\n",
    "Now that the network has been trained, we can now start passing data through it and training it based on how different the probabilities are from the actual labels. \n",
    "\n",
    "Given out probability distribution of out output and our labels for the image, we need to classify a criterion for how the network calculates the loss based on this information. We then need to backpropogate this loss through the network. (Optimiser)\n",
    "\n",
    "PyTorch also has something called `autograd` which records the operations carried out with a tensor which helps when it comes to backpropogation, allowing it to remember the gradients associated with each node. "
   ]
  },
  {
   "cell_type": "code",
   "execution_count": 15,
   "metadata": {},
   "outputs": [],
   "source": [
    "# Define loss criterion\n",
    "criterion = nn.CrossEntropyLoss()\n",
    "\n",
    "# Define optimizer\n",
    "# params are the parameters we want to update, lr is learning rate\n",
    "optimizer = optim.SGD(model.parameters(), lr=0.01)\n",
    "\n",
    "# Define number of epochs to train on (passes through entire dataset)\n",
    "epochs = 3\n",
    "print_every = 40 # Prints every 40 images, 64 images in a batch"
   ]
  },
  {
   "cell_type": "code",
   "execution_count": 16,
   "metadata": {},
   "outputs": [
    {
     "name": "stdout",
     "output_type": "stream",
     "text": [
      "Epoch: 1/3...  Loss: 1.5507\n",
      "Epoch: 1/3...  Loss: 1.5717\n",
      "Epoch: 1/3...  Loss: 1.5503\n",
      "Epoch: 1/3...  Loss: 1.5558\n",
      "Epoch: 1/3...  Loss: 1.5479\n",
      "Epoch: 1/3...  Loss: 1.5550\n",
      "Epoch: 1/3...  Loss: 1.5508\n",
      "Epoch: 1/3...  Loss: 1.5599\n",
      "Epoch: 1/3...  Loss: 1.5518\n",
      "Epoch: 1/3...  Loss: 1.5543\n",
      "Epoch: 1/3...  Loss: 1.5627\n",
      "Epoch: 1/3...  Loss: 1.5632\n",
      "Epoch: 1/3...  Loss: 1.5598\n",
      "Epoch: 1/3...  Loss: 1.5658\n",
      "Epoch: 1/3...  Loss: 1.5476\n",
      "Epoch: 1/3...  Loss: 1.5509\n",
      "Epoch: 1/3...  Loss: 1.5634\n",
      "Epoch: 1/3...  Loss: 1.5527\n",
      "Epoch: 1/3...  Loss: 1.5595\n",
      "Epoch: 1/3...  Loss: 1.5520\n",
      "Epoch: 1/3...  Loss: 1.5516\n",
      "Epoch: 1/3...  Loss: 1.5603\n",
      "Epoch: 1/3...  Loss: 1.5618\n",
      "Epoch: 2/3...  Loss: 0.8617\n",
      "Epoch: 2/3...  Loss: 1.5549\n",
      "Epoch: 2/3...  Loss: 1.5606\n",
      "Epoch: 2/3...  Loss: 1.5479\n",
      "Epoch: 2/3...  Loss: 1.5567\n",
      "Epoch: 2/3...  Loss: 1.5586\n",
      "Epoch: 2/3...  Loss: 1.5624\n",
      "Epoch: 2/3...  Loss: 1.5532\n",
      "Epoch: 2/3...  Loss: 1.5506\n",
      "Epoch: 2/3...  Loss: 1.5608\n",
      "Epoch: 2/3...  Loss: 1.5529\n",
      "Epoch: 2/3...  Loss: 1.5447\n",
      "Epoch: 2/3...  Loss: 1.5568\n",
      "Epoch: 2/3...  Loss: 1.5545\n",
      "Epoch: 2/3...  Loss: 1.5605\n",
      "Epoch: 2/3...  Loss: 1.5526\n",
      "Epoch: 2/3...  Loss: 1.5562\n",
      "Epoch: 2/3...  Loss: 1.5551\n",
      "Epoch: 2/3...  Loss: 1.5527\n",
      "Epoch: 2/3...  Loss: 1.5588\n",
      "Epoch: 2/3...  Loss: 1.5454\n",
      "Epoch: 2/3...  Loss: 1.5481\n",
      "Epoch: 2/3...  Loss: 1.5564\n",
      "Epoch: 3/3...  Loss: 0.1562\n",
      "Epoch: 3/3...  Loss: 1.5491\n",
      "Epoch: 3/3...  Loss: 1.5552\n",
      "Epoch: 3/3...  Loss: 1.5489\n",
      "Epoch: 3/3...  Loss: 1.5528\n",
      "Epoch: 3/3...  Loss: 1.5550\n",
      "Epoch: 3/3...  Loss: 1.5539\n",
      "Epoch: 3/3...  Loss: 1.5587\n",
      "Epoch: 3/3...  Loss: 1.5574\n",
      "Epoch: 3/3...  Loss: 1.5441\n",
      "Epoch: 3/3...  Loss: 1.5596\n",
      "Epoch: 3/3...  Loss: 1.5534\n",
      "Epoch: 3/3...  Loss: 1.5542\n",
      "Epoch: 3/3...  Loss: 1.5546\n",
      "Epoch: 3/3...  Loss: 1.5603\n",
      "Epoch: 3/3...  Loss: 1.5555\n",
      "Epoch: 3/3...  Loss: 1.5576\n",
      "Epoch: 3/3...  Loss: 1.5531\n",
      "Epoch: 3/3...  Loss: 1.5575\n",
      "Epoch: 3/3...  Loss: 1.5566\n",
      "Epoch: 3/3...  Loss: 1.5395\n",
      "Epoch: 3/3...  Loss: 1.5487\n",
      "Epoch: 3/3...  Loss: 1.5448\n",
      "Epoch: 3/3...  Loss: 1.5555\n"
     ]
    }
   ],
   "source": [
    "epochs = 3\n",
    "print_every = 40\n",
    "steps = 0\n",
    "for e in range(epochs):\n",
    "    running_loss = 0\n",
    "    for images, labels in iter(trainloader):\n",
    "        steps += 1\n",
    "        # Flatten MNIST images into a 784 long vector\n",
    "        images.resize_(images.size()[0], 784)\n",
    "        \n",
    "        optimizer.zero_grad()\n",
    "        \n",
    "        # Forward and backward passes\n",
    "        output = model.forward(images)\n",
    "        loss = criterion(output, labels)\n",
    "        loss.backward()\n",
    "        optimizer.step()\n",
    "        \n",
    "        running_loss += loss.item()\n",
    "        \n",
    "        if steps % print_every == 0:\n",
    "            print(\"Epoch: {}/{}... \".format(e+1, epochs),\n",
    "                  \"Loss: {:.4f}\".format(running_loss/print_every))\n",
    "            \n",
    "            running_loss = 0"
   ]
  },
  {
   "cell_type": "code",
   "execution_count": 13,
   "metadata": {},
   "outputs": [
    {
     "name": "stdout",
     "output_type": "stream",
     "text": [
      "Epoch: 1/3...  Loss: 1.5776\n",
      "Epoch: 1/3...  Loss: 3.1622\n",
      "Epoch: 1/3...  Loss: 4.7480\n",
      "Epoch: 1/3...  Loss: 6.3272\n",
      "Epoch: 1/3...  Loss: 7.9073\n",
      "Epoch: 1/3...  Loss: 9.4846\n",
      "Epoch: 1/3...  Loss: 11.0644\n",
      "Epoch: 1/3...  Loss: 12.6435\n",
      "Epoch: 1/3...  Loss: 14.2240\n",
      "Epoch: 1/3...  Loss: 15.8081\n",
      "Epoch: 1/3...  Loss: 17.3874\n",
      "Epoch: 1/3...  Loss: 18.9625\n",
      "Epoch: 1/3...  Loss: 20.5374\n",
      "Epoch: 1/3...  Loss: 22.1123\n",
      "Epoch: 1/3...  Loss: 23.6942\n",
      "Epoch: 1/3...  Loss: 25.2652\n",
      "Epoch: 1/3...  Loss: 26.8346\n",
      "Epoch: 1/3...  Loss: 28.4060\n",
      "Epoch: 1/3...  Loss: 29.9829\n",
      "Epoch: 1/3...  Loss: 31.5561\n",
      "Epoch: 1/3...  Loss: 33.1335\n",
      "Epoch: 1/3...  Loss: 34.7126\n",
      "Epoch: 1/3...  Loss: 36.2871\n",
      "Epoch: 2/3...  Loss: 0.8662\n",
      "Epoch: 2/3...  Loss: 2.4397\n",
      "Epoch: 2/3...  Loss: 4.0231\n",
      "Epoch: 2/3...  Loss: 5.6045\n",
      "Epoch: 2/3...  Loss: 7.1752\n",
      "Epoch: 2/3...  Loss: 8.7496\n",
      "Epoch: 2/3...  Loss: 10.3232\n",
      "Epoch: 2/3...  Loss: 11.9083\n",
      "Epoch: 2/3...  Loss: 13.4784\n",
      "Epoch: 2/3...  Loss: 15.0508\n",
      "Epoch: 2/3...  Loss: 16.6138\n",
      "Epoch: 2/3...  Loss: 18.1806\n",
      "Epoch: 2/3...  Loss: 19.7486\n",
      "Epoch: 2/3...  Loss: 21.3201\n",
      "Epoch: 2/3...  Loss: 22.8895\n",
      "Epoch: 2/3...  Loss: 24.4578\n",
      "Epoch: 2/3...  Loss: 26.0370\n",
      "Epoch: 2/3...  Loss: 27.6073\n",
      "Epoch: 2/3...  Loss: 29.1765\n",
      "Epoch: 2/3...  Loss: 30.7469\n",
      "Epoch: 2/3...  Loss: 32.3153\n",
      "Epoch: 2/3...  Loss: 33.8768\n",
      "Epoch: 2/3...  Loss: 35.4442\n",
      "Epoch: 3/3...  Loss: 0.1552\n",
      "Epoch: 3/3...  Loss: 1.7313\n",
      "Epoch: 3/3...  Loss: 3.2995\n",
      "Epoch: 3/3...  Loss: 4.8696\n",
      "Epoch: 3/3...  Loss: 6.4448\n",
      "Epoch: 3/3...  Loss: 8.0223\n",
      "Epoch: 3/3...  Loss: 9.5873\n",
      "Epoch: 3/3...  Loss: 11.1548\n",
      "Epoch: 3/3...  Loss: 12.7287\n",
      "Epoch: 3/3...  Loss: 14.2929\n",
      "Epoch: 3/3...  Loss: 15.8641\n",
      "Epoch: 3/3...  Loss: 17.4241\n",
      "Epoch: 3/3...  Loss: 18.9948\n",
      "Epoch: 3/3...  Loss: 20.5510\n",
      "Epoch: 3/3...  Loss: 22.1175\n",
      "Epoch: 3/3...  Loss: 23.6912\n",
      "Epoch: 3/3...  Loss: 25.2554\n",
      "Epoch: 3/3...  Loss: 26.8175\n",
      "Epoch: 3/3...  Loss: 28.3879\n",
      "Epoch: 3/3...  Loss: 29.9453\n",
      "Epoch: 3/3...  Loss: 31.5163\n",
      "Epoch: 3/3...  Loss: 33.0828\n",
      "Epoch: 3/3...  Loss: 34.6414\n",
      "Epoch: 3/3...  Loss: 36.2130\n"
     ]
    }
   ],
   "source": [
    "# Initialize steps so that we can see the number of steps we took to complete algorithm\n",
    "steps = 0\n",
    "\n",
    "# Loop over the number of epochs\n",
    "for epoch in range(epochs):\n",
    "    \n",
    "    # Record running loss for each epoch\n",
    "    running_loss = 0\n",
    "    \n",
    "    for images, labels in iter(trainloader):\n",
    "        # increment step\n",
    "        steps += 1\n",
    "        \n",
    "        # Resize image to appropriate vector\n",
    "        images.resize_(images.shape[0], 784)\n",
    "        \n",
    "        # Set the gradient to zero, if you don't do this then the gradients will\n",
    "        # get bigger over time\n",
    "        optimizer.zero_grad()\n",
    "        \n",
    "        # Pass image through model\n",
    "        output = model.forward(images)\n",
    "        \n",
    "        # Calculate the loss and backpropogate it\n",
    "        loss = criterion(output, labels)\n",
    "        loss.backward()\n",
    "        optimizer.step()\n",
    "        \n",
    "        # Record running loss\n",
    "        running_loss += loss.item()\n",
    "        \n",
    "        # Print progress every 40 steps\n",
    "        if steps % print_every == 0:\n",
    "            print(\"Epoch: {}/{}... \".format(epoch+1, epochs),\n",
    "                  \"Loss: {:.4f}\".format(running_loss/print_every))"
   ]
  },
  {
   "cell_type": "markdown",
   "metadata": {},
   "source": [
    "## Test on new data"
   ]
  },
  {
   "cell_type": "code",
   "execution_count": 25,
   "metadata": {},
   "outputs": [
    {
     "data": {
      "image/png": "[encoded data removed]",
      "text/plain": [
       "<Figure size 432x648 with 2 Axes>"
      ]
     },
     "metadata": {
      "image/png": {
       "height": 224,
       "width": 423
      }
     },
     "output_type": "display_data"
    }
   ],
   "source": [
    "images, labels = next(iter(trainloader))\n",
    "\n",
    "img = images[0].view(1, 784)\n",
    "# Turn off gradients to speed up this part\n",
    "with torch.no_grad():\n",
    "    logits = model.forward(img)\n",
    "\n",
    "# Output of the network are logits, need to take softmax for probabilities\n",
    "ps = F.softmax(logits, dim=1)\n",
    "helper.view_classify(img.view(1, 28, 28), ps)"
   ]
  }
 ],
 "metadata": {
  "kernelspec": {
   "display_name": "Python 3",
   "language": "python",
   "name": "python3"
  },
  "language_info": {
   "codemirror_mode": {
    "name": "ipython",
    "version": 3
   },
   "file_extension": ".py",
   "mimetype": "text/x-python",
   "name": "python",
   "nbconvert_exporter": "python",
   "pygments_lexer": "ipython3",
   "version": "3.6.6"
  }
 },
 "nbformat": 4,
 "nbformat_minor": 2
}
