{
 "cells": [
  {
   "cell_type": "markdown",
   "metadata": {},
   "source": [
    "# Neural Networks using Pytorch\n",
    "___\n",
    "Author: Simon Thornewill von Essen\n",
    "\n",
    "Date: 02.08.2018\n",
    "___"
   ]
  },
  {
   "cell_type": "markdown",
   "metadata": {},
   "source": [
    "Here I will write a neural network using Pytorch. This is part of the exercise done on the Udacity classroom. I am writing this on my computer so that I can get a better understanding of neural networks by creating one myself instead of watching someone else code it for me. "
   ]
  },
  {
   "cell_type": "code",
   "execution_count": 1,
   "metadata": {
    "collapsed": true
   },
   "outputs": [],
   "source": [
    "# Importing libraries\n",
    "import torch\n",
    "import helper\n",
    "import numpy as np\n",
    "import matplotlib.pyplot as plt\n",
    "import torch.nn.functional as F\n",
    "\n",
    "from torchvision import datasets, transforms\n",
    "from torch import nn\n",
    "from torch import optim\n",
    "\n",
    "\n",
    "%matplotlib inline\n",
    "%config InlineBackend.figure_format = 'retina'"
   ]
  },
  {
   "cell_type": "markdown",
   "metadata": {},
   "source": [
    "## Part 1 - Importing Data\n",
    "\n",
    "Importing the data requires a little more work than just throwing it into memory. Data needs to be normalised so that the neural network trains on the data better. The `transforms.Normalize()` function takes commands to subtract a value from a tensor to get a mean between -1 and 1 and divide by a certain value in order to create the right variance. \n",
    "\n",
    "The training set was downloaded using the datasets function, which comes as a part of `torchvision`. This data is then places into a loader which has the correct batch sizes, and shuffles the data using `torch.utils.data.DataLoader()`.\n",
    "\n",
    "It is then possible to iterate through this dataset using `iter()` and `next()` as shown below. "
   ]
  },
  {
   "cell_type": "code",
   "execution_count": 2,
   "metadata": {
    "collapsed": true
   },
   "outputs": [],
   "source": [
    "# Define a transform to normalize the data\n",
    "transform = transforms.Compose([transforms.ToTensor(),\n",
    "                              transforms.Normalize((0.5, 0.5, 0.5), (0.5, 0.5, 0.5)),\n",
    "                             ])\n",
    "# Download and load the training data\n",
    "trainset = datasets.MNIST('MNIST_data/', download=True, train=True, transform=transform)\n",
    "trainloader = torch.utils.data.DataLoader(trainset, batch_size=64, shuffle=True)\n",
    "\n",
    "# Download and load the test data\n",
    "testset = datasets.MNIST('MNIST_data/', download=True, train=False, transform=transform)\n",
    "testloader = torch.utils.data.DataLoader(testset, batch_size=64, shuffle=True)"
   ]
  },
  {
   "cell_type": "code",
   "execution_count": 3,
   "metadata": {
    "collapsed": true
   },
   "outputs": [],
   "source": [
    "# Define Data Interator\n",
    "dataiter = iter(trainloader)\n",
    "\n",
    "images, labels = dataiter.next()"
   ]
  },
  {
   "cell_type": "code",
   "execution_count": 4,
   "metadata": {},
   "outputs": [
    {
     "data": {
      "image/png": "[encoded data removed]",
      "text/plain": [
       "<matplotlib.figure.Figure at 0x112a0c7f0>"
      ]
     },
     "metadata": {
      "image/png": {
       "height": 250,
       "width": 253
      }
     },
     "output_type": "display_data"
    }
   ],
   "source": [
    "# Show an image from the dataset\n",
    "plt.imshow(images[0].numpy().squeeze(), cmap='Greys_r');"
   ]
  },
  {
   "cell_type": "markdown",
   "metadata": {},
   "source": [
    "## Part 2 - Defining the Network\n",
    "\n",
    "There are a number of ways of defining neural networks within pytorch, which is both helpful and totally confusing insofar as it makes things complicated. I'll write the numerous ways this can be done below for good measure but I should figure out which one is the least problematic and use that one \n",
    "\n",
    "The network that will be defined will have an input layer, 2 hidden layers, an output layer and a loss layer to calculate the cost for backpropogation. The input layer will be a vector that contains the pixel values for the 28x28 images (784), next the two hidden layers will have 128 and 64 nodes respectively followed by a softmax output layer of 10 to decide the probabilities for each output. \n",
    "\n",
    "### Creating a network class"
   ]
  },
  {
   "cell_type": "code",
   "execution_count": 5,
   "metadata": {
    "collapsed": true
   },
   "outputs": [],
   "source": [
    "# Creating networks through subclasses\n",
    "class Network(nn.Module):\n",
    "    def __init__(self):\n",
    "        \"\"\"\n",
    "        Initialize network using parameters from the nn.Module class.\n",
    "        \n",
    "        This class is hard-coded to create 2 hidden layers and a 10 class output layer. One\n",
    "        possible activity would be to change it so that it accepts a list of layers and creates\n",
    "        them automatically or something.\n",
    "        \"\"\"\n",
    "        # Use parameters from the nn.Module class\n",
    "        super().__init__()\n",
    "        \n",
    "        # Define Layers of network\n",
    "        self.fc1 = nn.Linear(784, 128)\n",
    "        self.fc2 = nn.Linear(128, 64)\n",
    "        self.fc3 = nn.Linear(64, 10)\n",
    "    \n",
    "    def forward(self, x): # where x is a pytorch tensor\n",
    "        \"\"\"\n",
    "        Feed-forward function which inputs a pytorch tensor and outputs a classification 1-10.\n",
    "        \n",
    "        Input:\n",
    "        x: pytorch tensor containing the pixel values of a 28*28 image of a hand-written number\n",
    "        \n",
    "        Output: probability that the hand-written number is a certain digit.\n",
    "        \"\"\"\n",
    "        \n",
    "        # Apply transformation from first to 2nd layer (first hidden)\n",
    "        x = self.fc1(x)\n",
    "        \n",
    "        # Apply relu function after weights have been applied\n",
    "        x = F.relu(x)\n",
    "        \n",
    "        # Repeat\n",
    "        x = self.fc2(x)\n",
    "        x = F.relu(x)\n",
    "        x = self.fc3(x)\n",
    "        \n",
    "        # Apply softmax function for the output\n",
    "        # x will be a 64x10 tensor at this point, we want to apply the softmax to that dimension\n",
    "        # i.e. We input 64 images due to the batch size\n",
    "        #x = F.softmax(x, dim=1) \n",
    "        \n",
    "        \"\"\"\n",
    "        Note: Removed softmax because it inhibits the network from learning well for some reason.\n",
    "        \"\"\"\n",
    "        \n",
    "        return x    "
   ]
  },
  {
   "cell_type": "code",
   "execution_count": 6,
   "metadata": {
    "scrolled": true
   },
   "outputs": [],
   "source": [
    "# Create an instance of the Network class built above\n",
    "model = Network()"
   ]
  },
  {
   "cell_type": "code",
   "execution_count": null,
   "metadata": {
    "collapsed": true
   },
   "outputs": [],
   "source": []
  },
  {
   "cell_type": "markdown",
   "metadata": {},
   "source": [
    "### Other ways of defining networks\n",
    "\n",
    "Pytorch comes with its own way to define networks using a single function to create an instance of the necessary class: `nn.Sequential`\n",
    "\n",
    "```\n",
    "model = nn.Sequential(nn.Linear(784, 128),\n",
    "                     nn.ReLU(),\n",
    "                     nn.Linear(128, 64),\n",
    "                     nn.ReLU(),\n",
    "                     nn.Linear(64, 10),\n",
    "                     nn.Softmax(dim=1))\n",
    "```"
   ]
  },
  {
   "cell_type": "markdown",
   "metadata": {},
   "source": [
    "We can also use other methods such as with an ordered dictionary\n",
    "\n",
    "```\n",
    "from collections import OrderedDict\n",
    "model = nn.Squential(OrderedDict([\n",
    "                                  ('fc1', nn.Linear(784, 128)),\n",
    "                                  ('relu1', nn.ReLU()),\n",
    "                                  ('fc2', nn.Linear(128, 64)),\n",
    "                                  ('relu2', nn.ReLU()),\n",
    "                                  ('output', nn.Linear(784, 128)),\n",
    "                                  ('softmax', nn.Softmax(dim=1))\n",
    "]))\n",
    "```"
   ]
  },
  {
   "cell_type": "markdown",
   "metadata": {},
   "source": [
    "### Initializing weights and biases\n",
    "To access the weights and biases for a specific layer, we simply call the layer with `model.fc1` and then call on either the `weight` or `bias` as shown below. These values can be set by calling the `data` and using the `fill` function and appending an underscore at the end if we wish the change to be \"inplace\":\n",
    "\n",
    "```\n",
    "model.fc1.weight.data.fill_(0)\n",
    "```"
   ]
  },
  {
   "cell_type": "code",
   "execution_count": 7,
   "metadata": {
    "scrolled": true
   },
   "outputs": [
    {
     "data": {
      "text/plain": [
       "tensor([[-7.3296e-03,  3.4462e-03,  1.2527e-02,  ...,  5.3936e-02,\n",
       "         -1.9050e-01, -9.0270e-02],\n",
       "        [ 1.5817e-01, -5.9864e-02, -4.4860e-02,  ..., -2.0263e-01,\n",
       "         -6.6451e-02,  3.7106e-02],\n",
       "        [-1.4940e-01,  5.7408e-02,  4.7147e-02,  ...,  1.1507e-01,\n",
       "          3.6918e-02, -1.6545e-01],\n",
       "        ...,\n",
       "        [ 1.3532e-01,  7.7604e-02,  3.4190e-02,  ..., -8.1350e-03,\n",
       "          4.3234e-02, -1.3966e-01],\n",
       "        [-9.8119e-02,  5.1724e-02,  1.2337e-01,  ..., -6.9876e-02,\n",
       "          1.3763e-01,  8.5583e-02],\n",
       "        [ 4.5792e-02, -1.3438e-03,  1.0665e-01,  ..., -6.1114e-02,\n",
       "         -3.3498e-02, -1.0585e-01]])"
      ]
     },
     "execution_count": 7,
     "metadata": {},
     "output_type": "execute_result"
    }
   ],
   "source": [
    "# Also possible to initialize w/ random variables that have a normal dist.\n",
    "model.fc1.weight.data.normal_(std=0.1)"
   ]
  },
  {
   "cell_type": "markdown",
   "metadata": {},
   "source": [
    "### Forward Pass\n",
    "\n",
    "Before we train the network, I want to show how we pass data through the network and what sort of an output we recieve in return. \n",
    "\n",
    "We need to convert image to a tensor and then pass it through the operations defines by the network architecture. "
   ]
  },
  {
   "cell_type": "code",
   "execution_count": 8,
   "metadata": {},
   "outputs": [
    {
     "data": {
      "image/png": "[encoded data removed]",
      "text/plain": [
       "<matplotlib.figure.Figure at 0x106f00668>"
      ]
     },
     "metadata": {
      "image/png": {
       "height": 224,
       "width": 423
      }
     },
     "output_type": "display_data"
    }
   ],
   "source": [
    "images, labels = next(iter(trainloader))\n",
    "\n",
    "# Convert to vector\n",
    "# Note that the images tensor has the shape (64, 1, 28, 28) where the loader creates a group of\n",
    "# 64 images\n",
    "images.resize_(images.shape[0], 1, 784)\n",
    "\n",
    "# Calculate probabilities using the model instance\n",
    "ps = model.forward(images[0])\n",
    "\n",
    "helper.view_classify(images[0].view(1, 28, 28), ps)"
   ]
  },
  {
   "cell_type": "markdown",
   "metadata": {},
   "source": [
    "We can see above that the number 5 is passed through the network with randomly defined weights and outputs a probability distribution as shown above. "
   ]
  },
  {
   "cell_type": "markdown",
   "metadata": {},
   "source": [
    "## Training the Network\n",
    "\n",
    "Now that the network has been trained, we can now start passing data through it and training it based on how different the probabilities are from the actual labels. \n",
    "\n",
    "Given out probability distribution of out output and our labels for the image, we need to classify a criterion for how the network calculates the loss based on this information. We then need to backpropogate this loss through the network. (Optimiser)\n",
    "\n",
    "PyTorch also has something called `autograd` which records the operations carried out with a tensor which helps when it comes to backpropogation, allowing it to remember the gradients associated with each node. "
   ]
  },
  {
   "cell_type": "code",
   "execution_count": 9,
   "metadata": {
    "collapsed": true
   },
   "outputs": [],
   "source": [
    "# Define loss criterion\n",
    "criterion = nn.CrossEntropyLoss()\n",
    "\n",
    "# Define optimizer\n",
    "# params are the parameters we want to update, lr is learning rate\n",
    "optimizer = optim.SGD(model.parameters(), lr=0.003)\n",
    "# Define number of epochs to train on (passes through entire dataset)\n",
    "epochs = 3\n",
    "print_every = 40 # Prints every 40 images, 64 images in a batch"
   ]
  },
  {
   "cell_type": "code",
   "execution_count": 10,
   "metadata": {},
   "outputs": [
    {
     "name": "stdout",
     "output_type": "stream",
     "text": [
      "Epoch: 1/3...  Loss: 2.2908\n",
      "Epoch: 1/3...  Loss: 2.1869\n",
      "Epoch: 1/3...  Loss: 2.1109\n",
      "Epoch: 1/3...  Loss: 2.0230\n",
      "Epoch: 1/3...  Loss: 1.9492\n",
      "Epoch: 1/3...  Loss: 1.8651\n",
      "Epoch: 1/3...  Loss: 1.7728\n",
      "Epoch: 1/3...  Loss: 1.6840\n",
      "Epoch: 1/3...  Loss: 1.6003\n",
      "Epoch: 1/3...  Loss: 1.5076\n",
      "Epoch: 1/3...  Loss: 1.4320\n",
      "Epoch: 1/3...  Loss: 1.3645\n",
      "Epoch: 1/3...  Loss: 1.3020\n",
      "Epoch: 1/3...  Loss: 1.2279\n",
      "Epoch: 1/3...  Loss: 1.1792\n",
      "Epoch: 1/3...  Loss: 1.1130\n",
      "Epoch: 1/3...  Loss: 1.0332\n",
      "Epoch: 1/3...  Loss: 0.9827\n",
      "Epoch: 1/3...  Loss: 0.9500\n",
      "Epoch: 1/3...  Loss: 0.9095\n",
      "Epoch: 1/3...  Loss: 0.8870\n",
      "Epoch: 1/3...  Loss: 0.8405\n",
      "Epoch: 1/3...  Loss: 0.8200\n",
      "Epoch: 2/3...  Loss: 0.4422\n",
      "Epoch: 2/3...  Loss: 0.7818\n",
      "Epoch: 2/3...  Loss: 0.7470\n",
      "Epoch: 2/3...  Loss: 0.7056\n",
      "Epoch: 2/3...  Loss: 0.6969\n",
      "Epoch: 2/3...  Loss: 0.7156\n",
      "Epoch: 2/3...  Loss: 0.6893\n",
      "Epoch: 2/3...  Loss: 0.6666\n",
      "Epoch: 2/3...  Loss: 0.6364\n",
      "Epoch: 2/3...  Loss: 0.6167\n",
      "Epoch: 2/3...  Loss: 0.6094\n",
      "Epoch: 2/3...  Loss: 0.6058\n",
      "Epoch: 2/3...  Loss: 0.6099\n",
      "Epoch: 2/3...  Loss: 0.5814\n",
      "Epoch: 2/3...  Loss: 0.5720\n",
      "Epoch: 2/3...  Loss: 0.5720\n",
      "Epoch: 2/3...  Loss: 0.5278\n",
      "Epoch: 2/3...  Loss: 0.5364\n",
      "Epoch: 2/3...  Loss: 0.5878\n",
      "Epoch: 2/3...  Loss: 0.5411\n",
      "Epoch: 2/3...  Loss: 0.5303\n",
      "Epoch: 2/3...  Loss: 0.5475\n",
      "Epoch: 2/3...  Loss: 0.5150\n",
      "Epoch: 3/3...  Loss: 0.0668\n",
      "Epoch: 3/3...  Loss: 0.4909\n",
      "Epoch: 3/3...  Loss: 0.5002\n",
      "Epoch: 3/3...  Loss: 0.4986\n",
      "Epoch: 3/3...  Loss: 0.5008\n",
      "Epoch: 3/3...  Loss: 0.4817\n",
      "Epoch: 3/3...  Loss: 0.4894\n",
      "Epoch: 3/3...  Loss: 0.4921\n",
      "Epoch: 3/3...  Loss: 0.4809\n",
      "Epoch: 3/3...  Loss: 0.4634\n",
      "Epoch: 3/3...  Loss: 0.4450\n",
      "Epoch: 3/3...  Loss: 0.4878\n",
      "Epoch: 3/3...  Loss: 0.5094\n",
      "Epoch: 3/3...  Loss: 0.5095\n",
      "Epoch: 3/3...  Loss: 0.4851\n",
      "Epoch: 3/3...  Loss: 0.4510\n",
      "Epoch: 3/3...  Loss: 0.4493\n",
      "Epoch: 3/3...  Loss: 0.4517\n",
      "Epoch: 3/3...  Loss: 0.4377\n",
      "Epoch: 3/3...  Loss: 0.4233\n",
      "Epoch: 3/3...  Loss: 0.4181\n",
      "Epoch: 3/3...  Loss: 0.4266\n",
      "Epoch: 3/3...  Loss: 0.4224\n",
      "Epoch: 3/3...  Loss: 0.4315\n"
     ]
    }
   ],
   "source": [
    "epochs = 3\n",
    "print_every = 40\n",
    "steps = 0\n",
    "for e in range(epochs):\n",
    "    running_loss = 0\n",
    "    for images, labels in iter(trainloader):\n",
    "        steps += 1\n",
    "        # Flatten MNIST images into a 784 long vector\n",
    "        images.resize_(images.size()[0], 784)\n",
    "        \n",
    "        optimizer.zero_grad()\n",
    "        \n",
    "        # Forward and backward passes\n",
    "        output = model.forward(images)\n",
    "        loss = criterion(output, labels)\n",
    "        loss.backward()\n",
    "        optimizer.step()\n",
    "        \n",
    "        running_loss += loss.item()\n",
    "        \n",
    "        if steps % print_every == 0:\n",
    "            print(\"Epoch: {}/{}... \".format(e+1, epochs),\n",
    "                  \"Loss: {:.4f}\".format(running_loss/print_every))\n",
    "            \n",
    "            running_loss = 0"
   ]
  },
  {
   "cell_type": "markdown",
   "metadata": {},
   "source": [
    "## Test on new data"
   ]
  },
  {
   "cell_type": "code",
   "execution_count": 11,
   "metadata": {},
   "outputs": [
    {
     "data": {
      "image/png": "[encoded data removed]",
      "text/plain": [
       "<matplotlib.figure.Figure at 0x11a17da90>"
      ]
     },
     "metadata": {
      "image/png": {
       "height": 224,
       "width": 423
      }
     },
     "output_type": "display_data"
    }
   ],
   "source": [
    "images, labels = next(iter(trainloader))\n",
    "\n",
    "img = images[0].view(1, 784)\n",
    "# Turn off gradients to speed up this part\n",
    "with torch.no_grad():\n",
    "    logits = model.forward(img)\n",
    "\n",
    "# Output of the network are logits, need to take softmax for probabilities\n",
    "ps = F.softmax(logits, dim=1)\n",
    "helper.view_classify(img.view(1, 28, 28), ps)"
   ]
  }
 ],
 "metadata": {
  "kernelspec": {
   "display_name": "Python 3",
   "language": "python",
   "name": "python3"
  },
  "language_info": {
   "codemirror_mode": {
    "name": "ipython",
    "version": 3
   },
   "file_extension": ".py",
   "mimetype": "text/x-python",
   "name": "python",
   "nbconvert_exporter": "python",
   "pygments_lexer": "ipython3",
   "version": "3.6.5"
  }
 },
 "nbformat": 4,
 "nbformat_minor": 2
}
