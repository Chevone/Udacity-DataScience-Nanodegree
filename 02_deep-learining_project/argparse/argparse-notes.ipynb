{
 "cells": [
  {
   "cell_type": "markdown",
   "metadata": {},
   "source": [
    "# Argparse notes\n",
    "\n",
    "`argparse` is a python library that allows you to build command line arguments and option processors. This note book is here so that I can help myself walk through the process of using this library."
   ]
  },
  {
   "cell_type": "code",
   "execution_count": 1,
   "metadata": {},
   "outputs": [],
   "source": [
    "# Import libraries\n",
    "import argparse\n",
    "import numpy as np"
   ]
  },
  {
   "cell_type": "markdown",
   "metadata": {},
   "source": [
    "Let's say we want to create a program that calculates the volume of a cylinder. We'll need to define a relevant function first."
   ]
  },
  {
   "cell_type": "code",
   "execution_count": 2,
   "metadata": {},
   "outputs": [],
   "source": [
    "def cylinder_volume(height, radius):\n",
    "    \"\"\"\n",
    "    Calculate the volume of a cylinder from its radius and height.\n",
    "    \n",
    "    radius: int/float, radius of the base of the cylinder\n",
    "    height: height of the cylinder\n",
    "    \n",
    "    returns: volume as a float\n",
    "    \"\"\"\n",
    "    \n",
    "    # Calculate volume using known equality\n",
    "    vol = np.pi * (radius**2) * height\n",
    "    return vol"
   ]
  },
  {
   "cell_type": "markdown",
   "metadata": {},
   "source": [
    "After the function has been defined, we can use argparse so that we can input the radius and height from the command line.\n",
    "\n",
    "Arguments can trigger different actions, specified by the `action` argument to `add_argument()`"
   ]
  },
  {
   "cell_type": "code",
   "execution_count": 3,
   "metadata": {},
   "outputs": [
    {
     "data": {
      "text/plain": [
       "_StoreAction(option_strings=['-H', '--height'], dest='height', nargs=None, const=None, default=None, type=<class 'int'>, choices=None, help='Height of Cylinder', metavar=None)"
      ]
     },
     "execution_count": 3,
     "metadata": {},
     "output_type": "execute_result"
    }
   ],
   "source": [
    "# Create a parser instance from the ArgumentParser class\n",
    "parser = argparse.ArgumentParser(description=\"Calculate volume of a Cylidner\")\n",
    "\n",
    "# Add arguments\n",
    "parser.add_argument('-r', '--radius', type=int, help='Radius of Cylinder', required=True)\n",
    "parser.add_argument('-H', '--height', type=int, help='Height of Cylinder', required=True)"
   ]
  },
  {
   "cell_type": "code",
   "execution_count": 4,
   "metadata": {},
   "outputs": [
    {
     "name": "stdout",
     "output_type": "stream",
     "text": [
      "113.09733552923255\n"
     ]
    }
   ],
   "source": [
    "# Here's an example input\n",
    "args = parser.parse_args(\"-r 3 -H 4\".split()) # in terminal as \"-r 3 -H 4\"\n",
    "\n",
    "print(cylinder_volume(height=args.height, radius=args.radius))"
   ]
  },
  {
   "cell_type": "markdown",
   "metadata": {},
   "source": [
    "Note as well that you can also use mutually exclusive groups"
   ]
  },
  {
   "cell_type": "code",
   "execution_count": 5,
   "metadata": {},
   "outputs": [
    {
     "data": {
      "text/plain": [
       "_StoreTrueAction(option_strings=['-v', '--verb'], dest='verb', nargs=0, const=True, default=False, type=None, choices=None, help='print verbose', metavar=None)"
      ]
     },
     "execution_count": 5,
     "metadata": {},
     "output_type": "execute_result"
    }
   ],
   "source": [
    "# Create mutually exclusive group\n",
    "group = parser.add_mutually_exclusive_group()\n",
    "\n",
    "# Create arguments\n",
    "group.add_argument('-q', '--quiet', action='store_true', help='print quiet')\n",
    "group.add_argument('-v', '--verb', action='store_true', help='print verbose')"
   ]
  },
  {
   "cell_type": "code",
   "execution_count": 8,
   "metadata": {},
   "outputs": [
    {
     "name": "stdout",
     "output_type": "stream",
     "text": [
      "Volume of a Cylinder w/ radius 3 and height 40 is 1130.9733552923256\n"
     ]
    }
   ],
   "source": [
    "# Input another line\n",
    "args = parser.parse_args(\"-r 3 -H 40 -v\".split()) # Change this line as if it were in terminal\n",
    "\n",
    "# Calculate the volume using args\n",
    "volume = cylinder_volume(height=args.height, radius=args.radius)\n",
    "\n",
    "# Create conditions depending on quiet, verbose or none\n",
    "if args.quiet: print(volume)\n",
    "elif args.verb: print(\"Volume of a Cylinder w/ radius {} and height {} is {}\".format(args.radius, \n",
    "                                                                                     args.height, \n",
    "                                                                                     volume))\n",
    "else: print(\"Volume of a Cylinder is {}\".format(volume))"
   ]
  }
 ],
 "metadata": {
  "kernelspec": {
   "display_name": "Python 3",
   "language": "python",
   "name": "python3"
  },
  "language_info": {
   "codemirror_mode": {
    "name": "ipython",
    "version": 3
   },
   "file_extension": ".py",
   "mimetype": "text/x-python",
   "name": "python",
   "nbconvert_exporter": "python",
   "pygments_lexer": "ipython3",
   "version": "3.6.6"
  }
 },
 "nbformat": 4,
 "nbformat_minor": 2
}
