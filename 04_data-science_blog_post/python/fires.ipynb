{
 "cells": [
  {
   "cell_type": "markdown",
   "metadata": {},
   "source": [
    "# Forest Fires Analysis\n",
    "Author: Simon Thornewill von Essen\n",
    "\n",
    "Date: 2019-05-24\n",
    "\n",
    "Forest fires are dangerous to human and animal lives and can cause lots of expensive damage to homes and buildings. As such, it is important firefighting is done efficiently in order to minimise costs. Towards this end, being able to predict forest fires can help with reaction time which can make fires easier to handle. This is especially germane due to global warming increasing the frequency and severity of forest fires.[[1]](https://www.c2es.org/content/wildfires-and-climate-change/) \n",
    "\n",
    "Some preliminary work has been done by Cortez *Et. Al.* to collect some data using relatively cheap sensors and to create a supervised learning model to regress on the total area burned by each fire. They used an SVM in order to achieve this. With a best MAD value of $12.71 \\pm 0.01$ while predicting smaller fires more accurately.\n",
    "\n",
    "I want to try and explore this dataset a little bit and see if I can create a better model using XG-Boost based on some machine learning my colleagues are performing at work on a variable with a similar distribution. \n",
    "\n",
    "## Importing Packages, Data and Comprehension\n",
    "\n",
    "Before doing any serious anyalysis, the data will be imported and some basic discussion over the features in the dataset will be done. "
   ]
  },
  {
   "cell_type": "code",
   "execution_count": 5,
   "metadata": {},
   "outputs": [],
   "source": [
    "# Import the holy trinity, long may they live\n",
    "import numpy as np\n",
    "import pandas as pd\n",
    "import matplotlib.pyplot as plt\n",
    "\n",
    "%matplotlib inline\n",
    "\n",
    "# Import the rest...\n",
    "from pprint import pprint\n",
    "\n",
    "\n",
    "\n",
    "# Acquire a sense of taste\n",
    "plt.style.use(\"seaborn\")"
   ]
  },
  {
   "cell_type": "code",
   "execution_count": 2,
   "metadata": {},
   "outputs": [
    {
     "data": {
      "text/html": [
       "<div>\n",
       "<style scoped>\n",
       "    .dataframe tbody tr th:only-of-type {\n",
       "        vertical-align: middle;\n",
       "    }\n",
       "\n",
       "    .dataframe tbody tr th {\n",
       "        vertical-align: top;\n",
       "    }\n",
       "\n",
       "    .dataframe thead th {\n",
       "        text-align: right;\n",
       "    }\n",
       "</style>\n",
       "<table border=\"1\" class=\"dataframe\">\n",
       "  <thead>\n",
       "    <tr style=\"text-align: right;\">\n",
       "      <th></th>\n",
       "      <th>X</th>\n",
       "      <th>Y</th>\n",
       "      <th>month</th>\n",
       "      <th>day</th>\n",
       "      <th>FFMC</th>\n",
       "      <th>DMC</th>\n",
       "      <th>DC</th>\n",
       "      <th>ISI</th>\n",
       "      <th>temp</th>\n",
       "      <th>RH</th>\n",
       "      <th>wind</th>\n",
       "      <th>rain</th>\n",
       "      <th>area</th>\n",
       "    </tr>\n",
       "  </thead>\n",
       "  <tbody>\n",
       "    <tr>\n",
       "      <th>0</th>\n",
       "      <td>7</td>\n",
       "      <td>5</td>\n",
       "      <td>mar</td>\n",
       "      <td>fri</td>\n",
       "      <td>86.2</td>\n",
       "      <td>26.2</td>\n",
       "      <td>94.3</td>\n",
       "      <td>5.1</td>\n",
       "      <td>8.2</td>\n",
       "      <td>51</td>\n",
       "      <td>6.7</td>\n",
       "      <td>0.0</td>\n",
       "      <td>0.0</td>\n",
       "    </tr>\n",
       "    <tr>\n",
       "      <th>1</th>\n",
       "      <td>7</td>\n",
       "      <td>4</td>\n",
       "      <td>oct</td>\n",
       "      <td>tue</td>\n",
       "      <td>90.6</td>\n",
       "      <td>35.4</td>\n",
       "      <td>669.1</td>\n",
       "      <td>6.7</td>\n",
       "      <td>18.0</td>\n",
       "      <td>33</td>\n",
       "      <td>0.9</td>\n",
       "      <td>0.0</td>\n",
       "      <td>0.0</td>\n",
       "    </tr>\n",
       "    <tr>\n",
       "      <th>2</th>\n",
       "      <td>7</td>\n",
       "      <td>4</td>\n",
       "      <td>oct</td>\n",
       "      <td>sat</td>\n",
       "      <td>90.6</td>\n",
       "      <td>43.7</td>\n",
       "      <td>686.9</td>\n",
       "      <td>6.7</td>\n",
       "      <td>14.6</td>\n",
       "      <td>33</td>\n",
       "      <td>1.3</td>\n",
       "      <td>0.0</td>\n",
       "      <td>0.0</td>\n",
       "    </tr>\n",
       "    <tr>\n",
       "      <th>3</th>\n",
       "      <td>8</td>\n",
       "      <td>6</td>\n",
       "      <td>mar</td>\n",
       "      <td>fri</td>\n",
       "      <td>91.7</td>\n",
       "      <td>33.3</td>\n",
       "      <td>77.5</td>\n",
       "      <td>9.0</td>\n",
       "      <td>8.3</td>\n",
       "      <td>97</td>\n",
       "      <td>4.0</td>\n",
       "      <td>0.2</td>\n",
       "      <td>0.0</td>\n",
       "    </tr>\n",
       "    <tr>\n",
       "      <th>4</th>\n",
       "      <td>8</td>\n",
       "      <td>6</td>\n",
       "      <td>mar</td>\n",
       "      <td>sun</td>\n",
       "      <td>89.3</td>\n",
       "      <td>51.3</td>\n",
       "      <td>102.2</td>\n",
       "      <td>9.6</td>\n",
       "      <td>11.4</td>\n",
       "      <td>99</td>\n",
       "      <td>1.8</td>\n",
       "      <td>0.0</td>\n",
       "      <td>0.0</td>\n",
       "    </tr>\n",
       "  </tbody>\n",
       "</table>\n",
       "</div>"
      ],
      "text/plain": [
       "   X  Y month  day  FFMC   DMC     DC  ISI  temp  RH  wind  rain  area\n",
       "0  7  5   mar  fri  86.2  26.2   94.3  5.1   8.2  51   6.7   0.0   0.0\n",
       "1  7  4   oct  tue  90.6  35.4  669.1  6.7  18.0  33   0.9   0.0   0.0\n",
       "2  7  4   oct  sat  90.6  43.7  686.9  6.7  14.6  33   1.3   0.0   0.0\n",
       "3  8  6   mar  fri  91.7  33.3   77.5  9.0   8.3  97   4.0   0.2   0.0\n",
       "4  8  6   mar  sun  89.3  51.3  102.2  9.6  11.4  99   1.8   0.0   0.0"
      ]
     },
     "execution_count": 2,
     "metadata": {},
     "output_type": "execute_result"
    }
   ],
   "source": [
    "# Import dataset\n",
    "df = pd.read_csv(\"../dat/forestfires.csv\")\n",
    "\n",
    "df.head()"
   ]
  },
  {
   "cell_type": "code",
   "execution_count": 3,
   "metadata": {},
   "outputs": [
    {
     "data": {
      "text/plain": [
       "(517, 13)"
      ]
     },
     "execution_count": 3,
     "metadata": {},
     "output_type": "execute_result"
    }
   ],
   "source": [
    "# Identify shape of dataset\n",
    "df.shape"
   ]
  },
  {
   "cell_type": "markdown",
   "metadata": {},
   "source": [
    "In this dataset we have 517 observations, 12 explanatory variables (features) and one target variable, the area.\n",
    "\n",
    "The variables are as follows;\n",
    "\n",
    "1. X - x-axis spatial coord for Monteshino Park\n",
    "2. Y - y-axis spatial coord for M. Park\n",
    "3. month - month of the year\n",
    "4. day - day of the week\n",
    "5. FFMC - Fine Fuel Moisture Code index of FWI system\n",
    "6. DMC - Duff Moisture Code index of FWI system \n",
    "7. DC - Drought Code index of the FWI system\n",
    "8. ISI - Buildup Index of the FWI system\n",
    "9. temp - temperature in $C^\\circ$\n",
    "10. RH - relative humidity in $\\%$\n",
    "11. wind - wind speed in $km/h$\n",
    "12. rain - rainfall in $mm/m^2$\n",
    "\n",
    "The target variable, fire area, is measured in $ha$."
   ]
  },
  {
   "cell_type": "markdown",
   "metadata": {},
   "source": [
    "### The Canadian Forest Fire Weather Index (FWI) System\n",
    "\n",
    "This dataset makes use of the Canadian Forest Fire Weather Index (FWI) system. [[2]](http://cwfis.cfs.nrcan.gc.ca/background/summary/fwi) These metrics are calculated using the temp., wind, humidity and rain features of the dataset, as seen in the image below.\n",
    "\n",
    "![FWI System](./fwi_structure.gif)\n",
    "\n",
    "This means that although we have 13 features, we probably shouldn't use all features at once, since certain features will be able to be found within each other. This means that we should investigate which features are better predictors of our target variable. For example. Is it better to use simple Wind or Initial Spread Index? Is it better to use a combination of temp. humidity and rain or simply the duff moisture code?\n",
    "\n",
    "### Plan of Attack and Initial Questions\n",
    "\n",
    "First I would like to at least skim the paper associated with this dataset to try and understand the approach of Cortez *Et. Al.*. It would also be a good idea to try and implement their solution and try to achieve similar results before going on to writing my own algorithm.\n",
    "\n",
    "Before doing any modeling however, I would also like check the data for cleanliness and tidiness before doing some EDA using visualisations. \n",
    "\n",
    "Finally, one of the major drawbacks of this dataset is the lack of features. Unfortunately, this means that there is a limited scope for feature engineering, which is typically responsible for the greatest increases in scores for supervised learning. However, I might be able to use the X, Y variables to create some kind of categorical variable to be used for the regression.\n",
    "\n",
    "Leading Questions:\n",
    "1. What variable has the highest correlation with burn area?\n",
    "2. Can I build a model that is better than what is described in this paper?\n",
    "3. Can I use the X, Y coordinates of this dataset to engineer a new variable?\n",
    "\n",
    "### Notes After Reading Paper\n",
    "\n",
    "The notes can be found in the `research` directory of this project. The basic gist of it is to use `c-to-1` encoding for the nominal categorical features and to normalise the rest of the featues on $N(0, 1)$. I should then fit the SVM using grid-search and 10-fold cross validation. I didn't understand anything more specific than that. So this will be my reference model for this analysis.\n",
    "\n",
    "There was a little bit of feature engineering beyond the basic clearning that went into the dataset that I downloaded, but I didn't quite understand what they were doing and so I won't attempt much more than what I attempt to do on my own.\n",
    "\n",
    "This means that my model may not be as performant as the one found in the paper.\n",
    "\n",
    "## EDA: Univariate Analysis\n",
    "\n",
    "First, we want to do a univariage analysis of the data. This means that we check the distributions and some descriptive statistics for each one as necessary. "
   ]
  },
  {
   "cell_type": "code",
   "execution_count": 9,
   "metadata": {},
   "outputs": [
    {
     "data": {
      "text/plain": [
       "['X',\n",
       " 'Y',\n",
       " 'month',\n",
       " 'day',\n",
       " 'FFMC',\n",
       " 'DMC',\n",
       " 'DC',\n",
       " 'ISI',\n",
       " 'temp',\n",
       " 'RH',\n",
       " 'wind',\n",
       " 'rain',\n",
       " 'area']"
      ]
     },
     "execution_count": 9,
     "metadata": {},
     "output_type": "execute_result"
    }
   ],
   "source": [
    "df.columns.tolist()"
   ]
  },
  {
   "cell_type": "markdown",
   "metadata": {},
   "source": [
    "Let's have a look at our features in the following order:\n",
    "1. Target Variable - `area`\n",
    "2. Location - `X`, `Y`\n",
    "3. Time - `Month`, `Day`\n",
    "4. FWI Vars - `FFMC`, `DMC`, `DC`, `ISI`\n",
    "5. Meterological Data - `temp`, `RH`, `wind`, `rain`\n",
    "\n",
    "First up, the area."
   ]
  },
  {
   "cell_type": "code",
   "execution_count": 27,
   "metadata": {},
   "outputs": [
    {
     "data": {
      "image/png": "[encoded data removed]",
      "text/plain": [
       "<Figure size 720x432 with 1 Axes>"
      ]
     },
     "metadata": {},
     "output_type": "display_data"
    }
   ],
   "source": [
    "fig, ax = plt.subplots(figsize=(10,6), facecolor='white', edgecolor='k')\n",
    "plt.hist(df.area, bins=50)\n",
    "plt.ylabel(\"Frequency\")\n",
    "plt.xlabel(\"Burn Area\")\n",
    "plt.title(\"Histogram of Burn Area\")\n",
    "plt.show()"
   ]
  },
  {
   "cell_type": "markdown",
   "metadata": {},
   "source": [
    "We can see above that this variable is *very* outlier driven, which is part of what makes it a difficult dataset to use ML on. However, in order to help make the analysis easier, Cortez *Et. Al.* used the log(n+1) plot of this varaible, so I should do this as well to help make prediction easier."
   ]
  },
  {
   "cell_type": "code",
   "execution_count": 28,
   "metadata": {},
   "outputs": [
    {
     "data": {
      "image/png": "[encoded data removed]",
      "text/plain": [
       "<Figure size 720x432 with 1 Axes>"
      ]
     },
     "metadata": {},
     "output_type": "display_data"
    }
   ],
   "source": [
    "fig, ax = plt.subplots(figsize=(10,6), facecolor='white', edgecolor='k')\n",
    "plt.hist(np.log(df.area + 1), bins=50)\n",
    "plt.ylabel(\"Frequency\")\n",
    "plt.xlabel(\"Burn Area [log(x+1)]\")\n",
    "plt.title(\"Histogram of Burn Area [log(x+1)]\")\n",
    "plt.show()"
   ]
  },
  {
   "cell_type": "markdown",
   "metadata": {},
   "source": [
    "The reason why I choise to do the analysis on this dataset is because this look svery similar to a [tweedie distribution](https://www.statisticshowto.datasciencecentral.com/tweedie-distribution/). Knowing this might help me to predict this varaible a little easier.\n",
    "\n",
    "In any case, I will create a TODO to transform our variable when it is time for modeling."
   ]
  },
  {
   "cell_type": "code",
   "execution_count": 33,
   "metadata": {},
   "outputs": [
    {
     "data": {
      "image/png": "[encoded data removed]",
      "text/plain": [
       "<Figure size 864x432 with 2 Axes>"
      ]
     },
     "metadata": {},
     "output_type": "display_data"
    }
   ],
   "source": [
    "fig, ax = plt.subplots(figsize=(12,6), facecolor='white', edgecolor='k')\n",
    "plt.subplot(1, 2, 1)\n",
    "plt.hist(df.X, bins=10)\n",
    "plt.ylabel(\"Frequency\")\n",
    "plt.xlabel(\"X Coordinate\")\n",
    "plt.title(\"Histogram of X coordinate\")\n",
    "plt.subplot(1, 2, 2)\n",
    "plt.hist(df.Y, bins=10)\n",
    "plt.xlabel(\"Y Coordinate\")\n",
    "plt.title(\"Histogram of Y coordinate\")\n",
    "plt.show()"
   ]
  },
  {
   "cell_type": "markdown",
   "metadata": {},
   "source": [
    "We can see for  for X and Y variables, that the most fires happen in the southern part of the map and not usually in the center. This might be because a small fire will be protected by some kind of wind until it is large enough to not be immediately put out by wind. Meanwhile, it also will have the most access to fuel. This is something that I investigate further in the bivariate analysis.\n",
    "\n",
    "One thing to note is that the Y coordinates seem to be very tightly concentrated on a specific area, while the X coordinate is more spread out.\n",
    "\n",
    "I guess that I shouldnt miss the obvious missing values at the 4,4 coordinate. This might be because there is only rock at this area or something."
   ]
  },
  {
   "cell_type": "code",
   "execution_count": 48,
   "metadata": {
    "scrolled": false
   },
   "outputs": [
    {
     "data": {
      "image/png": "[encoded data removed]",
      "text/plain": [
       "<Figure size 1008x720 with 4 Axes>"
      ]
     },
     "metadata": {},
     "output_type": "display_data"
    }
   ],
   "source": [
    "fig, ax = plt.subplots(figsize=(14,10), facecolor='white', edgecolor='k')\n",
    "plt.subplot(2, 2, 1)\n",
    "plt.hist(df.FFMC, bins=50)\n",
    "plt.ylabel(\"Frequency\")\n",
    "plt.xlabel(\"Fine Fuel Moisture Code\")\n",
    "plt.subplot(2, 2, 2)\n",
    "plt.hist(df.DMC, bins=50)\n",
    "plt.xlabel(\"Duff Moisture Code\")\n",
    "plt.subplot(2, 2, 3)\n",
    "plt.ylabel(\"Frequency\")\n",
    "plt.hist(df.DC, bins=50)\n",
    "plt.xlabel(\"Drought Code\")\n",
    "plt.subplot(2, 2, 4)\n",
    "plt.hist(df.ISI, bins=50)\n",
    "plt.xlabel(\"Initial Spread Index\")\n",
    "plt.show()"
   ]
  },
  {
   "cell_type": "markdown",
   "metadata": {},
   "source": [
    "We can already see that each of the FWI codes can span over very different ranges. \n",
    "\n",
    "There seems to be a many parts in this park that have plenty of fine-fuel, very few sections have less than 60% fine fuel. \n",
    "\n",
    "It's interesting to see that the Moisture and Drought codes look like a loose mirror-image of each other. This kind of makes sense because they both relate to the buildup index.\n",
    "\n",
    "Finally, we can see the initial spread index looks a little like a poisson distribution, even if there is no frequency dimention for this kind of data. (i.e. x per y) Isntead, it is probably best to think of it as a log-normal distribution."
   ]
  },
  {
   "cell_type": "code",
   "execution_count": 47,
   "metadata": {
    "scrolled": true
   },
   "outputs": [
    {
     "data": {
      "image/png": "[encoded data removed]",
      "text/plain": [
       "<Figure size 720x432 with 1 Axes>"
      ]
     },
     "metadata": {},
     "output_type": "display_data"
    }
   ],
   "source": [
    "fig, ax = plt.subplots(figsize=(10,6), facecolor='white', edgecolor='k')\n",
    "plt.hist(np.log(df.ISI+1), bins=10)\n",
    "plt.title(\"Log-Histogram of Initial Spread Index\")\n",
    "plt.xlabel(\"Initial Spread Index\")\n",
    "plt.ylabel(\"Frequency\")\n",
    "plt.show()"
   ]
  },
  {
   "cell_type": "markdown",
   "metadata": {},
   "source": [
    "It seems that although it might have been an iteresting idea that the ISI was log-normal distributed, this doesn't really seem to be the case since it is still a little bit left-skewed. "
   ]
  },
  {
   "cell_type": "code",
   "execution_count": 56,
   "metadata": {
    "scrolled": false
   },
   "outputs": [
    {
     "data": {
      "image/png": "[encoded data removed]",
      "text/plain": [
       "<Figure size 1008x720 with 4 Axes>"
      ]
     },
     "metadata": {},
     "output_type": "display_data"
    }
   ],
   "source": [
    "fig, ax = plt.subplots(figsize=(14,10), facecolor='white', edgecolor='k')\n",
    "plt.subplot(2, 2, 1)\n",
    "plt.hist(df.temp, bins=25)\n",
    "plt.ylabel(\"Frequency\")\n",
    "plt.xlabel(\"Temperature $C^\\circ$\")\n",
    "plt.subplot(2, 2, 2)\n",
    "plt.hist(df.RH, bins=25)\n",
    "plt.xlabel(\"Relative Humidity\")\n",
    "plt.subplot(2, 2, 3)\n",
    "plt.ylabel(\"Frequency\")\n",
    "plt.hist(df.wind, bins=15)\n",
    "plt.xlabel(\"Wind\")\n",
    "plt.subplot(2, 2, 4)\n",
    "plt.hist(df.rain, bins=7)\n",
    "plt.xlabel(\"Rain\")\n",
    "plt.show()"
   ]
  },
  {
   "cell_type": "markdown",
   "metadata": {},
   "source": [
    "The most striking thing about this plot is how most days there is no rain. This would certainly help create forrest fires.\n",
    "\n",
    "Temperature is nicely normally distributed though, which is fun to see.\n",
    "\n",
    "Relative humidity is a little right skewed and wind varies quite a bit."
   ]
  },
  {
   "cell_type": "markdown",
   "metadata": {},
   "source": [
    "## EDA: Bivariate Analysis\n",
    "\n",
    "Text."
   ]
  },
  {
   "cell_type": "code",
   "execution_count": null,
   "metadata": {},
   "outputs": [],
   "source": []
  },
  {
   "cell_type": "code",
   "execution_count": null,
   "metadata": {},
   "outputs": [],
   "source": [
    "# TODO: Correlation plot"
   ]
  },
  {
   "cell_type": "code",
   "execution_count": null,
   "metadata": {},
   "outputs": [],
   "source": [
    "# TODO: Map plot of X and Y coordinates"
   ]
  },
  {
   "cell_type": "markdown",
   "metadata": {},
   "source": [
    "## EDA: Multivariate Analysis\n",
    "\n",
    "Text."
   ]
  },
  {
   "cell_type": "code",
   "execution_count": null,
   "metadata": {},
   "outputs": [],
   "source": [
    "# TODO: Combine Map Plot of (X, Y) with flamability and area burned"
   ]
  },
  {
   "cell_type": "markdown",
   "metadata": {},
   "source": [
    "## EDA: Summary\n",
    "\n",
    "### Univariate\n",
    "\n",
    "Text.\n",
    "\n",
    "### Bivariate\n",
    "\n",
    "Text.\n",
    "\n",
    "### Multivariate\n",
    "\n",
    "Text.\n",
    "\n",
    "## Data Cleaning and Feature Engineering\n",
    "\n",
    "Text."
   ]
  },
  {
   "cell_type": "code",
   "execution_count": null,
   "metadata": {},
   "outputs": [],
   "source": [
    "# TODO: Check for missing values"
   ]
  },
  {
   "cell_type": "code",
   "execution_count": null,
   "metadata": {},
   "outputs": [],
   "source": [
    "# TODO: Split Data into X, y"
   ]
  },
  {
   "cell_type": "code",
   "execution_count": null,
   "metadata": {},
   "outputs": [],
   "source": [
    "# TODO: Transform y into ln(y + 1)"
   ]
  },
  {
   "cell_type": "code",
   "execution_count": null,
   "metadata": {},
   "outputs": [],
   "source": [
    "# TODO: Encode Day, Month into C-to-1"
   ]
  },
  {
   "cell_type": "code",
   "execution_count": null,
   "metadata": {},
   "outputs": [],
   "source": [
    "# TODO: Normalise the rest of the variables on N(0, 1)"
   ]
  },
  {
   "cell_type": "code",
   "execution_count": null,
   "metadata": {},
   "outputs": [],
   "source": [
    "# TODO: Convert X and y into matrices using numpy"
   ]
  },
  {
   "cell_type": "markdown",
   "metadata": {},
   "source": [
    "## ML Models: SVM\n",
    "\n",
    "Text."
   ]
  },
  {
   "cell_type": "code",
   "execution_count": null,
   "metadata": {},
   "outputs": [],
   "source": [
    "# TODO: Feature Selection"
   ]
  },
  {
   "cell_type": "markdown",
   "metadata": {},
   "source": [
    "## ML Models: XGBoost\n",
    "\n",
    "Text."
   ]
  },
  {
   "cell_type": "code",
   "execution_count": null,
   "metadata": {},
   "outputs": [],
   "source": []
  },
  {
   "cell_type": "markdown",
   "metadata": {},
   "source": [
    "## ML Models: Discussion\n",
    "Text."
   ]
  },
  {
   "cell_type": "code",
   "execution_count": null,
   "metadata": {},
   "outputs": [],
   "source": []
  },
  {
   "cell_type": "markdown",
   "metadata": {},
   "source": [
    "## Conclusion\n",
    "Text."
   ]
  }
 ],
 "metadata": {
  "kernelspec": {
   "display_name": "Python 3",
   "language": "python",
   "name": "python3"
  },
  "language_info": {
   "codemirror_mode": {
    "name": "ipython",
    "version": 3
   },
   "file_extension": ".py",
   "mimetype": "text/x-python",
   "name": "python",
   "nbconvert_exporter": "python",
   "pygments_lexer": "ipython3",
   "version": "3.6.8"
  }
 },
 "nbformat": 4,
 "nbformat_minor": 2
}
