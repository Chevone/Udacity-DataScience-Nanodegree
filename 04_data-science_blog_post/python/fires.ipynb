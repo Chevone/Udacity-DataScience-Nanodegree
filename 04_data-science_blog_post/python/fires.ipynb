{
 "cells": [
  {
   "cell_type": "markdown",
   "metadata": {},
   "source": [
    "# Forest Fires Analysis\n",
    "Author: Simon Thornewill von Essen\n",
    "\n",
    "Date: 2019-05-24\n",
    "\n",
    "Forest fires are dangerous to human and animal lives and can cause lots of expensive damage to homes and buildings. As such, it is important firefighting is done efficiently in order to minimise costs. Towards this end, being able to predict forest fires can help with reaction time which can make fires easier to handle. This is especially germane due to global warming increasing the frequency and severity of forest fires.[[1]](https://www.c2es.org/content/wildfires-and-climate-change/) \n",
    "\n",
    "Some preliminary work has been done by Cortez *Et. Al.* to collect some data using relatively cheap sensors and to create a supervised learning model to regress on the total area burned by each fire. They used an SVM in order to achieve this. With a best MAD value of $12.71 \\pm 0.01$ while predicting smaller fires more accurately.\n",
    "\n",
    "I want to try and explore this dataset a little bit and see if I can create a better model using XG-Boost based on some machine learning my colleagues are performing at work on a variable with a similar distribution. \n",
    "\n",
    "## Importing Packages, Data and Comprehension\n",
    "\n",
    "Before doing any serious anyalysis, the data will be imported and some basic discussion over the features in the dataset will be done. "
   ]
  },
  {
   "cell_type": "code",
   "execution_count": 1,
   "metadata": {},
   "outputs": [],
   "source": [
    "# Import the holy trinity, long may they live\n",
    "import numpy as np\n",
    "import matplotlib.pyplot as plt\n",
    "import pandas as pd\n",
    "\n",
    "%matplotlib inline\n",
    "\n",
    "# Import the rest...\n",
    "\n",
    "# Acquire a sense of taste\n",
    "plt.style.use(\"seaborn\")"
   ]
  },
  {
   "cell_type": "code",
   "execution_count": 2,
   "metadata": {},
   "outputs": [
    {
     "data": {
      "text/html": [
       "<div>\n",
       "<style scoped>\n",
       "    .dataframe tbody tr th:only-of-type {\n",
       "        vertical-align: middle;\n",
       "    }\n",
       "\n",
       "    .dataframe tbody tr th {\n",
       "        vertical-align: top;\n",
       "    }\n",
       "\n",
       "    .dataframe thead th {\n",
       "        text-align: right;\n",
       "    }\n",
       "</style>\n",
       "<table border=\"1\" class=\"dataframe\">\n",
       "  <thead>\n",
       "    <tr style=\"text-align: right;\">\n",
       "      <th></th>\n",
       "      <th>X</th>\n",
       "      <th>Y</th>\n",
       "      <th>month</th>\n",
       "      <th>day</th>\n",
       "      <th>FFMC</th>\n",
       "      <th>DMC</th>\n",
       "      <th>DC</th>\n",
       "      <th>ISI</th>\n",
       "      <th>temp</th>\n",
       "      <th>RH</th>\n",
       "      <th>wind</th>\n",
       "      <th>rain</th>\n",
       "      <th>area</th>\n",
       "    </tr>\n",
       "  </thead>\n",
       "  <tbody>\n",
       "    <tr>\n",
       "      <th>0</th>\n",
       "      <td>7</td>\n",
       "      <td>5</td>\n",
       "      <td>mar</td>\n",
       "      <td>fri</td>\n",
       "      <td>86.2</td>\n",
       "      <td>26.2</td>\n",
       "      <td>94.3</td>\n",
       "      <td>5.1</td>\n",
       "      <td>8.2</td>\n",
       "      <td>51</td>\n",
       "      <td>6.7</td>\n",
       "      <td>0.0</td>\n",
       "      <td>0.0</td>\n",
       "    </tr>\n",
       "    <tr>\n",
       "      <th>1</th>\n",
       "      <td>7</td>\n",
       "      <td>4</td>\n",
       "      <td>oct</td>\n",
       "      <td>tue</td>\n",
       "      <td>90.6</td>\n",
       "      <td>35.4</td>\n",
       "      <td>669.1</td>\n",
       "      <td>6.7</td>\n",
       "      <td>18.0</td>\n",
       "      <td>33</td>\n",
       "      <td>0.9</td>\n",
       "      <td>0.0</td>\n",
       "      <td>0.0</td>\n",
       "    </tr>\n",
       "    <tr>\n",
       "      <th>2</th>\n",
       "      <td>7</td>\n",
       "      <td>4</td>\n",
       "      <td>oct</td>\n",
       "      <td>sat</td>\n",
       "      <td>90.6</td>\n",
       "      <td>43.7</td>\n",
       "      <td>686.9</td>\n",
       "      <td>6.7</td>\n",
       "      <td>14.6</td>\n",
       "      <td>33</td>\n",
       "      <td>1.3</td>\n",
       "      <td>0.0</td>\n",
       "      <td>0.0</td>\n",
       "    </tr>\n",
       "    <tr>\n",
       "      <th>3</th>\n",
       "      <td>8</td>\n",
       "      <td>6</td>\n",
       "      <td>mar</td>\n",
       "      <td>fri</td>\n",
       "      <td>91.7</td>\n",
       "      <td>33.3</td>\n",
       "      <td>77.5</td>\n",
       "      <td>9.0</td>\n",
       "      <td>8.3</td>\n",
       "      <td>97</td>\n",
       "      <td>4.0</td>\n",
       "      <td>0.2</td>\n",
       "      <td>0.0</td>\n",
       "    </tr>\n",
       "    <tr>\n",
       "      <th>4</th>\n",
       "      <td>8</td>\n",
       "      <td>6</td>\n",
       "      <td>mar</td>\n",
       "      <td>sun</td>\n",
       "      <td>89.3</td>\n",
       "      <td>51.3</td>\n",
       "      <td>102.2</td>\n",
       "      <td>9.6</td>\n",
       "      <td>11.4</td>\n",
       "      <td>99</td>\n",
       "      <td>1.8</td>\n",
       "      <td>0.0</td>\n",
       "      <td>0.0</td>\n",
       "    </tr>\n",
       "  </tbody>\n",
       "</table>\n",
       "</div>"
      ],
      "text/plain": [
       "   X  Y month  day  FFMC   DMC     DC  ISI  temp  RH  wind  rain  area\n",
       "0  7  5   mar  fri  86.2  26.2   94.3  5.1   8.2  51   6.7   0.0   0.0\n",
       "1  7  4   oct  tue  90.6  35.4  669.1  6.7  18.0  33   0.9   0.0   0.0\n",
       "2  7  4   oct  sat  90.6  43.7  686.9  6.7  14.6  33   1.3   0.0   0.0\n",
       "3  8  6   mar  fri  91.7  33.3   77.5  9.0   8.3  97   4.0   0.2   0.0\n",
       "4  8  6   mar  sun  89.3  51.3  102.2  9.6  11.4  99   1.8   0.0   0.0"
      ]
     },
     "execution_count": 2,
     "metadata": {},
     "output_type": "execute_result"
    }
   ],
   "source": [
    "# Import dataset\n",
    "df = pd.read_csv(\"../dat/forestfires.csv\")\n",
    "\n",
    "df.head()"
   ]
  },
  {
   "cell_type": "code",
   "execution_count": 3,
   "metadata": {},
   "outputs": [
    {
     "data": {
      "text/plain": [
       "(517, 13)"
      ]
     },
     "execution_count": 3,
     "metadata": {},
     "output_type": "execute_result"
    }
   ],
   "source": [
    "# Identify shape of dataset\n",
    "df.shape"
   ]
  },
  {
   "cell_type": "markdown",
   "metadata": {},
   "source": [
    "In this dataset we have 517 observations, 12 explanatory variables (features) and one target variable, the area.\n",
    "\n",
    "The variables are as follows;\n",
    "\n",
    "1. X - x-axis spatial coord for Monteshino Park\n",
    "2. Y - y-axis spatial coord for M. Park\n",
    "3. month - month of the year\n",
    "4. day - day of the week\n",
    "5. FFMC - Fine Fuel Moisture Code index of FWI system\n",
    "6. DMC - Duff Moisture Code index of FWI system \n",
    "7. DC - Drought Code index of the FWI system\n",
    "8. ISI - Buildup Index of the FWI system\n",
    "9. temp - temperature in $C^\\circ$\n",
    "10. RH - relative humidity in $\\%$\n",
    "11. wind - wind speed in $km/h$\n",
    "12. rain - rainfall in $mm/m^2$\n",
    "\n",
    "The target variable, fire area, is measured in $ha$."
   ]
  },
  {
   "cell_type": "markdown",
   "metadata": {},
   "source": [
    "### The Canadian Forest Fire Weather Index (FWI) System\n",
    "\n",
    "This dataset makes use of the Canadian Forest Fire Weather Index (FWI) system. [[2]](http://cwfis.cfs.nrcan.gc.ca/background/summary/fwi) These metrics are calculated using the temp., wind, humidity and rain features of the dataset, as seen in the image below.\n",
    "\n",
    "![FWI System](./fwi_structure.gif)\n",
    "\n",
    "This means that although we have 13 features, we probably shouldn't use all features at once, since certain features will be able to be found within each other. This means that we should investigate which features are better predictors of our target variable. For example. Is it better to use simple Wind or Initial Spread Index? Is it better to use a combination of temp. humidity and rain or simply the duff moisture code?\n",
    "\n",
    "### Plan of Attack and Initial Questions\n",
    "\n",
    "First I would like to at least skim the paper associated with this dataset to try and understand the approach of Cortez *Et. Al.*. It would also be a good idea to try and implement their solution and try to achieve similar results before going on to writing my own algorithm.\n",
    "\n",
    "Before doing any modeling however, I would also like check the data for cleanliness and tidiness before doing some EDA using visualisations. \n",
    "\n",
    "Finally, one of the major drawbacks of this dataset is the lack of features. Unfortunately, this means that there is a limited scope for feature engineering, which is typically responsible for the greatest increases in scores for supervised learning. However, I might be able to use the X, Y variables to create some kind of categorical variable to be used for the regression.\n",
    "\n",
    "Leading Questions:\n",
    "1. What variable has the highest correlation with burn area?\n",
    "2. Can I build a model that is better than what is described in this paper?\n",
    "3. Can I use the X, Y coordinates of this dataset to engineer a new variable?\n",
    "\n",
    "### Notes After Reading Paper\n",
    "\n",
    "The notes can be found in the `research` directory of this project. The basic gist of it is to use `c-to-1` encoding for the nominal categorical features and to normalise the rest of the featues on $N(0, 1)$. I should then fit the SVM using grid-search and 10-fold cross validation. I didn't understand anything more specific than that. So this will be my reference model for this analysis.\n",
    "\n",
    "There was a little bit of feature engineering beyond the basic clearning that went into the dataset that I downloaded, but I didn't quite understand what they were doing and so I won't attempt much more than what I attempt to do on my own.\n",
    "\n",
    "This means that my model may not be as performant as the one found in the paper.\n",
    "\n",
    "## EDA: Univariate Analysis\n",
    "\n",
    "Text."
   ]
  },
  {
   "cell_type": "code",
   "execution_count": null,
   "metadata": {},
   "outputs": [],
   "source": []
  },
  {
   "cell_type": "markdown",
   "metadata": {},
   "source": [
    "## EDA: Bivariate Analysis\n",
    "\n",
    "Text."
   ]
  },
  {
   "cell_type": "code",
   "execution_count": null,
   "metadata": {},
   "outputs": [],
   "source": []
  },
  {
   "cell_type": "markdown",
   "metadata": {},
   "source": [
    "## EDA: Multivariate Analysis\n",
    "\n",
    "Text."
   ]
  },
  {
   "cell_type": "code",
   "execution_count": null,
   "metadata": {},
   "outputs": [],
   "source": []
  },
  {
   "cell_type": "markdown",
   "metadata": {},
   "source": [
    "## EDA: Summary\n",
    "\n",
    "Text.\n",
    "\n",
    "## Data Cleaning and Feature Engineering\n",
    "\n",
    "Text."
   ]
  },
  {
   "cell_type": "code",
   "execution_count": null,
   "metadata": {},
   "outputs": [],
   "source": []
  },
  {
   "cell_type": "markdown",
   "metadata": {},
   "source": [
    "## ML Models: SVM\n",
    "\n",
    "Text."
   ]
  },
  {
   "cell_type": "code",
   "execution_count": null,
   "metadata": {},
   "outputs": [],
   "source": []
  },
  {
   "cell_type": "markdown",
   "metadata": {},
   "source": [
    "## ML Models: XGBoost\n",
    "\n",
    "Text."
   ]
  },
  {
   "cell_type": "code",
   "execution_count": null,
   "metadata": {},
   "outputs": [],
   "source": []
  },
  {
   "cell_type": "markdown",
   "metadata": {},
   "source": [
    "## ML Models: Discussion\n",
    "Text."
   ]
  },
  {
   "cell_type": "code",
   "execution_count": null,
   "metadata": {},
   "outputs": [],
   "source": []
  },
  {
   "cell_type": "markdown",
   "metadata": {},
   "source": [
    "## Conclusion\n",
    "Text."
   ]
  }
 ],
 "metadata": {
  "kernelspec": {
   "display_name": "Python 3",
   "language": "python",
   "name": "python3"
  },
  "language_info": {
   "codemirror_mode": {
    "name": "ipython",
    "version": 3
   },
   "file_extension": ".py",
   "mimetype": "text/x-python",
   "name": "python",
   "nbconvert_exporter": "python",
   "pygments_lexer": "ipython3",
   "version": "3.6.8"
  }
 },
 "nbformat": 4,
 "nbformat_minor": 2
}
