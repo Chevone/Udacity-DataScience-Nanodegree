{
 "cells": [
  {
   "cell_type": "markdown",
   "metadata": {},
   "source": [
    "# **Udacity Capstone Project: Sparify**\n",
    "\n",
    "# Part 1: Project Overview and Problem Statement\n",
    "\n",
    "Many online services make use of subscriptions where users pay monthly for a product that they are using. When the platform is online, it can be profitable to implement a \"freemium\" model where the service is free to the population (usually with ads) and the subscription allows for the removal of ads.\n",
    "\n",
    "In such situations, being able to predict when a user will unsubscribe so that they can be targeted with promotions to try and convince them to stay can reduce loss of potential revenue over time. In this dataset, the actions for a given user have been recorded and will be used towards this end.\n",
    "\n",
    "However, online platforms tend to generate high volumes of data that can be difficult to keep in memory. Big data solutions such as Spark can help to distribute the workload among several computers, allowing machine learning to be done on larger datasets.\n",
    "\n",
    "Thus, we will use Spark in this project to help with our aim of creating a ML model to predict churn on a user level."
   ]
  },
  {
   "cell_type": "markdown",
   "metadata": {},
   "source": [
    "# Part 2: Preparatory Analysis\n",
    "\n",
    "Before doing any machine learning, it is important to load the dataset, perform some cleaning, and do some basic investigation.\n",
    "\n",
    "Depending on correlations, we can decide which features we would like to use in our model (feature selection) and we can also decide which features can be combined or infered to create new features that might provide useful information (feature engineering).\n",
    "\n",
    "\n",
    "## Data Importation and Workspace Setup\n",
    "\n",
    "Below, packages required for this problem will are imported as well as other prepwork for the project.\n",
    "\n",
    "In this workspace, the mini-dataset file is `mini_sparkify_event_data.json`. Cleaning and analysis will be done on this smaller dataset before doing anything with the larger dataset."
   ]
  },
  {
   "cell_type": "markdown",
   "metadata": {},
   "source": [
    "### Import Libraries"
   ]
  },
  {
   "cell_type": "code",
   "execution_count": 1,
   "metadata": {},
   "outputs": [],
   "source": [
    "# import libraries\n",
    "import matplotlib.pyplot as plt\n",
    "import numpy as np\n",
    "import pandas as pd\n",
    "import pickle as pkl\n",
    "import os\n",
    "from tqdm import *\n",
    "\n",
    "from time import time\n",
    "\n",
    "from pyspark.sql import SparkSession\n",
    "from pyspark.sql.functions import udf, col\n",
    "\n",
    "from pyspark.ml.feature import VectorAssembler, Normalizer\n",
    "from pyspark.ml.classification import LogisticRegression, DecisionTreeClassifier, LinearSVC\n",
    "from pyspark.ml.tuning import CrossValidator, ParamGridBuilder, CrossValidatorModel\n",
    "from pyspark.ml.evaluation import BinaryClassificationEvaluator\n",
    "\n",
    "plt.style.use(\"seaborn\")\n",
    "color_cycle = plt.rcParams['axes.prop_cycle'].by_key()['color']"
   ]
  },
  {
   "cell_type": "markdown",
   "metadata": {},
   "source": [
    "### Define Functions"
   ]
  },
  {
   "cell_type": "code",
   "execution_count": 2,
   "metadata": {},
   "outputs": [],
   "source": [
    "def print_cm(tp, tn, fp, fn, print_cm=True, return_cm=False):\n",
    "    \"\"\"\n",
    "    Print confusion matrix given tp, tn, fp and fn.\n",
    "    \n",
    "    Note that array is in following order tp, fp, fn, tn. (Row, across)\n",
    "    \n",
    "    :Inputs:\n",
    "        :tp: Int, True positives\n",
    "        :tn: Int, True Negatives\n",
    "        :fp: Int, False Positives\n",
    "        :fn: Int, False Negatives\n",
    "        :print_cm: Bool, if true then prints cm\n",
    "        :return_cm: Bool, if true then returns cm\n",
    "    :Returns:\n",
    "        :cm: Confusion matrix as numpy array\n",
    "    \"\"\"\n",
    "    \n",
    "    cm = np.array([[tp, fp],\n",
    "                   [fn, tn]])\n",
    "\n",
    "    if print_cm:\n",
    "        print(cm)\n",
    "    \n",
    "    if return_cm:\n",
    "        return cm"
   ]
  },
  {
   "cell_type": "code",
   "execution_count": 3,
   "metadata": {},
   "outputs": [],
   "source": [
    "def get_classification_score(tp, tn, fp, fn, print_stats=True, return_stats=False):\n",
    "    \"\"\"\n",
    "    Prints classification scores given tp, tn, fp and fn.\n",
    "    \n",
    "    :Inputs:\n",
    "        :tp: Int, True positives\n",
    "        :tn: Int, True Negatives\n",
    "        :fp: Int, False Positives\n",
    "        :fn: Int, False Negatives\n",
    "        :print_stats: Bool, if true then prints stats\n",
    "        :return_stats: Bool, if true then returns stats\n",
    "    :Returns:\n",
    "        :accuracy: Number of correct classifications over number of classifications\n",
    "        :precision: Number of true positives out of positive classifications\n",
    "        :recall: Number of true positives out of those that should have been true positives\n",
    "        :f1: Harmonic mean of precision and recall, good overall stat\n",
    "    \"\"\"\n",
    "    \n",
    "    accuracy = (tp+tn)/(tp+tn+fp+fn)\n",
    "\n",
    "    try: precision = tp / (tp + fp) \n",
    "    except ZeroDivisionError: precision = np.NaN\n",
    "\n",
    "    try: recall = tp / (tp + fn)\n",
    "    except ZeroDivisionError: recall = np.NaN\n",
    "    \n",
    "    try: f1 = 2*precision*recall / (precision+recall)\n",
    "    except ZeroDivisionError: f1 = np.NaN\n",
    "        \n",
    "    if print_stats:\n",
    "        print(\"_________________\")\n",
    "        print(\"Confusion Matrix:\")\n",
    "        print(\"\\tAccuracy:\", accuracy)\n",
    "        print(\"\\tPrecision:\", precision)\n",
    "        print(\"\\tRecall:\",recall)\n",
    "        print(\"\\tF1 Score:\", f1)\n",
    "        print(\"_________________\")\n",
    "        \n",
    "    if return_stats:\n",
    "        return accuracy, precision, recall, f1"
   ]
  },
  {
   "cell_type": "markdown",
   "metadata": {},
   "source": [
    "### Spark Setup"
   ]
  },
  {
   "cell_type": "code",
   "execution_count": 4,
   "metadata": {},
   "outputs": [],
   "source": [
    "# create a Spark session\n",
    "spark = SparkSession.builder.master(\"local\").appName(\"Sparkify\").getOrCreate()"
   ]
  },
  {
   "cell_type": "code",
   "execution_count": 5,
   "metadata": {},
   "outputs": [],
   "source": [
    "df = spark.read.json(\"mini_sparkify_event_data.json\")\n",
    "df.persist();"
   ]
  },
  {
   "cell_type": "code",
   "execution_count": 6,
   "metadata": {
    "scrolled": true
   },
   "outputs": [
    {
     "name": "stdout",
     "output_type": "stream",
     "text": [
      "root\n",
      " |-- artist: string (nullable = true)\n",
      " |-- auth: string (nullable = true)\n",
      " |-- firstName: string (nullable = true)\n",
      " |-- gender: string (nullable = true)\n",
      " |-- itemInSession: long (nullable = true)\n",
      " |-- lastName: string (nullable = true)\n",
      " |-- length: double (nullable = true)\n",
      " |-- level: string (nullable = true)\n",
      " |-- location: string (nullable = true)\n",
      " |-- method: string (nullable = true)\n",
      " |-- page: string (nullable = true)\n",
      " |-- registration: long (nullable = true)\n",
      " |-- sessionId: long (nullable = true)\n",
      " |-- song: string (nullable = true)\n",
      " |-- status: long (nullable = true)\n",
      " |-- ts: long (nullable = true)\n",
      " |-- userAgent: string (nullable = true)\n",
      " |-- userId: string (nullable = true)\n",
      "\n"
     ]
    }
   ],
   "source": [
    "df.printSchema()"
   ]
  },
  {
   "cell_type": "code",
   "execution_count": 7,
   "metadata": {},
   "outputs": [
    {
     "data": {
      "text/plain": [
       "[Row(artist='Martha Tilston', auth='Logged In', firstName='Colin', gender='M', itemInSession=50, lastName='Freeman', length=277.89016, level='paid', location='Bakersfield, CA', method='PUT', page='NextSong', registration=1538173362000, sessionId=29, song='Rockpools', status=200, ts=1538352117000, userAgent='Mozilla/5.0 (Windows NT 6.1; WOW64; rv:31.0) Gecko/20100101 Firefox/31.0', userId='30'),\n",
       " Row(artist='Five Iron Frenzy', auth='Logged In', firstName='Micah', gender='M', itemInSession=79, lastName='Long', length=236.09424, level='free', location='Boston-Cambridge-Newton, MA-NH', method='PUT', page='NextSong', registration=1538331630000, sessionId=8, song='Canada', status=200, ts=1538352180000, userAgent='\"Mozilla/5.0 (Windows NT 6.1; WOW64) AppleWebKit/537.36 (KHTML, like Gecko) Chrome/37.0.2062.103 Safari/537.36\"', userId='9'),\n",
       " Row(artist='Adam Lambert', auth='Logged In', firstName='Colin', gender='M', itemInSession=51, lastName='Freeman', length=282.8273, level='paid', location='Bakersfield, CA', method='PUT', page='NextSong', registration=1538173362000, sessionId=29, song='Time For Miracles', status=200, ts=1538352394000, userAgent='Mozilla/5.0 (Windows NT 6.1; WOW64; rv:31.0) Gecko/20100101 Firefox/31.0', userId='30'),\n",
       " Row(artist='Enigma', auth='Logged In', firstName='Micah', gender='M', itemInSession=80, lastName='Long', length=262.71302, level='free', location='Boston-Cambridge-Newton, MA-NH', method='PUT', page='NextSong', registration=1538331630000, sessionId=8, song='Knocking On Forbidden Doors', status=200, ts=1538352416000, userAgent='\"Mozilla/5.0 (Windows NT 6.1; WOW64) AppleWebKit/537.36 (KHTML, like Gecko) Chrome/37.0.2062.103 Safari/537.36\"', userId='9'),\n",
       " Row(artist='Daft Punk', auth='Logged In', firstName='Colin', gender='M', itemInSession=52, lastName='Freeman', length=223.60771, level='paid', location='Bakersfield, CA', method='PUT', page='NextSong', registration=1538173362000, sessionId=29, song='Harder Better Faster Stronger', status=200, ts=1538352676000, userAgent='Mozilla/5.0 (Windows NT 6.1; WOW64; rv:31.0) Gecko/20100101 Firefox/31.0', userId='30')]"
      ]
     },
     "execution_count": 7,
     "metadata": {},
     "output_type": "execute_result"
    }
   ],
   "source": [
    "# Showing a sample of the dataset\n",
    "df.head(5)"
   ]
  },
  {
   "cell_type": "markdown",
   "metadata": {},
   "source": [
    "I personally like taking a look at the head of a RDD by using the `show` method and then copying and pasting the preformatted table that gets printed out into notepad++ or any other code editor. I personally find it more readable than showing a head like above."
   ]
  },
  {
   "cell_type": "code",
   "execution_count": 8,
   "metadata": {
    "scrolled": true
   },
   "outputs": [
    {
     "name": "stdout",
     "output_type": "stream",
     "text": [
      "+----------------+---------+---------+------+-------------+--------+---------+-----+--------------------+------+--------+-------------+---------+--------------------+------+-------------+--------------------+------+\n",
      "|          artist|     auth|firstName|gender|itemInSession|lastName|   length|level|            location|method|    page| registration|sessionId|                song|status|           ts|           userAgent|userId|\n",
      "+----------------+---------+---------+------+-------------+--------+---------+-----+--------------------+------+--------+-------------+---------+--------------------+------+-------------+--------------------+------+\n",
      "|  Martha Tilston|Logged In|    Colin|     M|           50| Freeman|277.89016| paid|     Bakersfield, CA|   PUT|NextSong|1538173362000|       29|           Rockpools|   200|1538352117000|Mozilla/5.0 (Wind...|    30|\n",
      "|Five Iron Frenzy|Logged In|    Micah|     M|           79|    Long|236.09424| free|Boston-Cambridge-...|   PUT|NextSong|1538331630000|        8|              Canada|   200|1538352180000|\"Mozilla/5.0 (Win...|     9|\n",
      "|    Adam Lambert|Logged In|    Colin|     M|           51| Freeman| 282.8273| paid|     Bakersfield, CA|   PUT|NextSong|1538173362000|       29|   Time For Miracles|   200|1538352394000|Mozilla/5.0 (Wind...|    30|\n",
      "|          Enigma|Logged In|    Micah|     M|           80|    Long|262.71302| free|Boston-Cambridge-...|   PUT|NextSong|1538331630000|        8|Knocking On Forbi...|   200|1538352416000|\"Mozilla/5.0 (Win...|     9|\n",
      "|       Daft Punk|Logged In|    Colin|     M|           52| Freeman|223.60771| paid|     Bakersfield, CA|   PUT|NextSong|1538173362000|       29|Harder Better Fas...|   200|1538352676000|Mozilla/5.0 (Wind...|    30|\n",
      "+----------------+---------+---------+------+-------------+--------+---------+-----+--------------------+------+--------+-------------+---------+--------------------+------+-------------+--------------------+------+\n",
      "only showing top 5 rows\n",
      "\n"
     ]
    }
   ],
   "source": [
    "# Showing a sample of the dataset\n",
    "df.show(5)"
   ]
  },
  {
   "cell_type": "markdown",
   "metadata": {},
   "source": [
    "\n",
    "We can already see that there are 12 columns in our data set."
   ]
  },
  {
   "cell_type": "code",
   "execution_count": 9,
   "metadata": {},
   "outputs": [
    {
     "data": {
      "text/html": [
       "<div>\n",
       "<style scoped>\n",
       "    .dataframe tbody tr th:only-of-type {\n",
       "        vertical-align: middle;\n",
       "    }\n",
       "\n",
       "    .dataframe tbody tr th {\n",
       "        vertical-align: top;\n",
       "    }\n",
       "\n",
       "    .dataframe thead th {\n",
       "        text-align: right;\n",
       "    }\n",
       "</style>\n",
       "<table border=\"1\" class=\"dataframe\">\n",
       "  <thead>\n",
       "    <tr style=\"text-align: right;\">\n",
       "      <th></th>\n",
       "      <th>summary</th>\n",
       "      <th>count</th>\n",
       "      <th>mean</th>\n",
       "      <th>stddev</th>\n",
       "      <th>min</th>\n",
       "      <th>max</th>\n",
       "    </tr>\n",
       "  </thead>\n",
       "  <tbody>\n",
       "    <tr>\n",
       "      <th>1</th>\n",
       "      <td>artist</td>\n",
       "      <td>228108</td>\n",
       "      <td>551.0852017937219</td>\n",
       "      <td>1217.7693079161374</td>\n",
       "      <td>!!!</td>\n",
       "      <td>ÃÂlafur Arnalds</td>\n",
       "    </tr>\n",
       "    <tr>\n",
       "      <th>2</th>\n",
       "      <td>auth</td>\n",
       "      <td>286500</td>\n",
       "      <td>None</td>\n",
       "      <td>None</td>\n",
       "      <td>Cancelled</td>\n",
       "      <td>Logged Out</td>\n",
       "    </tr>\n",
       "    <tr>\n",
       "      <th>3</th>\n",
       "      <td>firstName</td>\n",
       "      <td>278154</td>\n",
       "      <td>None</td>\n",
       "      <td>None</td>\n",
       "      <td>Adelaida</td>\n",
       "      <td>Zyonna</td>\n",
       "    </tr>\n",
       "    <tr>\n",
       "      <th>4</th>\n",
       "      <td>gender</td>\n",
       "      <td>278154</td>\n",
       "      <td>None</td>\n",
       "      <td>None</td>\n",
       "      <td>F</td>\n",
       "      <td>M</td>\n",
       "    </tr>\n",
       "    <tr>\n",
       "      <th>5</th>\n",
       "      <td>itemInSession</td>\n",
       "      <td>286500</td>\n",
       "      <td>114.41421291448516</td>\n",
       "      <td>129.76726201140994</td>\n",
       "      <td>0</td>\n",
       "      <td>1321</td>\n",
       "    </tr>\n",
       "    <tr>\n",
       "      <th>6</th>\n",
       "      <td>lastName</td>\n",
       "      <td>278154</td>\n",
       "      <td>None</td>\n",
       "      <td>None</td>\n",
       "      <td>Adams</td>\n",
       "      <td>Wright</td>\n",
       "    </tr>\n",
       "    <tr>\n",
       "      <th>7</th>\n",
       "      <td>length</td>\n",
       "      <td>228108</td>\n",
       "      <td>249.1171819778458</td>\n",
       "      <td>99.23517921058361</td>\n",
       "      <td>0.78322</td>\n",
       "      <td>3024.66567</td>\n",
       "    </tr>\n",
       "    <tr>\n",
       "      <th>8</th>\n",
       "      <td>level</td>\n",
       "      <td>286500</td>\n",
       "      <td>None</td>\n",
       "      <td>None</td>\n",
       "      <td>free</td>\n",
       "      <td>paid</td>\n",
       "    </tr>\n",
       "    <tr>\n",
       "      <th>9</th>\n",
       "      <td>location</td>\n",
       "      <td>278154</td>\n",
       "      <td>None</td>\n",
       "      <td>None</td>\n",
       "      <td>Albany, OR</td>\n",
       "      <td>Winston-Salem, NC</td>\n",
       "    </tr>\n",
       "    <tr>\n",
       "      <th>10</th>\n",
       "      <td>method</td>\n",
       "      <td>286500</td>\n",
       "      <td>None</td>\n",
       "      <td>None</td>\n",
       "      <td>GET</td>\n",
       "      <td>PUT</td>\n",
       "    </tr>\n",
       "    <tr>\n",
       "      <th>11</th>\n",
       "      <td>page</td>\n",
       "      <td>286500</td>\n",
       "      <td>None</td>\n",
       "      <td>None</td>\n",
       "      <td>About</td>\n",
       "      <td>Upgrade</td>\n",
       "    </tr>\n",
       "    <tr>\n",
       "      <th>12</th>\n",
       "      <td>registration</td>\n",
       "      <td>278154</td>\n",
       "      <td>1.5353588340844272E12</td>\n",
       "      <td>3.291321616327586E9</td>\n",
       "      <td>1521380675000</td>\n",
       "      <td>1543247354000</td>\n",
       "    </tr>\n",
       "    <tr>\n",
       "      <th>13</th>\n",
       "      <td>sessionId</td>\n",
       "      <td>286500</td>\n",
       "      <td>1041.526554973822</td>\n",
       "      <td>726.7762634630741</td>\n",
       "      <td>1</td>\n",
       "      <td>2474</td>\n",
       "    </tr>\n",
       "    <tr>\n",
       "      <th>14</th>\n",
       "      <td>song</td>\n",
       "      <td>228108</td>\n",
       "      <td>Infinity</td>\n",
       "      <td>NaN</td>\n",
       "      <td>ÃÂg ÃÂtti GrÃÂ¡a ÃÂsku</td>\n",
       "      <td>ÃÂau hafa sloppiÃÂ° undan ÃÂ¾unga myrkursins</td>\n",
       "    </tr>\n",
       "    <tr>\n",
       "      <th>15</th>\n",
       "      <td>status</td>\n",
       "      <td>286500</td>\n",
       "      <td>210.05459685863875</td>\n",
       "      <td>31.50507848842214</td>\n",
       "      <td>200</td>\n",
       "      <td>404</td>\n",
       "    </tr>\n",
       "    <tr>\n",
       "      <th>16</th>\n",
       "      <td>ts</td>\n",
       "      <td>286500</td>\n",
       "      <td>1.5409568898104834E12</td>\n",
       "      <td>1.5075439608226302E9</td>\n",
       "      <td>1538352117000</td>\n",
       "      <td>1543799476000</td>\n",
       "    </tr>\n",
       "    <tr>\n",
       "      <th>17</th>\n",
       "      <td>userAgent</td>\n",
       "      <td>278154</td>\n",
       "      <td>None</td>\n",
       "      <td>None</td>\n",
       "      <td>\"Mozilla/5.0 (Macintosh; Intel Mac OS X 10_10)...</td>\n",
       "      <td>Mozilla/5.0 (compatible; MSIE 9.0; Windows NT ...</td>\n",
       "    </tr>\n",
       "    <tr>\n",
       "      <th>18</th>\n",
       "      <td>userId</td>\n",
       "      <td>286500</td>\n",
       "      <td>59682.02278593872</td>\n",
       "      <td>109091.9499991047</td>\n",
       "      <td></td>\n",
       "      <td>99</td>\n",
       "    </tr>\n",
       "  </tbody>\n",
       "</table>\n",
       "</div>"
      ],
      "text/plain": [
       "0         summary   count                   mean                stddev  \\\n",
       "1          artist  228108      551.0852017937219    1217.7693079161374   \n",
       "2            auth  286500                   None                  None   \n",
       "3       firstName  278154                   None                  None   \n",
       "4          gender  278154                   None                  None   \n",
       "5   itemInSession  286500     114.41421291448516    129.76726201140994   \n",
       "6        lastName  278154                   None                  None   \n",
       "7          length  228108      249.1171819778458     99.23517921058361   \n",
       "8           level  286500                   None                  None   \n",
       "9        location  278154                   None                  None   \n",
       "10         method  286500                   None                  None   \n",
       "11           page  286500                   None                  None   \n",
       "12   registration  278154  1.5353588340844272E12   3.291321616327586E9   \n",
       "13      sessionId  286500      1041.526554973822     726.7762634630741   \n",
       "14           song  228108               Infinity                   NaN   \n",
       "15         status  286500     210.05459685863875     31.50507848842214   \n",
       "16             ts  286500  1.5409568898104834E12  1.5075439608226302E9   \n",
       "17      userAgent  278154                   None                  None   \n",
       "18         userId  286500      59682.02278593872     109091.9499991047   \n",
       "\n",
       "0                                                 min  \\\n",
       "1                                                 !!!   \n",
       "2                                           Cancelled   \n",
       "3                                            Adelaida   \n",
       "4                                                   F   \n",
       "5                                                   0   \n",
       "6                                               Adams   \n",
       "7                                             0.78322   \n",
       "8                                                free   \n",
       "9                                          Albany, OR   \n",
       "10                                                GET   \n",
       "11                                              About   \n",
       "12                                      1521380675000   \n",
       "13                                                  1   \n",
       "14                     \n",
       "ÃÂg ÃÂtti GrÃÂ¡a ÃÂsku   \n",
       "15                                                200   \n",
       "16                                      1538352117000   \n",
       "17  \"Mozilla/5.0 (Macintosh; Intel Mac OS X 10_10)...   \n",
       "18                                                      \n",
       "\n",
       "0                                                 max  \n",
       "1                                   ÃÂlafur Arnalds  \n",
       "2                                          Logged Out  \n",
       "3                                              Zyonna  \n",
       "4                                                   M  \n",
       "5                                                1321  \n",
       "6                                              Wright  \n",
       "7                                          3024.66567  \n",
       "8                                                paid  \n",
       "9                                   Winston-Salem, NC  \n",
       "10                                                PUT  \n",
       "11                                            Upgrade  \n",
       "12                                      1543247354000  \n",
       "13                                               2474  \n",
       "14   ÃÂau hafa sloppiÃÂ° undan ÃÂ¾unga myrkursins  \n",
       "15                                                404  \n",
       "16                                      1543799476000  \n",
       "17  Mozilla/5.0 (compatible; MSIE 9.0; Windows NT ...  \n",
       "18                                                 99  "
      ]
     },
     "execution_count": 9,
     "metadata": {},
     "output_type": "execute_result"
    }
   ],
   "source": [
    "# Get a quick description of the dataset\n",
    "spark_description = df.describe().collect()\n",
    "\n",
    "# Create Dict for Description Dataframe (Doing this for easy viewing)\n",
    "description_dict = dict()\n",
    "for i in spark_description:\n",
    "    \n",
    "    # Turn i into dictionary\n",
    "    i = i.asDict()\n",
    "    \n",
    "    for k, v in i.items():\n",
    "        try:\n",
    "            description_dict[k].append(v)\n",
    "        except KeyError:\n",
    "            description_dict[k] = []\n",
    "            description_dict[k].append(v)\n",
    "\n",
    "# Create dataframe and reshape\n",
    "df_desc = pd.DataFrame(description_dict).T.reset_index()\n",
    "df_desc.columns = df_desc.iloc[0]\n",
    "df_desc = df_desc[1:]\n",
    "\n",
    "df_desc"
   ]
  },
  {
   "cell_type": "markdown",
   "metadata": {},
   "source": [
    "## Data Cleaning\n",
    "\n",
    "### First Looks\n",
    "\n",
    "Now that the data has been imported, the first and most obvious thing to check for is missing and duplicated values. \n",
    "\n",
    "Since I am relatively comfortable with SQL, I will try and use that a little. In order to do that I need to create a temp view within the spark object that created the dataframe using the `createOrReplaceTempView` method."
   ]
  },
  {
   "cell_type": "code",
   "execution_count": 10,
   "metadata": {},
   "outputs": [],
   "source": [
    "# Create Temp View\n",
    "df.createOrReplaceTempView(\"df\")"
   ]
  },
  {
   "cell_type": "markdown",
   "metadata": {},
   "source": [
    "Now that this is complete, we can look at the null values for each column."
   ]
  },
  {
   "cell_type": "code",
   "execution_count": 11,
   "metadata": {},
   "outputs": [
    {
     "name": "stdout",
     "output_type": "stream",
     "text": [
      "artist 58392\n",
      "auth None\n",
      "firstName 8346\n",
      "gender 8346\n",
      "itemInSession None\n",
      "lastName 8346\n",
      "length 58392\n",
      "level None\n",
      "location 8346\n",
      "method None\n",
      "page None\n",
      "registration 8346\n",
      "sessionId None\n",
      "song 58392\n",
      "status None\n",
      "ts None\n",
      "userAgent 8346\n",
      "userId None\n"
     ]
    }
   ],
   "source": [
    "null_dict = {}\n",
    "\n",
    "for i in df.columns:\n",
    "    \n",
    "    nulls = spark.sql(\"SELECT SUM(CASE WHEN {} IS NULL THEN 1 ELSE 0 END) AS null_{} \\\n",
    "                    FROM df \\\n",
    "                    where {} is null\".format(i, i, i)).collect()[0][\"null_{}\".format(i)]\n",
    "    \n",
    "    print(i, nulls)\n",
    "    null_dict[i] = nulls"
   ]
  },
  {
   "cell_type": "markdown",
   "metadata": {},
   "source": [
    "We can see that there are 58k rows where the artist and song names are null. This could be because in this instance, the page that was visited was not intended to play a song. \n",
    "\n",
    "We can also see that there are several columns which are never null;\n",
    "\n",
    "* auth\n",
    "* itemInSession\n",
    "* level\n",
    "* method\n",
    "* page\n",
    "* sessionId\n",
    "* status\n",
    "* ts\n",
    "* userId\n",
    "\n",
    "This tells us that we have users who commit actions during a session. So, the unique key should be something like (userId, ts). We can quickly verify that:"
   ]
  },
  {
   "cell_type": "code",
   "execution_count": 12,
   "metadata": {},
   "outputs": [
    {
     "data": {
      "text/plain": [
       "[Row(userId='98', ts=1538838475000, n_rows=3),\n",
       " Row(userId='95', ts=1539665400000, n_rows=3),\n",
       " Row(userId='100022', ts=1541463867000, n_rows=3),\n",
       " Row(userId='', ts=1538488477000, n_rows=2),\n",
       " Row(userId='118', ts=1540521007000, n_rows=2),\n",
       " Row(userId='152', ts=1543206099000, n_rows=2),\n",
       " Row(userId='30', ts=1543436963000, n_rows=2),\n",
       " Row(userId='36', ts=1539070836000, n_rows=2),\n",
       " Row(userId='9', ts=1539714540000, n_rows=2),\n",
       " Row(userId='132', ts=1542791668000, n_rows=2)]"
      ]
     },
     "execution_count": 12,
     "metadata": {},
     "output_type": "execute_result"
    }
   ],
   "source": [
    "# Test for unique key\n",
    "spark.sql(\"SELECT userId, ts, count(*) AS n_rows \\\n",
    "        FROM df \\\n",
    "        GROUP BY 1, 2\\\n",
    "        HAVING count(*) > 1 \\\n",
    "        ORDER BY 3 DESC \\\n",
    "        LIMIT 10\").collect()"
   ]
  },
  {
   "cell_type": "code",
   "execution_count": 13,
   "metadata": {},
   "outputs": [
    {
     "data": {
      "text/plain": [
       "[Row(count(1)=783)]"
      ]
     },
     "execution_count": 13,
     "metadata": {},
     "output_type": "execute_result"
    }
   ],
   "source": [
    "# Find number of userid-timestamp combinations that have duplicated rows\n",
    "spark.sql(\"WITH T AS (SELECT userId, ts, count(*) AS n_rows \\\n",
    "        FROM df \\\n",
    "        GROUP BY 1, 2\\\n",
    "        HAVING COUNT(*) > 1 \\\n",
    "        ORDER BY 3 DESC \\\n",
    "        ) \\\n",
    "        SELECT COUNT(*) FROM T\").collect()"
   ]
  },
  {
   "cell_type": "markdown",
   "metadata": {},
   "source": [
    "### Remove Duplicates"
   ]
  },
  {
   "cell_type": "markdown",
   "metadata": {},
   "source": [
    "We can see here that my assertion was wrong and that we have almost 800 userId-ts combinations that have at least 2 entries. We can view an example as well using the query below..."
   ]
  },
  {
   "cell_type": "code",
   "execution_count": 14,
   "metadata": {},
   "outputs": [
    {
     "data": {
      "text/plain": [
       "[Row(artist='Mase', auth='Logged In', firstName='Sawyer', gender='M', itemInSession=70, lastName='Larson', length=255.16363, level='free', location='Houston-The Woodlands-Sugar Land, TX', method='PUT', page='NextSong', registration=1538069638000, sessionId=493, song=\"Lookin' At Me [feat. Puff Daddy] (Album Version)\", status=200, ts=1538838475000, userAgent='\"Mozilla/5.0 (Macintosh; Intel Mac OS X 10_9_4) AppleWebKit/537.36 (KHTML, like Gecko) Chrome/36.0.1985.143 Safari/537.36\"', userId='98'),\n",
       " Row(artist=None, auth='Logged In', firstName='Sawyer', gender='M', itemInSession=71, lastName='Larson', length=None, level='free', location='Houston-The Woodlands-Sugar Land, TX', method='GET', page='Home', registration=1538069638000, sessionId=493, song=None, status=200, ts=1538838475000, userAgent='\"Mozilla/5.0 (Macintosh; Intel Mac OS X 10_9_4) AppleWebKit/537.36 (KHTML, like Gecko) Chrome/36.0.1985.143 Safari/537.36\"', userId='98'),\n",
       " Row(artist=None, auth='Logged In', firstName='Sawyer', gender='M', itemInSession=72, lastName='Larson', length=None, level='free', location='Houston-The Woodlands-Sugar Land, TX', method='GET', page='Home', registration=1538069638000, sessionId=493, song=None, status=200, ts=1538838475000, userAgent='\"Mozilla/5.0 (Macintosh; Intel Mac OS X 10_9_4) AppleWebKit/537.36 (KHTML, like Gecko) Chrome/36.0.1985.143 Safari/537.36\"', userId='98')]"
      ]
     },
     "execution_count": 14,
     "metadata": {},
     "output_type": "execute_result"
    }
   ],
   "source": [
    "# Get an example with duplicated rows\n",
    "spark.sql(\"SELECT * \\\n",
    "        FROM df \\\n",
    "        WHERE userId = 98\\\n",
    "        AND ts = 1538838475000\").collect()"
   ]
  },
  {
   "cell_type": "markdown",
   "metadata": {},
   "source": [
    "In this example we can see that the user went to the next song before visiting the home page twice all with the same timestamp. It's a little difficult to know what to do in this situation.\n",
    "\n",
    "If we were to be joining tables then not knowing the primary key would result in the duplication of values. We won't be doing any joins with this data and so that is not an issue.\n",
    "\n",
    "However, it might introduct noise for our ML model if we have duplicate rows. Hence, it would be worth dropping page visits that happen multiple times for the same userId and ts. This is because visiting the same page within the same timestamp, while it may not strictly be duplicated, can probably be viewed as such as it provides no more interesting information about a user. "
   ]
  },
  {
   "cell_type": "code",
   "execution_count": 15,
   "metadata": {},
   "outputs": [
    {
     "data": {
      "text/plain": [
       "[Row(n_duplicated=0)]"
      ]
     },
     "execution_count": 15,
     "metadata": {},
     "output_type": "execute_result"
    }
   ],
   "source": [
    "# Find the unique key\n",
    "spark.sql(\"WITH T AS (SELECT userId, ts, itemInSession, page, count(*) AS n_rows \\\n",
    "        FROM df \\\n",
    "        GROUP BY 1, 2, 3, 4\\\n",
    "        HAVING count(*) > 1 \\\n",
    "        ORDER BY 5 DESC \\\n",
    "        ) \\\n",
    "        SELECT COUNT(*) AS n_duplicated FROM T\").collect()"
   ]
  },
  {
   "cell_type": "markdown",
   "metadata": {},
   "source": [
    "Finally we have found the unique key. It is userId, ts, itemInSession, page. This is because the for each user they might visit multiple pages within a certain timestamp. However, for each page that they load the itemInSession is iterated.\n",
    "\n",
    "However, there is once instance where the itemInSession was duplicated, meaning that the unique key is only achieved once the page is also taken into consideration.\n",
    "\n",
    "This is a little unexpected because it should not be technically possible to visit multiple pages within the same timestamp. So what we'll do is we'll rank the rows and keep only the timestamps with the lowest itemInSession count per user. (For the one event that was duplicated, we'll just pick a row at random.)"
   ]
  },
  {
   "cell_type": "code",
   "execution_count": 16,
   "metadata": {},
   "outputs": [],
   "source": [
    "df_unique = spark.sql(\"WITH T AS (SELECT *, ROW_NUMBER() OVER (PARTITION BY userId, ts ORDER BY itemInSession) as rank\\\n",
    "                    FROM df ) \\\n",
    "                    SELECT * FROM T \\\n",
    "                    WHERE rank = 1\")\n",
    "\n",
    "# Create Temp View\n",
    "df_unique.createOrReplaceTempView(\"df_unique\")"
   ]
  },
  {
   "cell_type": "code",
   "execution_count": 17,
   "metadata": {},
   "outputs": [
    {
     "data": {
      "text/plain": [
       "[Row(n_duplicated=0)]"
      ]
     },
     "execution_count": 17,
     "metadata": {},
     "output_type": "execute_result"
    }
   ],
   "source": [
    "# Verify clean successful\n",
    "spark.sql(\"WITH T AS (SELECT userId, ts, itemInSession, count(*) AS n_rows \\\n",
    "        FROM df_unique \\\n",
    "        GROUP BY 1, 2, 3\\\n",
    "        HAVING count(*) > 1 \\\n",
    "        ORDER BY 4 DESC \\\n",
    "        ) \\\n",
    "        SELECT COUNT(*) AS n_duplicated FROM T\").collect()"
   ]
  },
  {
   "cell_type": "markdown",
   "metadata": {},
   "source": [
    "Very good! We've gotten rid of events that happen on the same timestamp, which means that we've taken care of duplicated values."
   ]
  },
  {
   "cell_type": "code",
   "execution_count": 18,
   "metadata": {
    "scrolled": true
   },
   "outputs": [
    {
     "data": {
      "text/plain": [
       "[Row(artist=None, auth='Logged Out', firstName=None, gender=None, itemInSession=103, lastName=None, length=None, level='paid', location=None, method='GET', page='Home', registration=None, sessionId=141, song=None, status=200, ts=1538391913000, userAgent=None, userId='', rank=1)]"
      ]
     },
     "execution_count": 18,
     "metadata": {},
     "output_type": "execute_result"
    }
   ],
   "source": [
    "df_unique.head(1)"
   ]
  },
  {
   "cell_type": "markdown",
   "metadata": {},
   "source": [
    "### Missing Values\n",
    "\n",
    "As investigated above, there are times when we get missing values. The only issue is that this can happen because the page is not playing an artist. Thus, we need to find a way to distinguish between instances where a missing value is acceptable and other times when it is not.\n",
    "\n",
    "To remind ourselves of missing values, here are the instances where this was true below...\n",
    "\n",
    "* artist: 58392\n",
    "* firstName: 8346\n",
    "* gender: 8346\n",
    "* lastName: 8346\n",
    "* length: 58392\n",
    "* location: 8346\n",
    "* registration: 8346\n",
    "* song: 58392\n",
    "* userAgent: 8346\n",
    "\n",
    "We can see that the number of null `registration` are 8,346. This means that for the columns `firstName`, `gender`, `lastName`,\n",
    "`location` and `userAgent` Likely do not contain any null values that cannot be explained by missing a registration.\n",
    "\n",
    "The remaining two columns `song` and `artist` will be null then the page does not play music.\n",
    "\n",
    "To assess whether it is necessary to take any action on nulls, the following tests should be carried out:\n",
    "\n",
    "1. All registrations have non-null `firstName`, `gender`, `lastName`, `location` and `userAgent`\n",
    "2. All non-registrations have null columns in these cases\n",
    "3. All non-song-playing pages will have null `song` and `artist` and \n",
    "4. vice versa (as above)"
   ]
  },
  {
   "cell_type": "code",
   "execution_count": 19,
   "metadata": {},
   "outputs": [
    {
     "name": "stdout",
     "output_type": "stream",
     "text": [
      "{'firstName': 0, 'gender': 0, 'lastName': 0, 'location': 0, 'userAgent': 0}\n"
     ]
    }
   ],
   "source": [
    "# Vertify All registrations have non-null in relevant columns\n",
    "nan_dict = {}\n",
    "\n",
    "for i in [\"firstName\", \"gender\", \"lastName\", \"location\", \"userAgent\"]:\n",
    "    returns = spark.sql(\"\"\"\n",
    "        SELECT SUM(CASE WHEN {} IS NULL THEN 1 ELSE 0 END) AS nulls \n",
    "        FROM df_unique\n",
    "        WHERE registration IS NOT NULL\n",
    "    \"\"\".format(i)).collect()\n",
    "    \n",
    "    nan_dict[i] = returns[0].nulls\n",
    "    \n",
    "print(nan_dict)"
   ]
  },
  {
   "cell_type": "code",
   "execution_count": 20,
   "metadata": {},
   "outputs": [
    {
     "name": "stdout",
     "output_type": "stream",
     "text": [
      "{'firstName': 0, 'gender': 0, 'lastName': 0, 'location': 0, 'userAgent': 0}\n"
     ]
    }
   ],
   "source": [
    "# Vertify All non-registrations *have* null in relevant columns\n",
    "nan_dict = {}\n",
    "\n",
    "for i in [\"firstName\", \"gender\", \"lastName\", \"location\", \"userAgent\"]:\n",
    "    returns = spark.sql(\"\"\"\n",
    "        SELECT SUM(CASE WHEN {} IS NOT NULL THEN 1 ELSE 0 END) AS nulls\n",
    "        FROM df_unique\n",
    "        WHERE registration IS NULL\n",
    "    \"\"\".format(i)).collect()\n",
    "    \n",
    "    nan_dict[i] = returns[0].nulls\n",
    "    \n",
    "print(nan_dict)"
   ]
  },
  {
   "cell_type": "markdown",
   "metadata": {},
   "source": [
    "Alright! This is actually shaping up to be a relatively clean dataset!\n",
    "\n",
    "Before we check the song and artist columns, we should make sure that we know which "
   ]
  },
  {
   "cell_type": "code",
   "execution_count": 21,
   "metadata": {
    "scrolled": false
   },
   "outputs": [
    {
     "data": {
      "text/plain": [
       "[Row(page='Cancel', n_rows=52, null_songs=52, null_artist=52),\n",
       " Row(page='Submit Downgrade', n_rows=63, null_songs=63, null_artist=63),\n",
       " Row(page='Thumbs Down', n_rows=2546, null_songs=2546, null_artist=2546),\n",
       " Row(page='Home', n_rows=14235, null_songs=14235, null_artist=14235),\n",
       " Row(page='Downgrade', n_rows=2001, null_songs=2001, null_artist=2001),\n",
       " Row(page='Roll Advert', n_rows=3805, null_songs=3805, null_artist=3805),\n",
       " Row(page='Logout', n_rows=3226, null_songs=3226, null_artist=3226),\n",
       " Row(page='Save Settings', n_rows=310, null_songs=310, null_artist=310),\n",
       " Row(page='Cancellation Confirmation', n_rows=51, null_songs=51, null_artist=51),\n",
       " Row(page='About', n_rows=904, null_songs=904, null_artist=904),\n",
       " Row(page='Submit Registration', n_rows=5, null_songs=5, null_artist=5),\n",
       " Row(page='Settings', n_rows=1470, null_songs=1470, null_artist=1470),\n",
       " Row(page='Login', n_rows=3240, null_songs=3240, null_artist=3240),\n",
       " Row(page='Register', n_rows=18, null_songs=18, null_artist=18),\n",
       " Row(page='Add to Playlist', n_rows=6329, null_songs=6329, null_artist=6329),\n",
       " Row(page='Add Friend', n_rows=4277, null_songs=4277, null_artist=4277),\n",
       " Row(page='NextSong', n_rows=228051, null_songs=0, null_artist=0),\n",
       " Row(page='Thumbs Up', n_rows=12551, null_songs=12551, null_artist=12551),\n",
       " Row(page='Help', n_rows=1685, null_songs=1685, null_artist=1685),\n",
       " Row(page='Upgrade', n_rows=487, null_songs=487, null_artist=487),\n",
       " Row(page='Error', n_rows=249, null_songs=249, null_artist=249),\n",
       " Row(page='Submit Upgrade', n_rows=159, null_songs=159, null_artist=159)]"
      ]
     },
     "execution_count": 21,
     "metadata": {},
     "output_type": "execute_result"
    }
   ],
   "source": [
    "spark.sql(\"\"\"\n",
    "    SELECT page,\n",
    "           COUNT(*)                                        AS n_rows,\n",
    "           SUM(CASE WHEN song IS NULL THEN 1 ELSE 0 END)   AS null_songs,\n",
    "           SUM(CASE WHEN artist IS NULL THEN 1 ELSE 0 END) AS null_artist\n",
    "    FROM df_unique\n",
    "    GROUP BY 1\n",
    "\"\"\").collect()"
   ]
  },
  {
   "cell_type": "markdown",
   "metadata": {},
   "source": [
    "We can see that the number of rows gives us the number of rows that should be null in the case that the page does not require that a song plays.\n",
    "\n",
    "It seems that the only case where there are not nulls is in the case of `NextSong` where we don't expect the songs to be null.\n",
    "\n",
    "Luckily, when this is the case, the rows are completely filled. So there does not seem to be any issues with null values that I can see."
   ]
  },
  {
   "cell_type": "markdown",
   "metadata": {},
   "source": [
    "## Exploratory Data Analysis\n",
    "\n",
    "### Define Churn\n",
    "\n",
    "Before asking questions and exploring our dataset it is important to give these questions direction via our goal, which is to predict which users will churn before they do so.\n",
    "\n",
    "For this analysis we will define churned users as those who have a  `Cancelation Confirmation` event.\n",
    "\n",
    "\n",
    "## Define Questions to be answered\n",
    "\n",
    "Now that we know what information is important to us in this dataset here are some general questions\n",
    "\n",
    "1. How many distinct users are there in our dataset?\n",
    "3. Which pages are the most visited for each user?\n",
    "4. What location are our users mostly from?\n",
    "5. What does the gender distribution of our dataset look like?\n",
    "\n",
    "### How many distinct users are there in our dataset?"
   ]
  },
  {
   "cell_type": "code",
   "execution_count": 22,
   "metadata": {},
   "outputs": [
    {
     "data": {
      "text/plain": [
       "[Row(is_registered=0, count(DISTINCT userId)=1),\n",
       " Row(is_registered=1, count(DISTINCT userId)=225)]"
      ]
     },
     "execution_count": 22,
     "metadata": {},
     "output_type": "execute_result"
    }
   ],
   "source": [
    "spark.sql(\"\"\"\n",
    "    SELECT CASE WHEN registration IS NULL THEN 0 ELSE 1 END AS is_registered,\n",
    "    COUNT(DISTINCT du.userId) \n",
    "    FROM df_unique AS du \n",
    "    GROUP BY 1\n",
    "    ORDER BY 1\n",
    "\n",
    "\"\"\").collect()"
   ]
  },
  {
   "cell_type": "markdown",
   "metadata": {},
   "source": [
    "Here, we can see that there are 226 users in total. For the data that we have, almost all of them are registered (225 to be precise). We also have one user in our dataset that is not registered."
   ]
  },
  {
   "cell_type": "markdown",
   "metadata": {},
   "source": [
    "### Which pages are the most visited for each user?"
   ]
  },
  {
   "cell_type": "code",
   "execution_count": 23,
   "metadata": {},
   "outputs": [],
   "source": [
    "# Find non distinct visits\n",
    "response = spark.sql(\"\"\"\n",
    "    SELECT page, COUNT(userId) AS counts\n",
    "    FROM df_unique\n",
    "    GROUP BY 1\n",
    "    ORDER BY 1 DESC\n",
    "\"\"\").collect()\n",
    "\n",
    "pages_non_distinct_view = [i.page for i in response]\n",
    "non_distinct_view = [i.counts for i in response]"
   ]
  },
  {
   "cell_type": "code",
   "execution_count": 24,
   "metadata": {},
   "outputs": [
    {
     "data": {
      "image/png": "[encoded data removed]",
      "text/plain": [
       "<matplotlib.figure.Figure at 0x7f75e56d1630>"
      ]
     },
     "metadata": {
      "needs_background": "light"
     },
     "output_type": "display_data"
    }
   ],
   "source": [
    "# Find visits for distinct users\n",
    "response = spark.sql(\"\"\"\n",
    "    WITH user_pages AS (\n",
    "        SELECT DISTINCT userId, \n",
    "                        page \n",
    "        FROM df_unique\n",
    "    )\n",
    "    \n",
    "    SELECT page, COUNT(DISTINCT userId) AS counts\n",
    "    FROM user_pages\n",
    "    GROUP BY 1\n",
    "    ORDER BY 1 DESC\n",
    "\"\"\").collect()\n",
    "\n",
    "distinct_view = [i.counts for i in response]\n",
    "\n",
    "# Convert aggregated results to dataframe\n",
    "df_page_vists = pd.DataFrame(dict(page = pages_non_distinct_view,\n",
    "                                  distinct_view = distinct_view,\n",
    "                                  non_distinct_view = non_distinct_view))\n",
    "\n",
    "# Plot values from dataframe\n",
    "ax = df_page_vists.sort_values(\"non_distinct_view\").set_index(\"page\")[\"non_distinct_view\"].plot(kind=\"barh\", \n",
    "                                                                                                color=color_cycle[0])\n",
    "ax.plot();"
   ]
  },
  {
   "cell_type": "markdown",
   "metadata": {},
   "source": [
    "We can see from this graph that users tend to use the service for playing music, obviously. They will also visit the home button a lot of times and rate music that they like. \n",
    "\n",
    "We can see that cancellation confirmations tend to be very unlikely, which means that our dataset after the feature engineering is complete will be imbalanced."
   ]
  },
  {
   "cell_type": "code",
   "execution_count": 25,
   "metadata": {
    "scrolled": true
   },
   "outputs": [
    {
     "data": {
      "image/png": "[encoded data removed]",
      "text/plain": [
       "<matplotlib.figure.Figure at 0x7f75dc9aaa90>"
      ]
     },
     "metadata": {
      "needs_background": "light"
     },
     "output_type": "display_data"
    }
   ],
   "source": [
    "ax = df_page_vists.sort_values(\"distinct_view\").set_index(\"page\")[\"distinct_view\"].plot(kind=\"barh\", \n",
    "                                                                                                color=color_cycle[0])\n",
    "ax.plot();"
   ]
  },
  {
   "cell_type": "markdown",
   "metadata": {},
   "source": [
    "When we look for distinct users per page then things stop looking quite so imbalanced. We can see that out of roughly 225 registered users, roughly 50 of them end up downgrading.\n",
    "\n",
    "I think when doing the feature engineering for this dataset, it will be worth trying to find values that provide more signal than things like \"next song\", which everyone does.\n",
    "\n",
    "What's interesting is how the pages for logins, and registrations are relatively low which is something that I didn't expect.\n",
    "\n",
    "It might be that other features are better correlated with cancellation confirmation. We want page visits that happen frequently, but not so frequently that they become meaningless."
   ]
  },
  {
   "cell_type": "markdown",
   "metadata": {},
   "source": [
    "### What location are our users mostly from?"
   ]
  },
  {
   "cell_type": "code",
   "execution_count": 26,
   "metadata": {},
   "outputs": [
    {
     "data": {
      "image/png": "[encoded data removed]",
      "text/plain": [
       "<matplotlib.figure.Figure at 0x7f75dcad1470>"
      ]
     },
     "metadata": {
      "needs_background": "light"
     },
     "output_type": "display_data"
    }
   ],
   "source": [
    "response = spark.sql(\"\"\"\n",
    "    WITH user_locations AS (\n",
    "        SELECT DISTINCT userId, \n",
    "                        location \n",
    "        FROM df_unique\n",
    "    )\n",
    "    \n",
    "    SELECT location, COUNT(DISTINCT userId) AS counts\n",
    "    FROM user_locations\n",
    "    GROUP BY 1\n",
    "    ORDER BY 2 DESC\n",
    "    LIMIT 25  -- Note that without a limit, the graph will overplot\n",
    "\"\"\").collect()\n",
    "\n",
    "location = [i.location for i in response]\n",
    "location_counts = [i.counts for i in response]\n",
    "\n",
    "df_locations = pd.DataFrame(dict(location = location,\n",
    "                                 location_counts = location_counts))\n",
    "\n",
    "ax = df_locations.sort_values(\"location_counts\").set_index(\"location\")[\"location_counts\"].plot(kind=\"barh\", \n",
    "                                                                                               color=color_cycle[0])\n",
    "ax.plot();"
   ]
  },
  {
   "cell_type": "markdown",
   "metadata": {},
   "source": [
    "We can see that people come from various places from across the united states, Mostly the south west such as California, Texas and Arizona.\n",
    "\n",
    "However, it seems that somehow multiple cities and areas have been combined. Making this column a little less clean than I had expected."
   ]
  },
  {
   "cell_type": "markdown",
   "metadata": {},
   "source": [
    "### What does the gender distribution of our dataset look like?"
   ]
  },
  {
   "cell_type": "code",
   "execution_count": 27,
   "metadata": {
    "scrolled": false
   },
   "outputs": [
    {
     "data": {
      "text/plain": [
       "[Row(gender=None, counts=1),\n",
       " Row(gender='F', counts=104),\n",
       " Row(gender='M', counts=121)]"
      ]
     },
     "execution_count": 27,
     "metadata": {},
     "output_type": "execute_result"
    }
   ],
   "source": [
    "results_gender = spark.sql(\"\"\"\n",
    "    WITH user_gender AS (\n",
    "        SELECT DISTINCT userId, gender\n",
    "        FROM df_unique\n",
    "    )\n",
    "\n",
    "    SELECT gender, COUNT(*) AS counts\n",
    "    FROM user_gender\n",
    "    GROUP BY 1\n",
    "    ORDER BY 1\n",
    "\"\"\").collect()\n",
    "\n",
    "results_gender"
   ]
  },
  {
   "cell_type": "markdown",
   "metadata": {},
   "source": [
    "It seems that our gender distribution is roughly 1.16 female for every 1 male. The person with a null gender is our unregistered user."
   ]
  },
  {
   "cell_type": "code",
   "execution_count": 28,
   "metadata": {},
   "outputs": [
    {
     "data": {
      "text/plain": [
       "(104, 121)"
      ]
     },
     "execution_count": 28,
     "metadata": {},
     "output_type": "execute_result"
    }
   ],
   "source": [
    "# Extract gender distribution\n",
    "n_males = [i.counts for i in results_gender if i.gender=='F'][0]\n",
    "n_females = [i.counts for i in results_gender if i.gender=='M'][0]\n",
    "\n",
    "n_males, n_females"
   ]
  },
  {
   "cell_type": "code",
   "execution_count": 29,
   "metadata": {},
   "outputs": [
    {
     "data": {
      "image/png": "[encoded data removed]",
      "text/plain": [
       "<matplotlib.figure.Figure at 0x7f75d9d90668>"
      ]
     },
     "metadata": {},
     "output_type": "display_data"
    }
   ],
   "source": [
    "fig, ax = plt.subplots(figsize=(10, 6), edgecolor='k', facecolor='white')\n",
    "plt.bar([\"males\", \"females\"], [n_males, n_females])\n",
    "plt.title(\"Number of males vs number of females\")\n",
    "plt.ylabel(\"Count\")\n",
    "plt.show()"
   ]
  },
  {
   "cell_type": "markdown",
   "metadata": {},
   "source": [
    "## Questions for Data Engineering\n",
    "\n",
    "Now that we have a better feel for the data that we have been given, I want to start thinking about the feature extraction.\n",
    "\n",
    "I would like to do a correlation plot, but that's not possible with the data in the format it it is in right now. I would need to do some feature engineering first to get everything in the right place.\n",
    "\n",
    "So instead, I'll try and think about features that might be important and try and verify it. \n",
    "\n",
    "The question to be answered is \"when is a user likely to unsubscribe from my services\"?\n",
    "\n",
    "* When their \"use\" of the platform starts to slow down.\n",
    "* When they can't even use the platform due to erroes.\n",
    "* When they decide to use another platform. (Not actionable)\n",
    "* When they decide that they would rather save the money they spend on the service. (Not actionable)\n",
    "* When friends start to ubsubscribe (network effects)\n",
    "* When they listen to songs that they don't like\n",
    "\n",
    "This means that I should check the following:\n",
    "\n",
    "1. The distribution of those who visit the cancelation confirmation page and intra-session time.\n",
    "2. Total play time per unit of time. Or even the number of pages visited per unit oftime.\n",
    "3. If people are more likely to ubsubscribe if their direct friends unsubscribe.\n",
    "4. Another useful signal is the number of error pages that they get. (Or event he number of times they check the help)\n",
    "5. In addition to this, let's look at the ratio of likes vs dislikes.\n",
    "\n",
    "### Find intrasession time correlation w/ cancellation"
   ]
  },
  {
   "cell_type": "code",
   "execution_count": 30,
   "metadata": {},
   "outputs": [],
   "source": [
    "# Find intrasession time correlation w/ cancellation\n",
    "response = spark.sql(\"\"\"\n",
    "    WITH usr_cancelsub AS (\n",
    "    SELECT userId,\n",
    "           MAX(CASE WHEN page = 'Cancellation Confirmation' THEN 1 ELSE 0 END) AS is_canceled\n",
    "    FROM df_unique\n",
    "    GROUP BY 1\n",
    "    ),\n",
    "    \n",
    "    usr_intrasesh AS (\n",
    "    SELECT userId, \n",
    "           itemInSession, \n",
    "           ts - LAG(ts) OVER (PARTITION BY userId ORDER BY ts) AS intra_session_time\n",
    "    FROM df_unique\n",
    "    WHERE itemInSession = 0\n",
    "    )\n",
    "    \n",
    "    SELECT uc.*, ui.avg_intra_session_time\n",
    "    FROM usr_cancelsub AS uc\n",
    "    LEFT JOIN (SELECT userId, AVG(intra_session_time) avg_intra_session_time\n",
    "               FROM usr_intrasesh\n",
    "               GROUP BY 1) AS ui\n",
    "               ON ui.userId = uc.userId\n",
    "\"\"\").collect()"
   ]
  },
  {
   "cell_type": "code",
   "execution_count": 31,
   "metadata": {},
   "outputs": [],
   "source": [
    "intrasesh_times = [i.avg_intra_session_time for i in response]\n",
    "is_canceled = [i.is_canceled for i in response]\n",
    "\n",
    "df_intrasesh_cancelation = pd.DataFrame(dict(intrasesh_times = intrasesh_times,\n",
    "                                            is_canceled = is_canceled))"
   ]
  },
  {
   "cell_type": "code",
   "execution_count": 32,
   "metadata": {
    "scrolled": false
   },
   "outputs": [
    {
     "data": {
      "image/png": "[encoded data removed]",
      "text/plain": [
       "<matplotlib.figure.Figure at 0x7f75d9dc5588>"
      ]
     },
     "metadata": {},
     "output_type": "display_data"
    }
   ],
   "source": [
    "fig, ax = plt.subplots(figsize=(10, 6), edgecolor='k', facecolor='white')\n",
    "plt.scatter(df_intrasesh_cancelation[df_intrasesh_cancelation[\"is_canceled\"] == 1][\"intrasesh_times\"], \n",
    "            df_intrasesh_cancelation[df_intrasesh_cancelation[\"is_canceled\"] == 1][\"is_canceled\"])\n",
    "plt.scatter(df_intrasesh_cancelation[df_intrasesh_cancelation[\"is_canceled\"] == 0][\"intrasesh_times\"], \n",
    "            df_intrasesh_cancelation[df_intrasesh_cancelation[\"is_canceled\"] == 0][\"is_canceled\"])\n",
    "plt.yticks((0, 1))\n",
    "plt.title(\"Comparing Intrasession times with Subscription Cancelation\")\n",
    "plt.xlabel(\"Intra Session time (ts)\")\n",
    "plt.ylabel(\"Is Canceled\")\n",
    "plt.show()"
   ]
  },
  {
   "cell_type": "markdown",
   "metadata": {},
   "source": [
    "We can see here that intrasesssion time tends to be lower for those who cancel their subscriptions. However, we are liable to get a lot of false positives if we take a simple rule that low intrasession times will cause someone to ubsubscribe. (Ofcourse, this is why we take multiple features.)\n",
    "\n",
    "### Total play time correlation w/ Cancelation"
   ]
  },
  {
   "cell_type": "code",
   "execution_count": 33,
   "metadata": {},
   "outputs": [],
   "source": [
    "# Find song long time correlation w/ cancellation\n",
    "response = spark.sql(\"\"\"\n",
    "    SELECT userId,\n",
    "           MAX(CASE WHEN page = 'Cancellation Confirmation' THEN 1 ELSE 0 END) AS is_canceled,\n",
    "           SUM(length) AS total_play_time\n",
    "    FROM df_unique\n",
    "    GROUP BY 1\n",
    "\"\"\").collect()"
   ]
  },
  {
   "cell_type": "code",
   "execution_count": 34,
   "metadata": {},
   "outputs": [],
   "source": [
    "total_play_time = [i.total_play_time for i in response]\n",
    "is_canceled = [i.is_canceled for i in response]\n",
    "\n",
    "df_playtime_cancelation = pd.DataFrame(dict(total_play_time = total_play_time,\n",
    "                                            is_canceled = is_canceled))"
   ]
  },
  {
   "cell_type": "code",
   "execution_count": 35,
   "metadata": {},
   "outputs": [
    {
     "data": {
      "image/png": "[encoded data removed]",
      "text/plain": [
       "<matplotlib.figure.Figure at 0x7f75d9e0d358>"
      ]
     },
     "metadata": {},
     "output_type": "display_data"
    }
   ],
   "source": [
    "fig, ax = plt.subplots(figsize=(10, 6), edgecolor='k', facecolor='white')\n",
    "plt.scatter(df_playtime_cancelation[df_playtime_cancelation[\"is_canceled\"] == 1][\"total_play_time\"], \n",
    "            df_playtime_cancelation[df_playtime_cancelation[\"is_canceled\"] == 1][\"is_canceled\"])\n",
    "plt.scatter(df_playtime_cancelation[df_playtime_cancelation[\"is_canceled\"] == 0][\"total_play_time\"], \n",
    "            df_playtime_cancelation[df_playtime_cancelation[\"is_canceled\"] == 0][\"is_canceled\"])\n",
    "plt.yticks((0, 1))\n",
    "plt.title(\"Comparing Total Play Time times with Subscription Cancelation\")\n",
    "plt.xlabel(\"Total Play Time (s)\")\n",
    "plt.ylabel(\"Is Canceled\")\n",
    "plt.show()"
   ]
  },
  {
   "cell_type": "markdown",
   "metadata": {},
   "source": [
    "So, it seems that this hypothesis was also true. We can see that the total amount of play time is also correlated with unsubscribing.\n",
    "\n",
    "### Effect of network on unsubscribing"
   ]
  },
  {
   "cell_type": "code",
   "execution_count": 36,
   "metadata": {},
   "outputs": [],
   "source": [
    "# Find song long time correlation w/ cancellation\n",
    "response = spark.sql(\"\"\"\n",
    "    SELECT userId,\n",
    "           MAX(CASE WHEN page = 'Cancellation Confirmation' THEN 1 ELSE 0 END) AS is_canceled,\n",
    "           SUM(CASE WHEN page = 'Add Friend' THEN 1 ELSE 0 END) AS n_friends_added\n",
    "    FROM df_unique\n",
    "    GROUP BY 1\n",
    "\"\"\").collect()"
   ]
  },
  {
   "cell_type": "code",
   "execution_count": 37,
   "metadata": {},
   "outputs": [],
   "source": [
    "n_friends_added = [i.n_friends_added for i in response]\n",
    "is_canceled = [i.is_canceled for i in response]\n",
    "\n",
    "df_playtime_cancelation = pd.DataFrame(dict(n_friends_added = n_friends_added,\n",
    "                                            is_canceled = is_canceled))"
   ]
  },
  {
   "cell_type": "code",
   "execution_count": 38,
   "metadata": {},
   "outputs": [
    {
     "data": {
      "image/png": "[encoded data removed]",
      "text/plain": [
       "<matplotlib.figure.Figure at 0x7f75dc95bdd8>"
      ]
     },
     "metadata": {},
     "output_type": "display_data"
    }
   ],
   "source": [
    "fig, ax = plt.subplots(figsize=(10, 6), edgecolor='k', facecolor='white')\n",
    "plt.scatter(df_playtime_cancelation[df_playtime_cancelation[\"is_canceled\"] == 1][\"n_friends_added\"], \n",
    "            df_playtime_cancelation[df_playtime_cancelation[\"is_canceled\"] == 1][\"is_canceled\"])\n",
    "plt.scatter(df_playtime_cancelation[df_playtime_cancelation[\"is_canceled\"] == 0][\"n_friends_added\"], \n",
    "            df_playtime_cancelation[df_playtime_cancelation[\"is_canceled\"] == 0][\"is_canceled\"])\n",
    "plt.yticks((0, 1))\n",
    "plt.title(\"Comparing Number of Friends Added with Subscription Cancelation\")\n",
    "plt.xlabel(\"Number of Friends Added\")\n",
    "plt.ylabel(\"Is Canceled\")\n",
    "plt.show()"
   ]
  },
  {
   "cell_type": "markdown",
   "metadata": {},
   "source": [
    "Here, we can get a reoccuring theme that those with high numbers of friends are also unlikely to unsubscribe.\n",
    "\n",
    "It seems that the reoccuring theme in these past couple of features is that the more engaged a user is with the sparkify platform, the less likely they are to unsubscribe.\n",
    "\n",
    "### Analysis of Number of Error Pages"
   ]
  },
  {
   "cell_type": "code",
   "execution_count": 39,
   "metadata": {},
   "outputs": [],
   "source": [
    "# Find error correlation w/ cancellation\n",
    "response = spark.sql(\"\"\"\n",
    "    SELECT userId,\n",
    "           MAX(CASE WHEN page = 'Cancellation Confirmation' THEN 1 ELSE 0 END) AS is_canceled,\n",
    "           SUM(CASE WHEN page = 'Error' THEN 1 ELSE 0 END) AS n_errors\n",
    "    FROM df_unique\n",
    "    GROUP BY 1\n",
    "\"\"\").collect()"
   ]
  },
  {
   "cell_type": "code",
   "execution_count": 40,
   "metadata": {},
   "outputs": [],
   "source": [
    "n_errors = [i.n_errors for i in response]\n",
    "is_canceled = [i.is_canceled for i in response]\n",
    "\n",
    "df_errors = pd.DataFrame(dict(n_errors = n_errors,\n",
    "                              is_canceled = is_canceled))"
   ]
  },
  {
   "cell_type": "code",
   "execution_count": 41,
   "metadata": {},
   "outputs": [
    {
     "data": {
      "image/png": "[encoded data removed]",
      "text/plain": [
       "<matplotlib.figure.Figure at 0x7f75dc9a1630>"
      ]
     },
     "metadata": {},
     "output_type": "display_data"
    }
   ],
   "source": [
    "fig, ax = plt.subplots(figsize=(10, 6), edgecolor='k', facecolor='white')\n",
    "plt.scatter(df_errors[df_errors[\"is_canceled\"] == 1][\"n_errors\"], \n",
    "            df_errors[df_errors[\"is_canceled\"] == 1][\"is_canceled\"])\n",
    "plt.scatter(df_errors[df_errors[\"is_canceled\"] == 0][\"n_errors\"], \n",
    "            df_errors[df_errors[\"is_canceled\"] == 0][\"is_canceled\"])\n",
    "plt.yticks((0, 1))\n",
    "plt.title(\"Comparing Number of Errors with Subscription Cancelation\")\n",
    "plt.xlabel(\"Number of Errors\")\n",
    "plt.ylabel(\"Is Canceled\")\n",
    "plt.show()"
   ]
  },
  {
   "cell_type": "markdown",
   "metadata": {},
   "source": [
    "We can see there that the number of errors is not strong enough of a singal to use as a feature. The number of people who have errors are relatively low AND it seems that there are people who stay described despite having more errors than those who don't.\n",
    "\n",
    "This could just be a coincidince because the sample size is low. It is likely that this feature might still be worth having with the full dataset, but for this analysis we will leave it out.\n",
    "\n",
    "### Ratio of Like/Dislike on unsubscribing"
   ]
  },
  {
   "cell_type": "code",
   "execution_count": 42,
   "metadata": {},
   "outputs": [],
   "source": [
    "# Find error correlation w/ cancellation\n",
    "response = spark.sql(\"\"\"\n",
    "    SELECT userId,\n",
    "           MAX(CASE WHEN page = 'Cancellation Confirmation' THEN 1 ELSE 0 END) AS is_canceled,\n",
    "           SUM(CASE WHEN page = 'Thumbs Up' THEN 1 ELSE 0 END)/\n",
    "           SUM(CASE WHEN page = 'Thumbs Down' THEN 1 ELSE 0 END)AS Ratio_TU_v_TD\n",
    "    FROM df_unique\n",
    "    GROUP BY 1\n",
    "\"\"\").collect()"
   ]
  },
  {
   "cell_type": "code",
   "execution_count": 43,
   "metadata": {},
   "outputs": [],
   "source": [
    "Ratio_TU_v_TD = [i.Ratio_TU_v_TD for i in response]\n",
    "is_canceled = [i.is_canceled for i in response]\n",
    "\n",
    "df_TU_v_TD = pd.DataFrame(dict(Ratio_TU_v_TD = Ratio_TU_v_TD,\n",
    "                              is_canceled = is_canceled))"
   ]
  },
  {
   "cell_type": "code",
   "execution_count": 44,
   "metadata": {},
   "outputs": [
    {
     "data": {
      "image/png": "[encoded data removed]",
      "text/plain": [
       "<matplotlib.figure.Figure at 0x7f75d9e3aac8>"
      ]
     },
     "metadata": {},
     "output_type": "display_data"
    }
   ],
   "source": [
    "fig, ax = plt.subplots(figsize=(10, 6), edgecolor='k', facecolor='white')\n",
    "plt.scatter(df_TU_v_TD[df_TU_v_TD[\"is_canceled\"] == 1][\"Ratio_TU_v_TD\"], \n",
    "            df_TU_v_TD[df_TU_v_TD[\"is_canceled\"] == 1][\"is_canceled\"])\n",
    "plt.scatter(df_TU_v_TD[df_TU_v_TD[\"is_canceled\"] == 0][\"Ratio_TU_v_TD\"], \n",
    "            df_TU_v_TD[df_TU_v_TD[\"is_canceled\"] == 0][\"is_canceled\"])\n",
    "plt.yticks((0, 1))\n",
    "plt.title(\"Comparing Ratio of Thumbs Up/Thumbs Down with Subscription Cancelation\")\n",
    "plt.xlabel(\"Ratio Thumbs up vs Thumbs Down\")\n",
    "plt.ylabel(\"Is Canceled\")\n",
    "plt.show()"
   ]
  },
  {
   "cell_type": "markdown",
   "metadata": {},
   "source": [
    "Once again, it seems we found another interesting feature. It seems that more people tend to upvote rather than downvote but still. "
   ]
  },
  {
   "cell_type": "markdown",
   "metadata": {},
   "source": [
    "# Part 3: Feature Engineering\n",
    "\n",
    "In this section, the features that were most promising will be assembled into a vector to use for training the model. \n",
    "\n",
    "Before doing any engineering, we should consider what we want our X matrix (user-feature) and y vector (labels) to look like.\n",
    "\n",
    "Obviously, X will be a matrix with user rows w/ features. These features will be either aggregated statistics for each user or whether they trigger some event.\n",
    "\n",
    "Based on our EDA, we will use the following features for the columns in our X matrix:\n",
    "\n",
    "1. Intra-session time.\n",
    "2. Total play time\n",
    "3. Number of Friends.\n",
    "5. Ratio of likes vs dislikes.\n",
    "\n",
    "This should give us a relatively simple model, but it should be a good start."
   ]
  },
  {
   "cell_type": "code",
   "execution_count": 45,
   "metadata": {},
   "outputs": [],
   "source": [
    "# Create SQL with Relevant Features\n",
    "df_features_raw = spark.sql(\"\"\"\n",
    "    WITH usr_intrasesh AS (\n",
    "    SELECT userId, \n",
    "           itemInSession, \n",
    "           ts - LAG(ts) OVER (PARTITION BY userId ORDER BY ts) AS intra_session_time\n",
    "    FROM df_unique\n",
    "    WHERE itemInSession = 0\n",
    "    ) \n",
    "\n",
    "    SELECT du.userId,\n",
    "           NVL(ui.avg_intra_session_time, 0) AS avg_intra_session_time,\n",
    "           NVL(SUM(length), 0) AS total_play_time, \n",
    "           NVL(SUM(CASE WHEN page = 'Add Friend' THEN 1 ELSE 0 END), 0) AS n_friends_added,\n",
    "           NVL(SUM(CASE WHEN page = 'Thumbs Up' THEN 1 ELSE 0 END) /\n",
    "               SUM(CASE WHEN page = 'Thumbs Down' THEN 1 ELSE 0 END), 0) AS Ratio_TU_v_TD,\n",
    "           NVL(MAX(CASE WHEN page = 'Cancellation Confirmation' THEN 1 ELSE 0 END), 0) AS label\n",
    "    FROM df_unique AS du\n",
    "    LEFT JOIN (SELECT userId, AVG(intra_session_time) avg_intra_session_time\n",
    "               FROM usr_intrasesh\n",
    "               GROUP BY 1) AS ui\n",
    "               ON ui.userId = du.userId\n",
    "    GROUP BY 1, 2\n",
    "\"\"\")\n",
    "\n",
    "# Create Temp View\n",
    "df_features_raw.createOrReplaceTempView(\"df_features_raw\")"
   ]
  },
  {
   "cell_type": "code",
   "execution_count": 46,
   "metadata": {},
   "outputs": [],
   "source": [
    "# Get columns\n",
    "cols = df_features_raw.columns[1:-1]\n",
    "\n",
    "# Create vector assembler\n",
    "assembler = VectorAssembler(inputCols=cols, \n",
    "                            outputCol=\"DescVec\")\n",
    "\n",
    "df_features_unnormalised = assembler.transform(df_features_raw)"
   ]
  },
  {
   "cell_type": "code",
   "execution_count": 47,
   "metadata": {},
   "outputs": [],
   "source": [
    "# Normalise features\n",
    "scaler = Normalizer(inputCol=\"DescVec\", outputCol=\"features\")\n",
    "df_features = scaler.transform(df_features_unnormalised).select([\"features\", \"label\"])"
   ]
  },
  {
   "cell_type": "markdown",
   "metadata": {},
   "source": [
    "# Part 4: Modeling\n",
    "Split the full dataset into train, test, and validation sets. Test out several of the machine learning methods you learned. Evaluate the accuracy of the various models, tuning parameters as necessary. Determine your winning model based on test accuracy and report results on the validation set. Since the churned users are a fairly small subset, I suggest using F1 score as the metric to optimize."
   ]
  },
  {
   "cell_type": "markdown",
   "metadata": {},
   "source": [
    "## Create a base model\n",
    "\n",
    "First, I want to throw my features into a model to see what kind of predictions I can get and then I want to make tweaks going from there."
   ]
  },
  {
   "cell_type": "code",
   "execution_count": 48,
   "metadata": {},
   "outputs": [],
   "source": [
    "# Perform Train Test split\n",
    "train, validation = df_features.randomSplit([0.8, 0.2], seed=5318008)"
   ]
  },
  {
   "cell_type": "markdown",
   "metadata": {},
   "source": [
    "**A note on the train validation split.**\n",
    "\n",
    "It was found that the split of 90%:10% meant that the training set was too small and did not change at all with different models or by changing the features of the dataset.\n",
    "\n",
    "Towards resolving this issue, I have decided to change the split to 80:20%"
   ]
  },
  {
   "cell_type": "code",
   "execution_count": 49,
   "metadata": {
    "scrolled": false
   },
   "outputs": [
    {
     "name": "stdout",
     "output_type": "stream",
     "text": [
      "Loading existing model\n"
     ]
    }
   ],
   "source": [
    "# Create logistic regression\n",
    "lr =  LogisticRegression()\n",
    "paramGrid = ParamGridBuilder() \\\n",
    "    .addGrid(lr.elasticNetParam,[0.0, 0.1]) \\\n",
    "    .addGrid(lr.regParam,[0.0, 0.1]) \\\n",
    "    .build()\n",
    "\n",
    "crossval = CrossValidator(estimator=lr,\n",
    "                          estimatorParamMaps=paramGrid,\n",
    "                          evaluator=BinaryClassificationEvaluator(),\n",
    "                          numFolds=3)\n",
    "\n",
    "crossval.setSeed(42)\n",
    "\n",
    "if not os.path.isdir(\"./logisticRegression1\"):\n",
    "    \n",
    "    print(\"Model not existing yet, training a new one...\")\n",
    "    \n",
    "    # Get Start time\n",
    "    train_time_start = time()\n",
    "    \n",
    "    # Train Model\n",
    "    cvModel_lr = crossval.fit(train)\n",
    "\n",
    "    # Get End time\n",
    "    train_time_end = time()\n",
    "    \n",
    "    print(\"Training complete! \\n\\t Training time:\", (train_time_end - train_time_start)/60, \"mins.\")\n",
    "    \n",
    "    # Save model for later\n",
    "    cvModel_lr.save(\"./logisticRegression1\")\n",
    "else:\n",
    "    print(\"Loading existing model\")\n",
    "    cvModel_lr = CrossValidatorModel.load(\"./logisticRegression1\")"
   ]
  },
  {
   "cell_type": "markdown",
   "metadata": {},
   "source": [
    "I ran a larger grisearch which optimised at `elasticNetParam = 1.0` and `regParam = 1.0`\n",
    "\n",
    "However, the grid was so large that the notebook couldn't complete before the kernel of the workspace timed out. I have reduced the size of the gridsearch for my own sanity. :) \n",
    "\n",
    "If there are more nodes in the cluster or if I was running on something more powerful than a VM then we could think about expanding the grid for the search agian."
   ]
  },
  {
   "cell_type": "markdown",
   "metadata": {},
   "source": [
    "## Evaluate Base Model\n",
    "\n",
    "### Defining Metrics for Performance Measurement\n",
    "\n",
    "Before going on to evaluate this model I would like to clearly define the metrics used to measure the performance of a model. \n",
    "\n",
    "When doing binary classifiation the obvious metric that everyone uses is \"accuracy\", which is defined in the equation below;\n",
    "\n",
    "$$accuracy = \\frac{t_p + t_n}{t_p + t_n + f_p + f_n}$$\n",
    "\n",
    "Where $t_p$, $t_n$, $f_p$ and $f_n$ denote true positives, true negatives, false positives and false negatives respectively.\n",
    "\n",
    "The only issue with this metric is that it is possible to get a high score in imblanced datasets by classifying everything as the major classification. (i.e. By classifying all users as not churning, in this example.)\n",
    "\n",
    "Thus, we need metrics that don't include true negatives in the calculation.\n",
    "\n",
    "This is why machine learning experts use these other metrics:\n",
    "\n",
    "1. Precision\n",
    "2. Recall\n",
    "\n",
    "The equations for these metrics are defined down below:\n",
    "\n",
    "$$precision = \\frac{t_p}{t_p + f_p}$$\n",
    "\n",
    "$$recall = \\frac{t_p}{t_p + f_n}$$\n",
    "\n",
    "You can also think about this from a conditional probability pespective\n",
    "\n",
    "$$precision = p(t_p | pred = 1)$$\n",
    "\n",
    "$$recall = p(t_p | label = 1)$$\n",
    "\n",
    "However, I have the easiest time thinking about it like this:\n",
    "\n",
    "* Precision = The number of positive classifications given that they WERE given positive classifications\n",
    "* Recall = The number of positive classification given that that they SHOULD have been given positive classfications\n",
    "\n",
    "We can see then that the difference between these two denotes how many false positive or false negatives are predicted, meaning that it is no longer enough to get a high accuracy, we need to minimise the number of false classifications.\n",
    "\n",
    "Thus, if we have high precision and low recall, then the true positives we assign are likely to be correct but there are many examples that are true that we do not label correctly. (i.e. False negatives are over expressed) \n",
    "\n",
    "Inversely, if we have high recall but low precision then we do a good job assigning positive classifications to those observations that need it but we do so too willingly meaning that false positives are over expressed.\n",
    "\n",
    "Sometimes it might be okay to value one metric over another in the case that having a false positive or a false negative is more painful than the other.\n",
    "\n",
    "We can also take the harmonic mean of both of these metrics to create the $f_1$ score, which is a another good overall metric which captures information of precision and recall while not being able to be tricked in the same way that accuracy can.\n",
    "\n",
    "$$f_1 = \\frac{2(precision + recall)}{precision \\times recall}$$\n",
    "\n",
    "### Model Evaluation\n",
    "\n",
    "Now that we have trained our first base model and defined/explained the metrics that we want to use, let's have a look at how it performs..."
   ]
  },
  {
   "cell_type": "code",
   "execution_count": 50,
   "metadata": {},
   "outputs": [],
   "source": [
    "train_results = cvModel_lr.transform(train)\n",
    "\n",
    "# Get Validation claffications\n",
    "tp_train = train_results.filter(\"label = 1 and prediction = 1\").count()\n",
    "fp_train = train_results.filter(\"label = 0 and prediction = 1\").count()\n",
    "fn_train = train_results.filter(\"label = 1 and prediction = 0\").count()\n",
    "tn_train = train_results.filter(\"label = 0 and prediction = 0\").count()\n",
    "\n",
    "# Group into list\n",
    "test_classifications = [tp_train, \n",
    "                        tn_train, \n",
    "                        fp_train, \n",
    "                        fn_train]"
   ]
  },
  {
   "cell_type": "code",
   "execution_count": 51,
   "metadata": {},
   "outputs": [
    {
     "name": "stdout",
     "output_type": "stream",
     "text": [
      "[[  2   0]\n",
      " [ 40 135]]\n"
     ]
    }
   ],
   "source": [
    "print_cm(*test_classifications)"
   ]
  },
  {
   "cell_type": "code",
   "execution_count": 52,
   "metadata": {},
   "outputs": [
    {
     "name": "stdout",
     "output_type": "stream",
     "text": [
      "_________________\n",
      "Confusion Matrix:\n",
      "\tAccuracy: 0.7740112994350282\n",
      "\tPrecision: 1.0\n",
      "\tRecall: 0.047619047619047616\n",
      "\tF1 Score: 0.0909090909090909\n",
      "_________________\n"
     ]
    }
   ],
   "source": [
    "get_classification_score(*test_classifications)"
   ]
  },
  {
   "cell_type": "code",
   "execution_count": 53,
   "metadata": {},
   "outputs": [],
   "source": [
    "validation_results = cvModel_lr.transform(validation)\n",
    "\n",
    "# Get Validation claffications\n",
    "tp_valid = validation_results.filter(\"label = 1 and prediction = 1\").count()\n",
    "fp_valid = validation_results.filter(\"label = 0 and prediction = 1\").count()\n",
    "fn_valid = validation_results.filter(\"label = 1 and prediction = 0\").count()\n",
    "tn_valid = validation_results.filter(\"label = 0 and prediction = 0\").count()\n",
    "\n",
    "# Group into list\n",
    "valid_classifications = [tp_valid, \n",
    "                         tn_valid, \n",
    "                         fp_valid, \n",
    "                         fn_valid]"
   ]
  },
  {
   "cell_type": "code",
   "execution_count": 54,
   "metadata": {},
   "outputs": [
    {
     "name": "stdout",
     "output_type": "stream",
     "text": [
      "[[ 0  2]\n",
      " [ 9 38]]\n"
     ]
    }
   ],
   "source": [
    "print_cm(*valid_classifications)"
   ]
  },
  {
   "cell_type": "code",
   "execution_count": 55,
   "metadata": {},
   "outputs": [
    {
     "name": "stdout",
     "output_type": "stream",
     "text": [
      "_________________\n",
      "Confusion Matrix:\n",
      "\tAccuracy: 0.7755102040816326\n",
      "\tPrecision: 0.0\n",
      "\tRecall: 0.0\n",
      "\tF1 Score: nan\n",
      "_________________\n"
     ]
    }
   ],
   "source": [
    "get_classification_score(*valid_classifications)"
   ]
  },
  {
   "cell_type": "markdown",
   "metadata": {},
   "source": [
    "We can see that his model doesn't perform particularly well. Despite getting a validation accuracy of 79%, our precision and recall are either zero or undefined. \n",
    "\n",
    "We can see from our confusion matrix that this model simply classified all users as not churning. This will create a true negative rate that we want but it won't give us good positive results.\n",
    "\n",
    "Even if we look at the training scores, it is not particularly great. Allthough we have good precision, our recall is pretty low meaning that there are a lot of positive examples that we are missing.\n",
    "\n",
    "This could be because are model is relatively high bias and so making complicated judgments is relatively difficult. If we view the graphs back in the exporatory data analysis section then we can also see that there is a strong overlap between churners and non-churners, meaning that the model will likely have an easier time finding non-churners where the separation is better.\n",
    "\n",
    "It should also be mentioned that the number of rows and features are also very low. We are working with roughly 250 observations which is not very high, so one of the first orders to do would also be to run this on the whole cluster before adding more features and then finally increasing the model complexity as a last resort.\n",
    "\n",
    "This means that to improve this model we can do three things:\n",
    "\n",
    "\n",
    "1. Move this analysis onto a cluster using the full dataset\n",
    "2. Engineer more features to help distinguish between churn and non churn users\n",
    "3. Use a higher variance model\n",
    "\n",
    "Before going back to refine the feature engineering, let's have a look at some coeficients."
   ]
  },
  {
   "cell_type": "code",
   "execution_count": 56,
   "metadata": {},
   "outputs": [
    {
     "data": {
      "text/html": [
       "<div>\n",
       "<style scoped>\n",
       "    .dataframe tbody tr th:only-of-type {\n",
       "        vertical-align: middle;\n",
       "    }\n",
       "\n",
       "    .dataframe tbody tr th {\n",
       "        vertical-align: top;\n",
       "    }\n",
       "\n",
       "    .dataframe thead th {\n",
       "        text-align: right;\n",
       "    }\n",
       "</style>\n",
       "<table border=\"1\" class=\"dataframe\">\n",
       "  <thead>\n",
       "    <tr style=\"text-align: right;\">\n",
       "      <th></th>\n",
       "      <th>feature</th>\n",
       "      <th>coefficient</th>\n",
       "    </tr>\n",
       "  </thead>\n",
       "  <tbody>\n",
       "    <tr>\n",
       "      <th>3</th>\n",
       "      <td>Ratio_TU_v_TD</td>\n",
       "      <td>5479.160452</td>\n",
       "    </tr>\n",
       "    <tr>\n",
       "      <th>2</th>\n",
       "      <td>n_friends_added</td>\n",
       "      <td>1720.411792</td>\n",
       "    </tr>\n",
       "    <tr>\n",
       "      <th>0</th>\n",
       "      <td>avg_intra_session_time</td>\n",
       "      <td>0.000000</td>\n",
       "    </tr>\n",
       "    <tr>\n",
       "      <th>1</th>\n",
       "      <td>total_play_time</td>\n",
       "      <td>0.000000</td>\n",
       "    </tr>\n",
       "    <tr>\n",
       "      <th>4</th>\n",
       "      <td>Intercept</td>\n",
       "      <td>-1.224377</td>\n",
       "    </tr>\n",
       "  </tbody>\n",
       "</table>\n",
       "</div>"
      ],
      "text/plain": [
       "                  feature  coefficient\n",
       "3           Ratio_TU_v_TD  5479.160452\n",
       "2         n_friends_added  1720.411792\n",
       "0  avg_intra_session_time     0.000000\n",
       "1         total_play_time     0.000000\n",
       "4               Intercept    -1.224377"
      ]
     },
     "execution_count": 56,
     "metadata": {},
     "output_type": "execute_result"
    }
   ],
   "source": [
    "# Print the coefficients and intercept for logistic regression\n",
    "\n",
    "df_lr_coeff = pd.DataFrame(dict(feature = df_features_raw.columns[1:-1]+[\"Intercept\"],\n",
    "                                coefficient = [i for i in cvModel_lr.bestModel.coefficients]+\\\n",
    "                                [i for i in [cvModel_lr.bestModel.intercept]]))\n",
    "\n",
    "# Pring DataFrame\n",
    "df_lr_coeff.sort_values(\"coefficient\", ascending=False)"
   ]
  },
  {
   "cell_type": "code",
   "execution_count": 57,
   "metadata": {},
   "outputs": [
    {
     "data": {
      "image/png": "[encoded data removed]",
      "text/plain": [
       "<matplotlib.figure.Figure at 0x7f75d9c36470>"
      ]
     },
     "metadata": {
      "needs_background": "light"
     },
     "output_type": "display_data"
    }
   ],
   "source": [
    "# Plot Values\n",
    "df_lr_coeff.sort_values(\"coefficient\", ascending=True).set_index(\"feature\").plot(kind=\"barh\");"
   ]
  },
  {
   "cell_type": "markdown",
   "metadata": {},
   "source": [
    "The features with the highest coefficients are the n_friends added and ratio of thumbs up vs thumbs down. The average intra session time and total play time did not appear to play as much of a role. So it seems that people will stay churn somewhat depending on their social interactions and *how much they like the music that they are listening to*.\n",
    "\n",
    "So here are some features I would suggest adding:\n",
    "\n",
    "1. Number of Artists Listened to\n",
    "2. Number of Songs Added to Playlist"
   ]
  },
  {
   "cell_type": "markdown",
   "metadata": {},
   "source": [
    "## Improve Upon Base Model\n",
    "\n",
    "### Revisit Feature Engineering\n",
    "\n",
    "Task: Add number of artists and Number of Songs Listened"
   ]
  },
  {
   "cell_type": "code",
   "execution_count": 58,
   "metadata": {},
   "outputs": [
    {
     "data": {
      "text/plain": [
       "['artist',\n",
       " 'auth',\n",
       " 'firstName',\n",
       " 'gender',\n",
       " 'itemInSession',\n",
       " 'lastName',\n",
       " 'length',\n",
       " 'level',\n",
       " 'location',\n",
       " 'method',\n",
       " 'page',\n",
       " 'registration',\n",
       " 'sessionId',\n",
       " 'song',\n",
       " 'status',\n",
       " 'ts',\n",
       " 'userAgent',\n",
       " 'userId',\n",
       " 'rank']"
      ]
     },
     "execution_count": 58,
     "metadata": {},
     "output_type": "execute_result"
    }
   ],
   "source": [
    "df_unique.columns"
   ]
  },
  {
   "cell_type": "code",
   "execution_count": 59,
   "metadata": {},
   "outputs": [],
   "source": [
    "# Create SQL with Relevant Features\n",
    "df_features_raw2 = spark.sql(\"\"\"\n",
    "    WITH usr_intrasesh AS (\n",
    "    SELECT userId, \n",
    "           itemInSession, \n",
    "           ts - LAG(ts) OVER (PARTITION BY userId ORDER BY ts) AS intra_session_time\n",
    "    FROM df_unique\n",
    "    WHERE itemInSession = 0\n",
    "    ) \n",
    "\n",
    "    SELECT du.userId,\n",
    "           NVL(ui.avg_intra_session_time, 0) AS avg_intra_session_time,\n",
    "           NVL(SUM(length), 0) AS total_play_time, \n",
    "           NVL(SUM(CASE WHEN page = 'Add Friend' THEN 1 ELSE 0 END), 0) AS n_friends_added,\n",
    "           NVL(SUM(CASE WHEN page = 'Thumbs Up' THEN 1 ELSE 0 END) /\n",
    "               SUM(CASE WHEN page = 'Thumbs Down' THEN 1 ELSE 0 END), 0) AS Ratio_TU_v_TD,\n",
    "           NVL(COUNT(DISTINCT artist), 0) AS n_artists,\n",
    "           NVL(COUNT(song), 0) AS n_songs,\n",
    "           NVL(SUM(CASE WHEN page = 'Add to Playlist' THEN 1 ELSE 0 END), 0) AS n_added_to_playlist,\n",
    "           NVL(MAX(CASE WHEN page = 'Cancellation Confirmation' THEN 1 ELSE 0 END), 0) AS label\n",
    "    FROM df_unique AS du\n",
    "    LEFT JOIN (SELECT userId, AVG(intra_session_time) avg_intra_session_time\n",
    "               FROM usr_intrasesh\n",
    "               GROUP BY 1) AS ui\n",
    "               ON ui.userId = du.userId\n",
    "    GROUP BY 1, 2\n",
    "\"\"\")\n",
    "\n",
    "# Create Temp View\n",
    "df_features_raw.createOrReplaceTempView(\"df_features_raw2\")"
   ]
  },
  {
   "cell_type": "code",
   "execution_count": 60,
   "metadata": {},
   "outputs": [],
   "source": [
    "# Get columns\n",
    "cols = df_features_raw2.columns[1:-1]\n",
    "\n",
    "# Create vector assembler\n",
    "assembler = VectorAssembler(inputCols=cols, \n",
    "                            outputCol=\"DescVec\")\n",
    "\n",
    "df_features_unnormalised2 = assembler.transform(df_features_raw2)"
   ]
  },
  {
   "cell_type": "code",
   "execution_count": 61,
   "metadata": {},
   "outputs": [],
   "source": [
    "# Normalise features\n",
    "df_features2 = scaler.transform(df_features_unnormalised2).select([\"features\", \"label\"])"
   ]
  },
  {
   "cell_type": "markdown",
   "metadata": {},
   "source": [
    "### Try again on Base Model\n",
    "\n"
   ]
  },
  {
   "cell_type": "code",
   "execution_count": 62,
   "metadata": {},
   "outputs": [],
   "source": [
    "# Perform Train Test split\n",
    "train2, validation2 = df_features2.randomSplit([0.8, 0.2], seed=5318008)"
   ]
  },
  {
   "cell_type": "code",
   "execution_count": 63,
   "metadata": {},
   "outputs": [
    {
     "name": "stdout",
     "output_type": "stream",
     "text": [
      "Loading existing model\n"
     ]
    }
   ],
   "source": [
    "if not os.path.isdir(\"./logisticRegression2\"):\n",
    "    \n",
    "    print(\"Model not existing yet, training a new one...\")\n",
    "    \n",
    "    # Get Start time\n",
    "    train_time_start = time()\n",
    "    \n",
    "    # Train Model\n",
    "    cvModel_lr2 = crossval.fit(train)\n",
    "\n",
    "    # Get End time\n",
    "    train_time_end = time()\n",
    "    \n",
    "    print(\"Training complete! \\n\\t Training time:\", (train_time_end - train_time_start)/60, \"mins.\")\n",
    "    \n",
    "    # Save model for later\n",
    "    cvModel_lr2.save(\"./logisticRegression2\")\n",
    "else:\n",
    "    print(\"Loading existing model\")\n",
    "    cvModel_lr2 = CrossValidatorModel.load(\"./logisticRegression2\")"
   ]
  },
  {
   "cell_type": "code",
   "execution_count": 64,
   "metadata": {},
   "outputs": [],
   "source": [
    "# Assess Training results\n",
    "train_results2 = cvModel_lr2.transform(train2)\n",
    "\n",
    "# Get Validation claffications\n",
    "tp_train2 = train_results2.filter(\"label = 1 and prediction = 1\").count()\n",
    "fp_train2 = train_results2.filter(\"label = 0 and prediction = 1\").count()\n",
    "fn_train2 = train_results2.filter(\"label = 1 and prediction = 0\").count()\n",
    "tn_train2 = train_results2.filter(\"label = 0 and prediction = 0\").count()\n",
    "\n",
    "# Group into list\n",
    "train_classifications2 = [tp_train2, \n",
    "                        tn_train2, \n",
    "                        fp_train2, \n",
    "                        fn_train2]"
   ]
  },
  {
   "cell_type": "code",
   "execution_count": 65,
   "metadata": {},
   "outputs": [
    {
     "name": "stdout",
     "output_type": "stream",
     "text": [
      "[[ 11   1]\n",
      " [ 31 134]]\n"
     ]
    }
   ],
   "source": [
    "print_cm(*train_classifications2)"
   ]
  },
  {
   "cell_type": "code",
   "execution_count": 66,
   "metadata": {
    "scrolled": false
   },
   "outputs": [
    {
     "name": "stdout",
     "output_type": "stream",
     "text": [
      "_________________\n",
      "Confusion Matrix:\n",
      "\tAccuracy: 0.8192090395480226\n",
      "\tPrecision: 0.9166666666666666\n",
      "\tRecall: 0.2619047619047619\n",
      "\tF1 Score: 0.4074074074074074\n",
      "_________________\n"
     ]
    }
   ],
   "source": [
    "get_classification_score(*train_classifications2)"
   ]
  },
  {
   "cell_type": "code",
   "execution_count": 67,
   "metadata": {},
   "outputs": [],
   "source": [
    "# Assess Validation Results\n",
    "valid_results2 = cvModel_lr2.transform(validation2)\n",
    "\n",
    "# Get Validation claffications\n",
    "tp_valid2 = valid_results2.filter(\"label = 1 and prediction = 1\").count()\n",
    "fp_valid2 = valid_results2.filter(\"label = 0 and prediction = 1\").count()\n",
    "fn_valid2 = valid_results2.filter(\"label = 1 and prediction = 0\").count()\n",
    "tn_valid2 = valid_results2.filter(\"label = 0 and prediction = 0\").count()\n",
    "\n",
    "# Group into list\n",
    "valid_classifications2 = [tp_valid2, \n",
    "                          fp_valid2, \n",
    "                          fn_valid2, \n",
    "                          tn_valid2]"
   ]
  },
  {
   "cell_type": "code",
   "execution_count": 68,
   "metadata": {},
   "outputs": [
    {
     "name": "stdout",
     "output_type": "stream",
     "text": [
      "[[ 0  9]\n",
      " [34  6]]\n"
     ]
    }
   ],
   "source": [
    "print_cm(*valid_classifications2)"
   ]
  },
  {
   "cell_type": "code",
   "execution_count": 69,
   "metadata": {},
   "outputs": [
    {
     "name": "stdout",
     "output_type": "stream",
     "text": [
      "_________________\n",
      "Confusion Matrix:\n",
      "\tAccuracy: 0.12244897959183673\n",
      "\tPrecision: 0.0\n",
      "\tRecall: 0.0\n",
      "\tF1 Score: nan\n",
      "_________________\n"
     ]
    }
   ],
   "source": [
    "get_classification_score(*valid_classifications2)"
   ]
  },
  {
   "cell_type": "code",
   "execution_count": 70,
   "metadata": {},
   "outputs": [
    {
     "data": {
      "text/html": [
       "<div>\n",
       "<style scoped>\n",
       "    .dataframe tbody tr th:only-of-type {\n",
       "        vertical-align: middle;\n",
       "    }\n",
       "\n",
       "    .dataframe tbody tr th {\n",
       "        vertical-align: top;\n",
       "    }\n",
       "\n",
       "    .dataframe thead th {\n",
       "        text-align: right;\n",
       "    }\n",
       "</style>\n",
       "<table border=\"1\" class=\"dataframe\">\n",
       "  <thead>\n",
       "    <tr style=\"text-align: right;\">\n",
       "      <th></th>\n",
       "      <th>feature</th>\n",
       "      <th>coefficient</th>\n",
       "    </tr>\n",
       "  </thead>\n",
       "  <tbody>\n",
       "    <tr>\n",
       "      <th>3</th>\n",
       "      <td>Ratio_TU_v_TD</td>\n",
       "      <td>1.440863e+07</td>\n",
       "    </tr>\n",
       "    <tr>\n",
       "      <th>6</th>\n",
       "      <td>n_added_to_playlist</td>\n",
       "      <td>3.333629e+06</td>\n",
       "    </tr>\n",
       "    <tr>\n",
       "      <th>2</th>\n",
       "      <td>n_friends_added</td>\n",
       "      <td>2.294887e+06</td>\n",
       "    </tr>\n",
       "    <tr>\n",
       "      <th>4</th>\n",
       "      <td>n_artists</td>\n",
       "      <td>1.848254e+06</td>\n",
       "    </tr>\n",
       "    <tr>\n",
       "      <th>1</th>\n",
       "      <td>total_play_time</td>\n",
       "      <td>7.062210e+03</td>\n",
       "    </tr>\n",
       "    <tr>\n",
       "      <th>0</th>\n",
       "      <td>avg_intra_session_time</td>\n",
       "      <td>3.781447e+03</td>\n",
       "    </tr>\n",
       "    <tr>\n",
       "      <th>7</th>\n",
       "      <td>Intercept</td>\n",
       "      <td>-3.783353e+03</td>\n",
       "    </tr>\n",
       "    <tr>\n",
       "      <th>5</th>\n",
       "      <td>n_songs</td>\n",
       "      <td>-3.056069e+06</td>\n",
       "    </tr>\n",
       "  </tbody>\n",
       "</table>\n",
       "</div>"
      ],
      "text/plain": [
       "                  feature   coefficient\n",
       "3           Ratio_TU_v_TD  1.440863e+07\n",
       "6     n_added_to_playlist  3.333629e+06\n",
       "2         n_friends_added  2.294887e+06\n",
       "4               n_artists  1.848254e+06\n",
       "1         total_play_time  7.062210e+03\n",
       "0  avg_intra_session_time  3.781447e+03\n",
       "7               Intercept -3.783353e+03\n",
       "5                 n_songs -3.056069e+06"
      ]
     },
     "execution_count": 70,
     "metadata": {},
     "output_type": "execute_result"
    }
   ],
   "source": [
    "# Print the coefficients and intercept for logistic regression\n",
    "df_lr_coeff2 = pd.DataFrame(dict(feature = df_features_raw2.columns[1:-1]+[\"Intercept\"],\n",
    "                                coefficient = [i for i in cvModel_lr2.bestModel.coefficients]+\\\n",
    "                                [i for i in [cvModel_lr2.bestModel.intercept]]))\n",
    "\n",
    "# Pring DataFrame\n",
    "df_lr_coeff2.sort_values(\"coefficient\", ascending=False)"
   ]
  },
  {
   "cell_type": "code",
   "execution_count": 71,
   "metadata": {},
   "outputs": [
    {
     "data": {
      "image/png": "[encoded data removed]",
      "text/plain": [
       "<matplotlib.figure.Figure at 0x7f75d9b7b898>"
      ]
     },
     "metadata": {
      "needs_background": "light"
     },
     "output_type": "display_data"
    }
   ],
   "source": [
    "# Plot Values\n",
    "df_lr_coeff2.sort_values(\"coefficient\", ascending=True).set_index(\"feature\").plot(kind=\"barh\");"
   ]
  },
  {
   "cell_type": "markdown",
   "metadata": {},
   "source": [
    "We can see that adding some new features did not do a lot to help the model. It is a slight improvement that the logistic regress doesn't simply classify everything as being negative but there are still issues  when it comes to false positives and false negatives.\n",
    "\n",
    "Let's try this dataset on another model and see how it fares. It might just be that a logistic regression does not have the amount of variation required within the model to predict on this dataset very well."
   ]
  },
  {
   "cell_type": "markdown",
   "metadata": {},
   "source": [
    "### Alternative: Model Decision Tree"
   ]
  },
  {
   "cell_type": "code",
   "execution_count": 72,
   "metadata": {},
   "outputs": [
    {
     "name": "stdout",
     "output_type": "stream",
     "text": [
      "Loading existing model\n"
     ]
    }
   ],
   "source": [
    "# Create Decision Tree\n",
    "dt = DecisionTreeClassifier()\n",
    "paramGrid = ParamGridBuilder() \\\n",
    "    .addGrid(dt.impurity,['entropy', 'gini']) \\\n",
    "    .addGrid(dt.maxDepth,[2, 3, 4, 5, 6, 7, 8]) \\\n",
    "    .build()\n",
    "\n",
    "crossval_dt = CrossValidator(estimator=dt,\n",
    "                          estimatorParamMaps=paramGrid,\n",
    "                          evaluator=BinaryClassificationEvaluator(),\n",
    "                          numFolds=3)\n",
    "\n",
    "crossval.setSeed(42)\n",
    "\n",
    "if not os.path.isdir(\"./decisionTree1\"):\n",
    "    \n",
    "    print(\"Model not existing yet, training a new one...\")\n",
    "    \n",
    "    # Get Start time\n",
    "    train_time_start = time()\n",
    "    \n",
    "    # Train Model\n",
    "    cvModel_dt = crossval_dt.fit(train)\n",
    "\n",
    "    # Get End time\n",
    "    train_time_end = time()\n",
    "    \n",
    "    print(\"Training complete! \\n\\t Training time:\", (train_time_end - train_time_start)/60, \"mins.\")\n",
    "    \n",
    "    # Save model for later\n",
    "    cvModel_dt.save(\"./decisionTree1\")\n",
    "else:\n",
    "    print(\"Loading existing model\")\n",
    "    cvModel_dt = CrossValidatorModel.load(\"./decisionTree1\")"
   ]
  },
  {
   "cell_type": "code",
   "execution_count": 73,
   "metadata": {},
   "outputs": [],
   "source": [
    "# Assess results for test set\n",
    "train_results2 = cvModel_dt.transform(train2)\n",
    "\n",
    "# Get Validation claffications\n",
    "tp_train2 = train_results2.filter(\"label = 1 and prediction = 1\").count()\n",
    "fp_train2 = train_results2.filter(\"label = 0 and prediction = 1\").count()\n",
    "fn_train2 = train_results2.filter(\"label = 1 and prediction = 0\").count()\n",
    "tn_train2 = train_results2.filter(\"label = 0 and prediction = 0\").count()\n",
    "\n",
    "# Group into list\n",
    "test_classifications2 = [tp_train2, \n",
    "                        tn_train2, \n",
    "                        fp_train2, \n",
    "                        fn_train2]"
   ]
  },
  {
   "cell_type": "code",
   "execution_count": 74,
   "metadata": {},
   "outputs": [
    {
     "name": "stdout",
     "output_type": "stream",
     "text": [
      "[[ 35  11]\n",
      " [  7 124]]\n"
     ]
    }
   ],
   "source": [
    "print_cm(*test_classifications2)"
   ]
  },
  {
   "cell_type": "code",
   "execution_count": 75,
   "metadata": {},
   "outputs": [
    {
     "name": "stdout",
     "output_type": "stream",
     "text": [
      "_________________\n",
      "Confusion Matrix:\n",
      "\tAccuracy: 0.8983050847457628\n",
      "\tPrecision: 0.7608695652173914\n",
      "\tRecall: 0.8333333333333334\n",
      "\tF1 Score: 0.7954545454545455\n",
      "_________________\n"
     ]
    }
   ],
   "source": [
    "get_classification_score(*test_classifications2)"
   ]
  },
  {
   "cell_type": "code",
   "execution_count": 76,
   "metadata": {},
   "outputs": [],
   "source": [
    "# Assess results for validation set\n",
    "valid_results2 = cvModel_dt.transform(validation2)\n",
    "\n",
    "# Get Validation claffications\n",
    "tp_valid2 = valid_results2.filter(\"label = 1 and prediction = 1\").count()\n",
    "fp_valid2 = valid_results2.filter(\"label = 0 and prediction = 1\").count()\n",
    "fn_valid2 = valid_results2.filter(\"label = 1 and prediction = 0\").count()\n",
    "tn_valid2 = valid_results2.filter(\"label = 0 and prediction = 0\").count()\n",
    "\n",
    "# Group into list\n",
    "valid_classifications2 = [tp_valid2, \n",
    "                         tn_valid2, \n",
    "                         fp_valid2, \n",
    "                         fn_valid2]"
   ]
  },
  {
   "cell_type": "code",
   "execution_count": 77,
   "metadata": {},
   "outputs": [
    {
     "name": "stdout",
     "output_type": "stream",
     "text": [
      "[[ 2 13]\n",
      " [ 7 27]]\n"
     ]
    }
   ],
   "source": [
    "print_cm(*valid_classifications2)"
   ]
  },
  {
   "cell_type": "code",
   "execution_count": 78,
   "metadata": {
    "scrolled": true
   },
   "outputs": [
    {
     "name": "stdout",
     "output_type": "stream",
     "text": [
      "_________________\n",
      "Confusion Matrix:\n",
      "\tAccuracy: 0.5918367346938775\n",
      "\tPrecision: 0.13333333333333333\n",
      "\tRecall: 0.2222222222222222\n",
      "\tF1 Score: 0.16666666666666669\n",
      "_________________\n"
     ]
    }
   ],
   "source": [
    "get_classification_score(*valid_classifications2)"
   ]
  },
  {
   "cell_type": "code",
   "execution_count": 79,
   "metadata": {},
   "outputs": [
    {
     "data": {
      "text/plain": [
       "('entropy', 7)"
      ]
     },
     "execution_count": 79,
     "metadata": {},
     "output_type": "execute_result"
    }
   ],
   "source": [
    "cvModel_dt.bestModel._java_obj.getImpurity(), cvModel_dt.bestModel._java_obj.getMaxDepth()"
   ]
  },
  {
   "cell_type": "markdown",
   "metadata": {},
   "source": [
    "We can see here that choosing a different algorithm did quite a lot to improve our score.\n",
    "\n",
    "Now, it might be a little weird to think of this as an improvement but the reason why I say so is because at least my precision and recall are values greater than zero. Although accuracy took a hit, the fact of the matter is that before I wasn't getting any true positive classifications.\n",
    "\n",
    "The fact that this tree has a depth of 8 as well shows that a model with a little higher variance than a logistic regression can go a long way to improving the model. \n",
    "\n",
    "The next place to focus would be on engineering more features so that the number of false positives and false negatives go down. This might require more experimentation with other models but I would also like to get rid of features that don't contribute much to the model. "
   ]
  },
  {
   "cell_type": "markdown",
   "metadata": {},
   "source": [
    "### Checking Decision Tree's Robustness\n",
    "\n",
    "One final question that I would like to answer is in regard to how stable the model is. To answer this question I will perform train/test splits on the dataset using different seeds and, train the model based on the optimal hyperparameters printed above and then aggregate the resultant metrics (accuracy, precision, recall, f1, etc.) to get their means and deviations."
   ]
  },
  {
   "cell_type": "code",
   "execution_count": 80,
   "metadata": {},
   "outputs": [
    {
     "name": "stdout",
     "output_type": "stream",
     "text": [
      "Importing already completed test\n"
     ]
    }
   ],
   "source": [
    "if not os.path.isfile(\"./robustness_test.csv\"):\n",
    "    robust_dict = dict(seed = [],\n",
    "                            accuracy = [],\n",
    "                            precision = [],\n",
    "                            recall = [],\n",
    "                            f1 = [])\n",
    "\n",
    "    for i in trange(10):\n",
    "\n",
    "        # Create tree for robustness testing\n",
    "        dt_robust_test = DecisionTreeClassifier(impurity=cvModel_dt.bestModel._java_obj.getImpurity(),\n",
    "                                                maxDepth = cvModel_dt.bestModel._java_obj.getMaxDepth())\n",
    "\n",
    "        # Create Dataset for robustness testing\n",
    "        train_robust, validation_robust = df_features2.randomSplit([0.8, 0.2], seed=i)\n",
    "\n",
    "        # Train Model\n",
    "        dt_robust_test = dt_robust_test.fit(train_robust)\n",
    "\n",
    "        # Predict on Validation Data\n",
    "        # Assess results for validation set\n",
    "        valid_results_robust = dt_robust_test.transform(validation_robust)\n",
    "\n",
    "        # Get Validation claffications\n",
    "        tp_robust = valid_results_robust.filter(\"label = 1 and prediction = 1\").count()\n",
    "        fp_robust = valid_results_robust.filter(\"label = 0 and prediction = 1\").count()\n",
    "        fn_robust = valid_results_robust.filter(\"label = 1 and prediction = 0\").count()\n",
    "        tn_robust = valid_results_robust.filter(\"label = 0 and prediction = 0\").count()\n",
    "\n",
    "        # Get metrics\n",
    "        acc, prec, recall, f1 = get_classification_score(tp_robust, \n",
    "                                                         fp_robust, \n",
    "                                                         fn_robust, \n",
    "                                                         tn_robust, \n",
    "                                                         print_stats=False, \n",
    "                                                         return_stats=True)\n",
    "        robust_dict[\"seed\"].append(i)\n",
    "        robust_dict[\"accuracy\"].append(acc)\n",
    "        robust_dict[\"precision\"].append(prec)\n",
    "        robust_dict[\"recall\"].append(recall)\n",
    "        robust_dict[\"f1\"].append(f1)\n",
    "\n",
    "    df_robust = pd.DataFrame(robust_dict)\n",
    "\n",
    "    # Save df_robust\n",
    "    df_robust.to_csv(\"./robustness_test.csv\", index=False)\n",
    "    \n",
    "else:\n",
    "    print(\"Importing already completed test\")\n",
    "    df_robust = pd.read_csv(\"./robustness_test.csv\")"
   ]
  },
  {
   "cell_type": "code",
   "execution_count": 81,
   "metadata": {},
   "outputs": [
    {
     "data": {
      "text/html": [
       "<div>\n",
       "<style scoped>\n",
       "    .dataframe tbody tr th:only-of-type {\n",
       "        vertical-align: middle;\n",
       "    }\n",
       "\n",
       "    .dataframe tbody tr th {\n",
       "        vertical-align: top;\n",
       "    }\n",
       "\n",
       "    .dataframe thead th {\n",
       "        text-align: right;\n",
       "    }\n",
       "</style>\n",
       "<table border=\"1\" class=\"dataframe\">\n",
       "  <thead>\n",
       "    <tr style=\"text-align: right;\">\n",
       "      <th></th>\n",
       "      <th>index</th>\n",
       "      <th>seed</th>\n",
       "      <th>accuracy</th>\n",
       "      <th>precision</th>\n",
       "      <th>recall</th>\n",
       "      <th>f1</th>\n",
       "    </tr>\n",
       "  </thead>\n",
       "  <tbody>\n",
       "    <tr>\n",
       "      <th>1</th>\n",
       "      <td>mean</td>\n",
       "      <td>4.50000</td>\n",
       "      <td>0.158851</td>\n",
       "      <td>0.253846</td>\n",
       "      <td>0.070165</td>\n",
       "      <td>0.108664</td>\n",
       "    </tr>\n",
       "    <tr>\n",
       "      <th>2</th>\n",
       "      <td>std</td>\n",
       "      <td>3.02765</td>\n",
       "      <td>0.090596</td>\n",
       "      <td>0.119084</td>\n",
       "      <td>0.038345</td>\n",
       "      <td>0.055646</td>\n",
       "    </tr>\n",
       "  </tbody>\n",
       "</table>\n",
       "</div>"
      ],
      "text/plain": [
       "  index     seed  accuracy  precision    recall        f1\n",
       "1  mean  4.50000  0.158851   0.253846  0.070165  0.108664\n",
       "2   std  3.02765  0.090596   0.119084  0.038345  0.055646"
      ]
     },
     "execution_count": 81,
     "metadata": {},
     "output_type": "execute_result"
    }
   ],
   "source": [
    "# Print out table with mean and std for each mextric\n",
    "df_robust.describe().reset_index().query(\"index in ['mean', 'std']\")"
   ]
  },
  {
   "cell_type": "code",
   "execution_count": 82,
   "metadata": {},
   "outputs": [
    {
     "data": {
      "image/png": "[encoded data removed]",
      "text/plain": [
       "<matplotlib.figure.Figure at 0x7f75d95a3940>"
      ]
     },
     "metadata": {
      "needs_background": "light"
     },
     "output_type": "display_data"
    }
   ],
   "source": [
    "# Create box plot\n",
    "ax = df_robust[[\"accuracy\", \"precision\", \"recall\", \"f1\"]].plot(kind='box', color=color_cycle[0])\n",
    "plt.title(\"\")\n",
    "plt.ylim(0, 1)\n",
    "plt.title(\"Results of Robustness Test\")\n",
    "plt.xlabel(\"Classification Metric\")\n",
    "plt.ylabel(\"Score\")\n",
    "plt.show()"
   ]
  },
  {
   "cell_type": "markdown",
   "metadata": {},
   "source": [
    "We can see that the model performs consistently poorly. The recall doesn't budge above 0.2 which means that we miss a lot of observations that should be labeled as being a positive classification.\n",
    "\n",
    "Precision tends to be a little higher, which makes sense because it is difficult to predict when someone will churn. It is surprising that the accuracy is so low, this would be because we are getting a lot of false positives and false negatives which will also be why the precision and recall is low as well.\n",
    "\n",
    "If it is difficult to predict when someone will churn then we either need to feed the model more data by sizing up to a full cluster, add features that provide different patterns of data to what we have already submitted or increase complexity of our model. These are the things I would focus on to improve."
   ]
  },
  {
   "cell_type": "markdown",
   "metadata": {},
   "source": [
    "# Part 5: Conclusion\n",
    "\n",
    "## Reflection\n",
    "\n",
    "In this project, we took some data from the sparkify platform and checked it for duplicated and missing data. It was found that the data was mostly clean despite some duplication.\n",
    "\n",
    "Afterwards some basic EDA was done to find which columns within the dataset should be focused on. It was found that pages contained the most interesting information along with some of the details with songs that could be found in the relevant columns.\n",
    "\n",
    "After trying to think about what kind of things would cause someone to leave a service, a number of features were suggested and verified. These were intrasession time, number of songs added to playlists, number of friends added, and  the ratio of thumbs up to thumbs down. Other suggested features such as the number of errors werent numerous enough to use and so they were left behind.\n",
    "\n",
    "After doing some initial fitting of a logistic regression model, it was found that the score was not very high this was due to various reasons.\n",
    "\n",
    "1. Logistic regressions don't seem to perform well on this dataset\n",
    "2. There were still a number of features that I could add to add some variation with which to distinguish users\n",
    "3. The validation set was relatively small and I felt that a bigger one would give a better picture of how the model was generalising. (It is worth noting that 250 observations is really small and for true performances of these models, we would need to scale up so that the number of observations surpasses at least 1000.)\n",
    "\n",
    "## Difficulties\n",
    "\n",
    "What I found most difficult about this investigation was geting used to working with Spark instead of using SKLearn. I got around this with a lot of googling and depending a lot on spark's sql functions, allowing me to make use of my knowledge of SQL.\n",
    "\n",
    "Another thing I found difficult is models taking a long time to train. This more of a drawback of using a VM and not having a large cluster of computers to make computation speed a little faster. \n",
    "\n",
    "\n",
    "## Improvement\n",
    "\n",
    "I believe that looking at other models and doing some more feature engineering will help to bring this model a little further. However, getting a top notch model is beyond the scope of this project.\n",
    "\n",
    "Furthermore, I think that if the number of observations were to increase, we could start thinking about using undersampling in order to help with the class imbalance. I an curious to see what the outcomes of this would be. \n",
    "\n",
    "Having more computational power would also allow us to search over a wider area with grid search, possibly allowing for better models."
   ]
  },
  {
   "cell_type": "code",
   "execution_count": null,
   "metadata": {},
   "outputs": [],
   "source": []
  }
 ],
 "metadata": {
  "kernelspec": {
   "display_name": "Python 3",
   "language": "python",
   "name": "python3"
  },
  "language_info": {
   "codemirror_mode": {
    "name": "ipython",
    "version": 3
   },
   "file_extension": ".py",
   "mimetype": "text/x-python",
   "name": "python",
   "nbconvert_exporter": "python",
   "pygments_lexer": "ipython3",
   "version": "3.6.3"
  }
 },
 "nbformat": 4,
 "nbformat_minor": 2
}
